{
 "cells": [
  {
   "cell_type": "code",
   "execution_count": 1,
   "metadata": {},
   "outputs": [],
   "source": [
    "import tensorflow as tf"
   ]
  },
  {
   "cell_type": "code",
   "execution_count": 2,
   "metadata": {},
   "outputs": [],
   "source": [
    "import numpy as np"
   ]
  },
  {
   "cell_type": "code",
   "execution_count": 3,
   "metadata": {},
   "outputs": [],
   "source": [
    "import pandas as pd"
   ]
  },
  {
   "cell_type": "code",
   "execution_count": 4,
   "metadata": {},
   "outputs": [],
   "source": [
    "import mne"
   ]
  },
  {
   "cell_type": "code",
   "execution_count": 5,
   "metadata": {},
   "outputs": [],
   "source": [
    "import os"
   ]
  },
  {
   "cell_type": "code",
   "execution_count": 6,
   "metadata": {},
   "outputs": [
    {
     "name": "stderr",
     "output_type": "stream",
     "text": [
      "Using TensorFlow backend.\n"
     ]
    }
   ],
   "source": [
    "import keras"
   ]
  },
  {
   "cell_type": "code",
   "execution_count": 7,
   "metadata": {},
   "outputs": [],
   "source": [
    "import seaborn as sns"
   ]
  },
  {
   "cell_type": "code",
   "execution_count": 8,
   "metadata": {},
   "outputs": [],
   "source": [
    "from collections import Counter"
   ]
  },
  {
   "cell_type": "code",
   "execution_count": 9,
   "metadata": {},
   "outputs": [],
   "source": [
    "from tqdm import tqdm_notebook\n",
    "from tqdm import tqdm_notebook as tqdm"
   ]
  },
  {
   "cell_type": "code",
   "execution_count": 10,
   "metadata": {},
   "outputs": [],
   "source": [
    "import matplotlib.pyplot as plt"
   ]
  },
  {
   "cell_type": "markdown",
   "metadata": {},
   "source": [
    "Какие каналы содержат "
   ]
  },
  {
   "cell_type": "markdown",
   "metadata": {},
   "source": [
    "Dataset:\n",
    "- Один сэмпл содержит чанк сигнала, чанки не пересекаются\n",
    "- Считывание происходит из случайных файлов из списка\n",
    "- Чанки рандомизированы:\n",
    "    - Учесть рандомизацию по номеру пациента, сессии, времени"
   ]
  },
  {
   "cell_type": "markdown",
   "metadata": {},
   "source": [
    "# Read labels"
   ]
  },
  {
   "cell_type": "code",
   "execution_count": 11,
   "metadata": {},
   "outputs": [],
   "source": [
    "header = [\"file\", \"start\", \"end\", \"label\", \"confidence\"]\n",
    "train_df = pd.read_csv(\"../_DOCS/ref_train.txt\", sep=\" \", names=header)\n",
    "val_df = pd.read_csv(\"../_DOCS/ref_dev.txt\", sep=\" \", names=header)"
   ]
  },
  {
   "cell_type": "code",
   "execution_count": 12,
   "metadata": {},
   "outputs": [],
   "source": [
    "def preprocess_file(full_file):\n",
    "    parts = full_file.split(\"_\")\n",
    "    patient = int(parts[0])\n",
    "    session = int(parts[1][1:])\n",
    "    file = int(parts[2][1:])\n",
    "    return [patient, session, file]"
   ]
  },
  {
   "cell_type": "code",
   "execution_count": 13,
   "metadata": {},
   "outputs": [
    {
     "data": {
      "text/plain": [
       "[258, 2, 0]"
      ]
     },
     "execution_count": 13,
     "metadata": {},
     "output_type": "execute_result"
    }
   ],
   "source": [
    "preprocess_file(\"00000258_s002_t000\")"
   ]
  },
  {
   "cell_type": "code",
   "execution_count": 14,
   "metadata": {},
   "outputs": [],
   "source": [
    "def append_file_info(df):\n",
    "    values = np.array(df[\"file\"].apply(preprocess_file).tolist())\n",
    "    files_df = pd.DataFrame(values, columns=[\"patient\", \"session\", \"chunk\"], index=df.index)\n",
    "    return df.merge(files_df, how=\"inner\", left_index=True, right_index=True)"
   ]
  },
  {
   "cell_type": "code",
   "execution_count": 15,
   "metadata": {},
   "outputs": [],
   "source": [
    "train_df = append_file_info(train_df)"
   ]
  },
  {
   "cell_type": "code",
   "execution_count": 16,
   "metadata": {},
   "outputs": [],
   "source": [
    "val_df = append_file_info(val_df)"
   ]
  },
  {
   "cell_type": "markdown",
   "metadata": {},
   "source": [
    "# Attach files"
   ]
  },
  {
   "cell_type": "markdown",
   "metadata": {},
   "source": [
    "TODO add other electrode formats"
   ]
  },
  {
   "cell_type": "code",
   "execution_count": 17,
   "metadata": {},
   "outputs": [],
   "source": [
    "def attach_files(df, dataset):\n",
    "    paths = {}\n",
    "\n",
    "    for root, dirs, files in os.walk(\"../edf/{}\".format(dataset)):\n",
    "        path = root.split(os.sep)\n",
    "        for file in files:\n",
    "            if \".edf\" in file:\n",
    "                name = file.split(\".\")[0]\n",
    "                paths[name] = os.path.abspath(root) + \"/\" +  file\n",
    "    \n",
    "    df[\"full_path\"] = df[\"file\"].apply(paths.get)\n",
    "    df = df[df[\"full_path\"].apply(lambda x: \"01_tcp_ar\" in str(x))].copy()\n",
    "    return df"
   ]
  },
  {
   "cell_type": "code",
   "execution_count": 18,
   "metadata": {},
   "outputs": [],
   "source": [
    "train_df = attach_files(train_df, \"train\")"
   ]
  },
  {
   "cell_type": "code",
   "execution_count": 19,
   "metadata": {},
   "outputs": [],
   "source": [
    "val_df = attach_files(val_df, \"dev\")"
   ]
  },
  {
   "cell_type": "markdown",
   "metadata": {},
   "source": [
    "# Separate patients"
   ]
  },
  {
   "cell_type": "code",
   "execution_count": 20,
   "metadata": {},
   "outputs": [],
   "source": [
    "train_patients = train_df[\"patient\"].unique() "
   ]
  },
  {
   "cell_type": "code",
   "execution_count": 21,
   "metadata": {},
   "outputs": [],
   "source": [
    "val_patients = val_df[\"patient\"].unique()"
   ]
  },
  {
   "cell_type": "code",
   "execution_count": 22,
   "metadata": {},
   "outputs": [],
   "source": [
    "val_df = val_df[~val_df[\"patient\"].isin(train_patients)].copy()"
   ]
  },
  {
   "cell_type": "markdown",
   "metadata": {},
   "source": [
    "# Remove bckg files"
   ]
  },
  {
   "cell_type": "code",
   "execution_count": 23,
   "metadata": {},
   "outputs": [],
   "source": [
    "def remove_bckg_files(df):\n",
    "    files_with_seizures = df[df[\"label\"] == \"seiz\"][\"file\"].unique()\n",
    "    return df[df[\"file\"].isin(files_with_seizures)].copy()"
   ]
  },
  {
   "cell_type": "code",
   "execution_count": 24,
   "metadata": {},
   "outputs": [],
   "source": [
    "train_df = remove_bckg_files(train_df)"
   ]
  },
  {
   "cell_type": "code",
   "execution_count": 25,
   "metadata": {},
   "outputs": [],
   "source": [
    "val_df = remove_bckg_files(val_df)"
   ]
  },
  {
   "cell_type": "markdown",
   "metadata": {},
   "source": [
    "# Calculate channels intersection and proper sample rate"
   ]
  },
  {
   "cell_type": "code",
   "execution_count": 26,
   "metadata": {},
   "outputs": [],
   "source": [
    "def get_edf_info(df):\n",
    "    files = df[\"full_path\"].unique()\n",
    "\n",
    "    edf_data = []\n",
    "\n",
    "    for file in tqdm_notebook(files):\n",
    "        edf = mne.io.read_raw_edf(file, verbose=\"ERROR\")\n",
    "        data = {\n",
    "            field: edf.info[field]\n",
    "            for field in [\"ch_names\", \"sfreq\"]\n",
    "        }\n",
    "        edf_data.append(data)\n",
    "        \n",
    "    return pd.DataFrame(edf_data)"
   ]
  },
  {
   "cell_type": "code",
   "execution_count": 27,
   "metadata": {},
   "outputs": [
    {
     "name": "stderr",
     "output_type": "stream",
     "text": [
      "/usr/local/lib/python3.5/dist-packages/ipykernel_launcher.py:6: TqdmDeprecationWarning: This function will be removed in tqdm==5.0.0\n",
      "Please use `tqdm.notebook.tqdm` instead of `tqdm.tqdm_notebook`\n",
      "  \n"
     ]
    },
    {
     "data": {
      "application/vnd.jupyter.widget-view+json": {
       "model_id": "0df714d1f417466d857026cfb806aaab",
       "version_major": 2,
       "version_minor": 0
      },
      "text/plain": [
       "HBox(children=(FloatProgress(value=0.0, max=458.0), HTML(value='')))"
      ]
     },
     "metadata": {},
     "output_type": "display_data"
    },
    {
     "name": "stdout",
     "output_type": "stream",
     "text": [
      "\n"
     ]
    }
   ],
   "source": [
    "train_edf_df = get_edf_info(train_df)"
   ]
  },
  {
   "cell_type": "code",
   "execution_count": 28,
   "metadata": {
    "scrolled": true
   },
   "outputs": [
    {
     "name": "stderr",
     "output_type": "stream",
     "text": [
      "/usr/local/lib/python3.5/dist-packages/ipykernel_launcher.py:6: TqdmDeprecationWarning: This function will be removed in tqdm==5.0.0\n",
      "Please use `tqdm.notebook.tqdm` instead of `tqdm.tqdm_notebook`\n",
      "  \n"
     ]
    },
    {
     "data": {
      "application/vnd.jupyter.widget-view+json": {
       "model_id": "3b032df385934fc1a8cc75682021d07f",
       "version_major": 2,
       "version_minor": 0
      },
      "text/plain": [
       "HBox(children=(FloatProgress(value=0.0, max=202.0), HTML(value='')))"
      ]
     },
     "metadata": {},
     "output_type": "display_data"
    },
    {
     "name": "stdout",
     "output_type": "stream",
     "text": [
      "\n"
     ]
    }
   ],
   "source": [
    "val_edf_df = get_edf_info(val_df)"
   ]
  },
  {
   "cell_type": "code",
   "execution_count": 29,
   "metadata": {},
   "outputs": [],
   "source": [
    "CHUNK_FREQUENCY = int(min(train_edf_df[\"sfreq\"].min(), val_edf_df[\"sfreq\"].min()))"
   ]
  },
  {
   "cell_type": "code",
   "execution_count": 30,
   "metadata": {},
   "outputs": [],
   "source": [
    "counter = Counter([\n",
    "    channel for channels_list in train_edf_df[\"ch_names\"] for channel in channels_list\n",
    "] + [\n",
    "    channel for channels_list in val_edf_df[\"ch_names\"] for channel in channels_list\n",
    "])"
   ]
  },
  {
   "cell_type": "code",
   "execution_count": 31,
   "metadata": {},
   "outputs": [],
   "source": [
    "all_channels = dict(counter.most_common())"
   ]
  },
  {
   "cell_type": "code",
   "execution_count": 32,
   "metadata": {},
   "outputs": [],
   "source": [
    "usage_limit = max([v for k, v in all_channels.items() if \"STI\" not in k])\n",
    "CHANNELS = [k for k, v in all_channels.items() if v >= usage_limit and \"STI\" not in k]"
   ]
  },
  {
   "cell_type": "code",
   "execution_count": 33,
   "metadata": {},
   "outputs": [],
   "source": [
    "# STIM_CHANNEL = [k for k in all_channels.keys() if \"STI\" in k][0]"
   ]
  },
  {
   "cell_type": "code",
   "execution_count": 34,
   "metadata": {},
   "outputs": [
    {
     "data": {
      "text/plain": [
       "21"
      ]
     },
     "execution_count": 34,
     "metadata": {},
     "output_type": "execute_result"
    }
   ],
   "source": [
    "len(CHANNELS)"
   ]
  },
  {
   "cell_type": "code",
   "execution_count": 35,
   "metadata": {},
   "outputs": [],
   "source": [
    "CHANNELS_MAPPING = [\n",
    "    (\"EEG FP1-REF\", \"EEG F7-REF\"), \n",
    "    (\"EEG F7-REF\", \"EEG T3-REF\"), \n",
    "    (\"EEG T3-REF\", \"EEG T5-REF\"), \n",
    "    (\"EEG T5-REF\", \"EEG O1-REF\"), \n",
    "    (\"EEG FP2-REF\", \"EEG F8-REF\"), \n",
    "    (\"EEG F8-REF\", \"EEG T4-REF\"), \n",
    "    (\"EEG T4-REF\", \"EEG T6-REF\"), \n",
    "    (\"EEG T6-REF\", \"EEG O2-REF\"), \n",
    "    (\"EEG A1-REF\", \"EEG T3-REF\"), \n",
    "    (\"EEG T3-REF\", \"EEG C3-REF\"), \n",
    "    (\"EEG C3-REF\", \"EEG CZ-REF\"), \n",
    "    (\"EEG CZ-REF\", \"EEG C4-REF\"), \n",
    "    (\"EEG C4-REF\", \"EEG T4-REF\"), \n",
    "    (\"EEG T4-REF\", \"EEG A2-REF\"), \n",
    "    (\"EEG FP1-REF\", \"EEG F3-REF\"), \n",
    "    (\"EEG F3-REF\", \"EEG C3-REF\"), \n",
    "    (\"EEG C3-REF\", \"EEG P3-REF\"), \n",
    "    (\"EEG P3-REF\", \"EEG O1-REF\"), \n",
    "    (\"EEG FP2-REF\", \"EEG F4-REF\"), \n",
    "    (\"EEG F4-REF\", \"EEG C4-REF\"), \n",
    "    (\"EEG C4-REF\", \"EEG P4-REF\"), \n",
    "    (\"EEG P4-REF\", \"EEG O2-REF\")\n",
    "]\n",
    "\n",
    "CHANNELS_MAPPING = [c for c in CHANNELS_MAPPING if (c[0] in CHANNELS) and (c[1] in CHANNELS)]\n",
    "\n",
    "CHANNELS_MAPPING_1 = [c[0] for c in CHANNELS_MAPPING]\n",
    "CHANNELS_MAPPING_2 = [c[1] for c in CHANNELS_MAPPING]"
   ]
  },
  {
   "cell_type": "markdown",
   "metadata": {},
   "source": [
    "# Calculate chunk size"
   ]
  },
  {
   "cell_type": "code",
   "execution_count": 36,
   "metadata": {},
   "outputs": [],
   "source": [
    "train_df[\"duration\"] = train_df[\"end\"] - train_df[\"start\"]"
   ]
  },
  {
   "cell_type": "code",
   "execution_count": 37,
   "metadata": {},
   "outputs": [
    {
     "data": {
      "text/plain": [
       "label\n",
       "bckg    AxesSubplot(0.125,0.125;0.775x0.755)\n",
       "seiz    AxesSubplot(0.125,0.125;0.775x0.755)\n",
       "Name: duration, dtype: object"
      ]
     },
     "execution_count": 37,
     "metadata": {},
     "output_type": "execute_result"
    },
    {
     "data": {
      "image/png": "[encoded data removed]",
      "text/plain": [
       "<Figure size 432x288 with 1 Axes>"
      ]
     },
     "metadata": {
      "needs_background": "light"
     },
     "output_type": "display_data"
    }
   ],
   "source": [
    "train_df.groupby('label')[\"duration\"].plot(kind=\"hist\", bins=np.linspace(0, 50), alpha=0.5)"
   ]
  },
  {
   "cell_type": "code",
   "execution_count": 38,
   "metadata": {},
   "outputs": [],
   "source": [
    "CHUNK_TIME = 1 * CHUNK_FREQUENCY # number of terms per chunk"
   ]
  },
  {
   "cell_type": "markdown",
   "metadata": {},
   "source": [
    "# Split on chunks"
   ]
  },
  {
   "cell_type": "code",
   "execution_count": 39,
   "metadata": {},
   "outputs": [],
   "source": [
    "BATCH_SIZE = 32"
   ]
  },
  {
   "cell_type": "markdown",
   "metadata": {},
   "source": [
    "- Get all file names, randomize them\n",
    "- For each file - split on chunks, randomize them\n",
    "- Get labels for each chunk"
   ]
  },
  {
   "cell_type": "code",
   "execution_count": 40,
   "metadata": {},
   "outputs": [],
   "source": [
    "FFT_STEPS_NUM = 125"
   ]
  },
  {
   "cell_type": "markdown",
   "metadata": {},
   "source": [
    "TODO:\n",
    "- Fourier transform for chunk instead of full file"
   ]
  },
  {
   "cell_type": "markdown",
   "metadata": {},
   "source": [
    "Как западить чанку нулями, и убрать их из лосса? Варианты:\n",
    "\n",
    "### Удалять пустые чанки\n",
    "3. Заменить в массиве data и events неполные чанки на зануленные\n",
    "4. Добавить параметр mask, который отвечает за то, какие элементы функции потерь оставить\n",
    "5. Заменить лосс\n"
   ]
  },
  {
   "cell_type": "code",
   "execution_count": 41,
   "metadata": {},
   "outputs": [],
   "source": [
    "MAX_LENGTH = 300000"
   ]
  },
  {
   "cell_type": "code",
   "execution_count": 42,
   "metadata": {},
   "outputs": [],
   "source": [
    "from scipy.signal import stft"
   ]
  },
  {
   "cell_type": "code",
   "execution_count": 43,
   "metadata": {},
   "outputs": [],
   "source": [
    "# def get_fourier_transform(data, window_size=CHUNK_TIME, step_size=CHUNK_TIME // FFT_STEPS_NUM):\n",
    "#     frequencies = []\n",
    "#     for window in range(0, data.shape[0] - window_size, step_size):\n",
    "#         chunk = data[window:window + window_size]\n",
    "#         frequency_values = np.abs(np.fft.fft(chunk, axis=0))[:window_size // 2]\n",
    "#         frequencies.append(frequency_values)\n",
    "#     result = np.stack(frequencies)\n",
    "#     return result"
   ]
  },
  {
   "cell_type": "code",
   "execution_count": 44,
   "metadata": {},
   "outputs": [],
   "source": [
    "def get_fourier_transform(data, window_size=CHUNK_TIME, step_size=CHUNK_TIME // FFT_STEPS_NUM, SCALING_FACTOR=100):\n",
    "    data = data.T\n",
    "    return np.abs(stft(\n",
    "        data, \n",
    "        fs=window_size, \n",
    "        window=\"hann\", \n",
    "        nperseg=window_size, \n",
    "        noverlap=window_size - step_size, \n",
    "        return_onesided=True, \n",
    "        boundary=None,\n",
    "    )[-1]).T * SCALING_FACTOR"
   ]
  },
  {
   "cell_type": "code",
   "execution_count": 45,
   "metadata": {},
   "outputs": [],
   "source": [
    "def get_data(df, file, channels=CHANNELS, chunk_size=CHUNK_TIME, step_size=CHUNK_TIME // FFT_STEPS_NUM):\n",
    "    annotations = df[\n",
    "        (df[\"full_path\"] == file) & \\\n",
    "        (df[\"label\"] == \"seiz\")\n",
    "    ][[\"start\", \"end\"]]\n",
    "    edf = mne.io.read_raw_edf(file, preload=True, verbose='ERROR')\n",
    "    edf.filter(2, 60)\n",
    "    edf_picks = edf.pick_channels(channels)\n",
    "    data, time = edf_picks[:]\n",
    "    \n",
    "    events = time * 0\n",
    "    for _, (start, end) in annotations.iterrows():\n",
    "        events += (time >= start) & (time <= end)\n",
    "    events = (events > 0).astype(int)\n",
    "    \n",
    "    del edf\n",
    "    \n",
    "    return data, events"
   ]
  },
  {
   "cell_type": "code",
   "execution_count": 46,
   "metadata": {},
   "outputs": [],
   "source": [
    "def get_data_multiple(df, files, channels=CHANNELS, chunk_size=CHUNK_TIME):\n",
    "    total_data = []\n",
    "    total_events = []\n",
    "    for file in tqdm_notebook(files):\n",
    "        data, events = get_data(df, file)\n",
    "        total_data.append(data)\n",
    "        total_events.append(events)\n",
    "    \n",
    "    return total_data, total_events"
   ]
  },
  {
   "cell_type": "code",
   "execution_count": 47,
   "metadata": {},
   "outputs": [],
   "source": [
    "class ChunksIterator():\n",
    "    def __init__(self, data, events, chunk_size=CHUNK_TIME, step_size=CHUNK_TIME // FFT_STEPS_NUM, max_length=MAX_LENGTH, tqdm_enabled=False):\n",
    "        self.data = data\n",
    "        self.events = events\n",
    "        self.chunk_size = chunk_size\n",
    "        self.step_size = step_size\n",
    "        self.valid_chunks = 0\n",
    "        \n",
    "        max_time = min(max([e.shape[0] for e in events]), max_length)\n",
    "        self.iterations = range(0, max_time - 2*chunk_size, chunk_size)\n",
    "        self.iterations = np.random.choice(self.iterations, len(self.iterations), replace=False)\n",
    "        self.iterations_number = len(self.iterations)\n",
    "        if tqdm_enabled:\n",
    "            self.iterations = tqdm(self.iterations)\n",
    "        self.iterations = iter(self.iterations)\n",
    "    \n",
    "    def __iter__(self):\n",
    "        return self\n",
    "    \n",
    "    def __next__(self):\n",
    "        data = self.data\n",
    "        events = self.events\n",
    "        chunk_size = self.chunk_size\n",
    "        step_size = self.step_size\n",
    "        chunk_start = next(self.iterations)\n",
    "        \n",
    "        data_chunk = [d[:, chunk_start:chunk_start + 2*chunk_size].T for d in data]\n",
    "        labels_chunk = [e[chunk_start:chunk_start + chunk_size] for e in events]\n",
    "\n",
    "        zero_data_chunk = np.zeros((chunk_size * 2, len(CHANNELS)))\n",
    "        zero_labels_chunk = np.zeros((chunk_size, ))\n",
    "\n",
    "        masks_chunk = [e.shape[0] == chunk_size for e in labels_chunk]\n",
    "        data_chunk = [d if d.shape[0] == 2*chunk_size else zero_data_chunk for d in data_chunk]\n",
    "        labels_chunk = [e if e.shape[0] == chunk_size else zero_labels_chunk for e in labels_chunk]\n",
    "\n",
    "        data_chunk = [get_fourier_transform(d) for d in data_chunk]\n",
    "        labels_chunk = [e.max() for e in labels_chunk]\n",
    "        \n",
    "        self.valid_chunks += sum(masks_chunk)\n",
    "\n",
    "        return np.stack(data_chunk).reshape(len(data_chunk), -1), np.stack(labels_chunk)[:, np.newaxis], np.array(masks_chunk)"
   ]
  },
  {
   "cell_type": "code",
   "execution_count": 48,
   "metadata": {},
   "outputs": [],
   "source": [
    "def iterate_files(df, batch_size=BATCH_SIZE):\n",
    "    files = df[\"full_path\"].unique()\n",
    "    files = np.random.choice(files, len(files), replace=False)\n",
    "    for files in zip(*[iter(files)]*batch_size):\n",
    "        yield files"
   ]
  },
  {
   "cell_type": "code",
   "execution_count": 49,
   "metadata": {},
   "outputs": [],
   "source": [
    "files = next(iterate_files(train_df))"
   ]
  },
  {
   "cell_type": "code",
   "execution_count": 50,
   "metadata": {},
   "outputs": [],
   "source": [
    "data, events = get_data(train_df, files[0])"
   ]
  },
  {
   "cell_type": "code",
   "execution_count": 51,
   "metadata": {},
   "outputs": [
    {
     "data": {
      "text/plain": [
       "(21, 334500)"
      ]
     },
     "execution_count": 51,
     "metadata": {},
     "output_type": "execute_result"
    }
   ],
   "source": [
    "data.shape"
   ]
  },
  {
   "cell_type": "code",
   "execution_count": 52,
   "metadata": {
    "scrolled": true
   },
   "outputs": [
    {
     "name": "stderr",
     "output_type": "stream",
     "text": [
      "/usr/local/lib/python3.5/dist-packages/ipykernel_launcher.py:4: TqdmDeprecationWarning: This function will be removed in tqdm==5.0.0\n",
      "Please use `tqdm.notebook.tqdm` instead of `tqdm.tqdm_notebook`\n",
      "  after removing the cwd from sys.path.\n"
     ]
    },
    {
     "data": {
      "application/vnd.jupyter.widget-view+json": {
       "model_id": "ee40481074854a02be5ceae698eaee2a",
       "version_major": 2,
       "version_minor": 0
      },
      "text/plain": [
       "HBox(children=(FloatProgress(value=0.0, max=32.0), HTML(value='')))"
      ]
     },
     "metadata": {},
     "output_type": "display_data"
    },
    {
     "name": "stdout",
     "output_type": "stream",
     "text": [
      "\n"
     ]
    }
   ],
   "source": [
    "files = train_df[\"full_path\"].value_counts().index[0:BATCH_SIZE]\n",
    "data, events = get_data_multiple(train_df, files)"
   ]
  },
  {
   "cell_type": "code",
   "execution_count": 53,
   "metadata": {},
   "outputs": [
    {
     "data": {
      "text/plain": [
       "384"
      ]
     },
     "execution_count": 53,
     "metadata": {},
     "output_type": "execute_result"
    }
   ],
   "source": [
    "partial_lengths = [int(d.shape[1] * 0.005) for d in data]\n",
    "partial_data = [d[:, :l] for d, l in zip(data, partial_lengths)]\n",
    "partial_events = [e[:l] for e, l in zip(events, partial_lengths)]\n",
    "min(partial_lengths)"
   ]
  },
  {
   "cell_type": "code",
   "execution_count": 54,
   "metadata": {
    "scrolled": true
   },
   "outputs": [
    {
     "name": "stderr",
     "output_type": "stream",
     "text": [
      "/usr/local/lib/python3.5/dist-packages/ipykernel_launcher.py:14: TqdmDeprecationWarning: This function will be removed in tqdm==5.0.0\n",
      "Please use `tqdm.notebook.tqdm` instead of `tqdm.tqdm_notebook`\n",
      "  \n"
     ]
    },
    {
     "data": {
      "application/vnd.jupyter.widget-view+json": {
       "model_id": "e87a20bb72a84af5b6fbeb29c0a10358",
       "version_major": 2,
       "version_minor": 0
      },
      "text/plain": [
       "HBox(children=(FloatProgress(value=0.0, max=48.0), HTML(value='')))"
      ]
     },
     "metadata": {},
     "output_type": "display_data"
    },
    {
     "name": "stdout",
     "output_type": "stream",
     "text": [
      "Total iterations: 48\n",
      "Iteration 0 1\n",
      "Iteration 1 1\n",
      "Iteration 2 1\n",
      "Iteration 3 1\n",
      "Iteration 4 17\n",
      "Iteration 5 2\n",
      "Iteration 6 5\n",
      "Iteration 7 1\n",
      "Iteration 8 1\n",
      "Iteration 9 6\n",
      "Valid chunks: 36\n"
     ]
    }
   ],
   "source": [
    "iterator = ChunksIterator(partial_data, partial_events, tqdm_enabled=True)\n",
    "\n",
    "print(\"Total iterations:\", iterator.iterations_number)\n",
    "\n",
    "for i, (data_chunk, labels_chunk, masks_chunk) in zip(range(10), iterator):\n",
    "    print(\"Iteration {}\".format(i), sum(masks_chunk))\n",
    "    \n",
    "print(\"Valid chunks:\", iterator.valid_chunks)"
   ]
  },
  {
   "cell_type": "code",
   "execution_count": 55,
   "metadata": {},
   "outputs": [
    {
     "data": {
      "text/plain": [
       "(32, 333396)"
      ]
     },
     "execution_count": 55,
     "metadata": {},
     "output_type": "execute_result"
    }
   ],
   "source": [
    "data_chunk.shape"
   ]
  },
  {
   "cell_type": "markdown",
   "metadata": {},
   "source": [
    "# Model creation"
   ]
  },
  {
   "cell_type": "code",
   "execution_count": 56,
   "metadata": {},
   "outputs": [],
   "source": [
    "NUM_EPOCHS = 10"
   ]
  },
  {
   "cell_type": "code",
   "execution_count": 57,
   "metadata": {},
   "outputs": [],
   "source": [
    "import tensorflow as tf\n",
    "from keras.layers import Dense,Activation,Dropout, Input, Conv1D, MaxPool1D, Flatten\n",
    "from keras.layers import LSTM,Bidirectional,TimeDistributed #could try TimeDistributed(Dense(...))\n",
    "from keras.models import Sequential, load_model\n",
    "from keras import optimizers,regularizers\n",
    "from keras.layers.normalization import BatchNormalization\n",
    "import keras.backend.tensorflow_backend as KTF"
   ]
  },
  {
   "cell_type": "code",
   "execution_count": 59,
   "metadata": {},
   "outputs": [],
   "source": [
    "eeg_input = Input(shape=((FFT_STEPS_NUM + 1) * (CHUNK_TIME // 2 + 1) * len(CHANNELS), ))\n",
    "\n",
    "x = eeg_input\n",
    "x = Dropout(0.5)(x)\n",
    "\n",
    "for _ in range(3):\n",
    "    x = Dense(100)(x)\n",
    "    x = BatchNormalization()(x)\n",
    "    x = Activation('relu')(x)\n",
    "    \n",
    "events_output = Dense(1, activation='sigmoid')(x)"
   ]
  },
  {
   "cell_type": "code",
   "execution_count": 60,
   "metadata": {},
   "outputs": [],
   "source": [
    "model = keras.models.Model(inputs=[eeg_input], outputs=[events_output])"
   ]
  },
  {
   "cell_type": "code",
   "execution_count": 61,
   "metadata": {},
   "outputs": [],
   "source": [
    "s = tf.Session()"
   ]
  },
  {
   "cell_type": "code",
   "execution_count": 62,
   "metadata": {},
   "outputs": [],
   "source": [
    "from keras import backend as K\n",
    "\n",
    "def recall_m(y_true, y_pred):\n",
    "    true_positives = K.sum(K.round(K.clip(y_true * y_pred, 0, 1)))\n",
    "    possible_positives = K.sum(K.round(K.clip(y_true, 0, 1)))\n",
    "    recall = true_positives / (possible_positives + K.epsilon())\n",
    "    return recall\n",
    "\n",
    "def precision_m(y_true, y_pred):\n",
    "    true_positives = K.sum(K.round(K.clip(y_true * y_pred, 0, 1)))\n",
    "    predicted_positives = K.sum(K.round(K.clip(y_pred, 0, 1)))\n",
    "    precision = true_positives / (predicted_positives + K.epsilon())\n",
    "    return precision"
   ]
  },
  {
   "cell_type": "code",
   "execution_count": 63,
   "metadata": {},
   "outputs": [],
   "source": [
    "model.compile(\n",
    "    loss=\"binary_crossentropy\",\n",
    "    optimizer='adam', \n",
    "    metrics=['accuracy', recall_m, precision_m]\n",
    ")"
   ]
  },
  {
   "cell_type": "markdown",
   "metadata": {},
   "source": [
    "# TODO Try to filter incomplete chunks"
   ]
  },
  {
   "cell_type": "markdown",
   "metadata": {},
   "source": [
    "# Overfit on small dataset"
   ]
  },
  {
   "cell_type": "markdown",
   "metadata": {},
   "source": [
    "TODO make model converge on this batch"
   ]
  },
  {
   "cell_type": "code",
   "execution_count": 64,
   "metadata": {},
   "outputs": [],
   "source": [
    "generator = ChunksIterator(data, events)"
   ]
  },
  {
   "cell_type": "code",
   "execution_count": 65,
   "metadata": {},
   "outputs": [],
   "source": [
    "for i in range(5):\n",
    "    next(generator)\n",
    "x_in, y_end, masks_in = next(generator)"
   ]
  },
  {
   "cell_type": "code",
   "execution_count": 66,
   "metadata": {},
   "outputs": [
    {
     "data": {
      "text/plain": [
       "0.40625"
      ]
     },
     "execution_count": 66,
     "metadata": {},
     "output_type": "execute_result"
    }
   ],
   "source": [
    "y_end.sum() / (y_end > -1).sum()"
   ]
  },
  {
   "cell_type": "code",
   "execution_count": 67,
   "metadata": {
    "scrolled": true
   },
   "outputs": [
    {
     "data": {
      "text/plain": [
       "0.5000591"
      ]
     },
     "execution_count": 67,
     "metadata": {},
     "output_type": "execute_result"
    }
   ],
   "source": [
    "model.predict(x_in).mean()"
   ]
  },
  {
   "cell_type": "code",
   "execution_count": 68,
   "metadata": {},
   "outputs": [
    {
     "name": "stdout",
     "output_type": "stream",
     "text": [
      "\r",
      "32/32 [==============================] - 0s 8ms/step\n"
     ]
    },
    {
     "data": {
      "text/plain": [
       "[0.6931910514831543, 0.5, 1.0, 0.4482758641242981]"
      ]
     },
     "execution_count": 68,
     "metadata": {},
     "output_type": "execute_result"
    }
   ],
   "source": [
    "model.evaluate(x_in, y_end)"
   ]
  },
  {
   "cell_type": "code",
   "execution_count": 69,
   "metadata": {
    "scrolled": true
   },
   "outputs": [],
   "source": [
    "# model.fit(x_in, y_end, batch_size=x_in.shape[0], epochs=1000, sample_weight=masks_in)"
   ]
  },
  {
   "cell_type": "code",
   "execution_count": 70,
   "metadata": {
    "scrolled": true
   },
   "outputs": [
    {
     "data": {
      "text/plain": [
       "13.0"
      ]
     },
     "execution_count": 70,
     "metadata": {},
     "output_type": "execute_result"
    }
   ],
   "source": [
    "y_end.sum()"
   ]
  },
  {
   "cell_type": "markdown",
   "metadata": {},
   "source": [
    "RNN использовать можно и даже немного нужно\n",
    "А вот seq2seq не надо - у вас же одинаковая длина входа и выхода. Имплементация будет очень похожа не языковую модельку, как была в последней домашке.\n",
    "\n",
    "Если это исследования, а не в прод катить, я бы попробовал LMU и LSTM-SHA из реккурентных и Sparse Transformer"
   ]
  },
  {
   "cell_type": "markdown",
   "metadata": {},
   "source": [
    "# Train model"
   ]
  },
  {
   "cell_type": "code",
   "execution_count": 71,
   "metadata": {},
   "outputs": [],
   "source": [
    "GENERATOR_PAD_BUG = 1"
   ]
  },
  {
   "cell_type": "code",
   "execution_count": 72,
   "metadata": {
    "scrolled": true
   },
   "outputs": [
    {
     "name": "stderr",
     "output_type": "stream",
     "text": [
      "/usr/local/lib/python3.5/dist-packages/ipykernel_launcher.py:4: TqdmDeprecationWarning: This function will be removed in tqdm==5.0.0\n",
      "Please use `tqdm.notebook.tqdm` instead of `tqdm.tqdm_notebook`\n",
      "  after removing the cwd from sys.path.\n"
     ]
    },
    {
     "data": {
      "application/vnd.jupyter.widget-view+json": {
       "model_id": "e69c7f5a77374018b043f11a1d51d11c",
       "version_major": 2,
       "version_minor": 0
      },
      "text/plain": [
       "HBox(children=(FloatProgress(value=0.0, max=10.0), HTML(value='')))"
      ]
     },
     "metadata": {},
     "output_type": "display_data"
    },
    {
     "name": "stderr",
     "output_type": "stream",
     "text": [
      "/usr/local/lib/python3.5/dist-packages/ipykernel_launcher.py:14: TqdmDeprecationWarning: This function will be removed in tqdm==5.0.0\n",
      "Please use `tqdm.notebook.tqdm` instead of `tqdm.tqdm_notebook`\n",
      "  \n"
     ]
    },
    {
     "data": {
      "application/vnd.jupyter.widget-view+json": {
       "model_id": "6786283b45e24a77a88e71aa4ba22aa4",
       "version_major": 2,
       "version_minor": 0
      },
      "text/plain": [
       "HBox(children=(FloatProgress(value=0.0, max=6.0), HTML(value='')))"
      ]
     },
     "metadata": {},
     "output_type": "display_data"
    },
    {
     "data": {
      "application/vnd.jupyter.widget-view+json": {
       "model_id": "96f3de5e1edb4dbab52d05c3e7e769a7",
       "version_major": 2,
       "version_minor": 0
      },
      "text/plain": [
       "HBox(children=(FloatProgress(value=0.0, max=32.0), HTML(value='')))"
      ]
     },
     "metadata": {},
     "output_type": "display_data"
    },
    {
     "name": "stdout",
     "output_type": "stream",
     "text": [
      "\n"
     ]
    },
    {
     "data": {
      "application/vnd.jupyter.widget-view+json": {
       "model_id": "694045b08105484e8968a3a4dfd41b60",
       "version_major": 2,
       "version_minor": 0
      },
      "text/plain": [
       "HBox(children=(FloatProgress(value=0.0, max=1198.0), HTML(value='')))"
      ]
     },
     "metadata": {},
     "output_type": "display_data"
    },
    {
     "name": "stdout",
     "output_type": "stream",
     "text": [
      "WARNING:tensorflow:From /usr/local/lib/python3.5/dist-packages/tensorflow/python/ops/math_ops.py:3066: to_int32 (from tensorflow.python.ops.math_ops) is deprecated and will be removed in a future version.\n",
      "Instructions for updating:\n",
      "Use tf.cast instead.\n",
      "Epoch 1/1\n",
      "1197/1197 [==============================] - 537s 449ms/step - loss: 0.2362 - acc: 0.9187 - recall_m: 0.7108 - precision_m: 0.7797\n",
      "\n"
     ]
    },
    {
     "data": {
      "application/vnd.jupyter.widget-view+json": {
       "model_id": "3253c787acf84c7f958440474f6d402c",
       "version_major": 2,
       "version_minor": 0
      },
      "text/plain": [
       "HBox(children=(FloatProgress(value=0.0, max=32.0), HTML(value='')))"
      ]
     },
     "metadata": {},
     "output_type": "display_data"
    },
    {
     "name": "stdout",
     "output_type": "stream",
     "text": [
      "\n"
     ]
    },
    {
     "data": {
      "application/vnd.jupyter.widget-view+json": {
       "model_id": "f91ecbbd310141fca7bce1796f4fb703",
       "version_major": 2,
       "version_minor": 0
      },
      "text/plain": [
       "HBox(children=(FloatProgress(value=0.0, max=1198.0), HTML(value='')))"
      ]
     },
     "metadata": {},
     "output_type": "display_data"
    },
    {
     "name": "stdout",
     "output_type": "stream",
     "text": [
      "[1.1149410669479454, 0.8290517961570593, 0.26904065397847365, 0.26524400845506135]\n",
      "\n",
      "Train loss: {0: [0.2361573862011483]}\n",
      "Val loss: {0: [1.1149410669479454]}\n"
     ]
    },
    {
     "data": {
      "application/vnd.jupyter.widget-view+json": {
       "model_id": "9190173ef5f24474b3cdcd332c47b85c",
       "version_major": 2,
       "version_minor": 0
      },
      "text/plain": [
       "HBox(children=(FloatProgress(value=0.0, max=32.0), HTML(value='')))"
      ]
     },
     "metadata": {},
     "output_type": "display_data"
    },
    {
     "name": "stdout",
     "output_type": "stream",
     "text": [
      "\n"
     ]
    },
    {
     "data": {
      "application/vnd.jupyter.widget-view+json": {
       "model_id": "2c2da08398594912b267d0609dc0fade",
       "version_major": 2,
       "version_minor": 0
      },
      "text/plain": [
       "HBox(children=(FloatProgress(value=0.0, max=1198.0), HTML(value='')))"
      ]
     },
     "metadata": {},
     "output_type": "display_data"
    },
    {
     "name": "stdout",
     "output_type": "stream",
     "text": [
      "Epoch 1/1\n",
      "1197/1197 [==============================] - 502s 420ms/step - loss: 0.2412 - acc: 0.9398 - recall_m: 0.7144 - precision_m: 0.8068\n",
      "\n"
     ]
    },
    {
     "data": {
      "application/vnd.jupyter.widget-view+json": {
       "model_id": "948df1a2da3746cb971a1bdceaa47369",
       "version_major": 2,
       "version_minor": 0
      },
      "text/plain": [
       "HBox(children=(FloatProgress(value=0.0, max=32.0), HTML(value='')))"
      ]
     },
     "metadata": {},
     "output_type": "display_data"
    },
    {
     "name": "stdout",
     "output_type": "stream",
     "text": [
      "\n"
     ]
    },
    {
     "data": {
      "application/vnd.jupyter.widget-view+json": {
       "model_id": "0873cc9c8590449bbd68b51a06d51a88",
       "version_major": 2,
       "version_minor": 0
      },
      "text/plain": [
       "HBox(children=(FloatProgress(value=0.0, max=1198.0), HTML(value='')))"
      ]
     },
     "metadata": {},
     "output_type": "display_data"
    },
    {
     "name": "stdout",
     "output_type": "stream",
     "text": [
      "[1.335201656086403, 0.7640455304928989, 0.08303404026785391, 0.09707337264329469]\n",
      "\n",
      "Train loss: {0: [0.2361573862011483, 0.23856229832452375]}\n",
      "Val loss: {0: [1.1149410669479454, 1.2187083615615215]}\n"
     ]
    },
    {
     "data": {
      "application/vnd.jupyter.widget-view+json": {
       "model_id": "6760d1bd94514a0d8b906a698f1d9194",
       "version_major": 2,
       "version_minor": 0
      },
      "text/plain": [
       "HBox(children=(FloatProgress(value=0.0, max=32.0), HTML(value='')))"
      ]
     },
     "metadata": {},
     "output_type": "display_data"
    },
    {
     "name": "stdout",
     "output_type": "stream",
     "text": [
      "\n"
     ]
    },
    {
     "data": {
      "application/vnd.jupyter.widget-view+json": {
       "model_id": "7c9229d3751e42fbb1600d28c19e876a",
       "version_major": 2,
       "version_minor": 0
      },
      "text/plain": [
       "HBox(children=(FloatProgress(value=0.0, max=1198.0), HTML(value='')))"
      ]
     },
     "metadata": {},
     "output_type": "display_data"
    },
    {
     "name": "stdout",
     "output_type": "stream",
     "text": [
      "Epoch 1/1\n",
      "1197/1197 [==============================] - 563s 470ms/step - loss: 0.1998 - acc: 0.9022 - recall_m: 0.8398 - precision_m: 0.8681\n",
      "\n"
     ]
    },
    {
     "data": {
      "application/vnd.jupyter.widget-view+json": {
       "model_id": "616d24762590476984fd980226dc1a21",
       "version_major": 2,
       "version_minor": 0
      },
      "text/plain": [
       "HBox(children=(FloatProgress(value=0.0, max=32.0), HTML(value='')))"
      ]
     },
     "metadata": {},
     "output_type": "display_data"
    },
    {
     "name": "stdout",
     "output_type": "stream",
     "text": [
      "\n"
     ]
    },
    {
     "data": {
      "application/vnd.jupyter.widget-view+json": {
       "model_id": "701705fde75844a0befdd240e09d8468",
       "version_major": 2,
       "version_minor": 0
      },
      "text/plain": [
       "HBox(children=(FloatProgress(value=0.0, max=1198.0), HTML(value='')))"
      ]
     },
     "metadata": {},
     "output_type": "display_data"
    },
    {
     "name": "stdout",
     "output_type": "stream",
     "text": [
      "[1.025184989896733, 0.8181129908103593, 0.047326650604319356, 0.10930401237437201]\n",
      "\n",
      "Train loss: {0: [0.2361573862011483, 0.23856229832452375, 0.2261950676948891]}\n",
      "Val loss: {0: [1.1149410669479454, 1.2187083615615215, 1.1516902665810886]}\n"
     ]
    },
    {
     "data": {
      "application/vnd.jupyter.widget-view+json": {
       "model_id": "6d0cb4007f394577886c1e5d96b50b34",
       "version_major": 2,
       "version_minor": 0
      },
      "text/plain": [
       "HBox(children=(FloatProgress(value=0.0, max=32.0), HTML(value='')))"
      ]
     },
     "metadata": {},
     "output_type": "display_data"
    },
    {
     "name": "stdout",
     "output_type": "stream",
     "text": [
      "\n"
     ]
    },
    {
     "data": {
      "application/vnd.jupyter.widget-view+json": {
       "model_id": "571cf116acc04ce5965b8de99aee9a24",
       "version_major": 2,
       "version_minor": 0
      },
      "text/plain": [
       "HBox(children=(FloatProgress(value=0.0, max=1198.0), HTML(value='')))"
      ]
     },
     "metadata": {},
     "output_type": "display_data"
    },
    {
     "name": "stdout",
     "output_type": "stream",
     "text": [
      "Epoch 1/1\n",
      "1197/1197 [==============================] - 604s 505ms/step - loss: 0.2692 - acc: 0.8273 - recall_m: 0.6336 - precision_m: 0.6819\n",
      "\n"
     ]
    },
    {
     "data": {
      "application/vnd.jupyter.widget-view+json": {
       "model_id": "def26d3ba72847d2a4e15a08c7983ca0",
       "version_major": 2,
       "version_minor": 0
      },
      "text/plain": [
       "HBox(children=(FloatProgress(value=0.0, max=32.0), HTML(value='')))"
      ]
     },
     "metadata": {},
     "output_type": "display_data"
    },
    {
     "name": "stdout",
     "output_type": "stream",
     "text": [
      "\n"
     ]
    },
    {
     "data": {
      "application/vnd.jupyter.widget-view+json": {
       "model_id": "94ddec8efbca4da992a11a6add4f2cd9",
       "version_major": 2,
       "version_minor": 0
      },
      "text/plain": [
       "HBox(children=(FloatProgress(value=0.0, max=1198.0), HTML(value='')))"
      ]
     },
     "metadata": {},
     "output_type": "display_data"
    },
    {
     "name": "stdout",
     "output_type": "stream",
     "text": [
      "[0.8681122250170288, 0.7943034670008354, 0.13561114668223692, 0.2630315783652247]\n",
      "\n",
      "Train loss: {0: [0.2361573862011483, 0.23856229832452375, 0.2261950676948891, 0.2382433125299084]}\n",
      "Val loss: {0: [1.1149410669479454, 1.2187083615615215, 1.1516902665810886, 1.079907613495068]}\n"
     ]
    },
    {
     "data": {
      "application/vnd.jupyter.widget-view+json": {
       "model_id": "ffd422d427734752a512dfd3b72a92b8",
       "version_major": 2,
       "version_minor": 0
      },
      "text/plain": [
       "HBox(children=(FloatProgress(value=0.0, max=32.0), HTML(value='')))"
      ]
     },
     "metadata": {},
     "output_type": "display_data"
    },
    {
     "name": "stdout",
     "output_type": "stream",
     "text": [
      "\n"
     ]
    },
    {
     "data": {
      "application/vnd.jupyter.widget-view+json": {
       "model_id": "edeb28c0249e497181a6617cf322e45a",
       "version_major": 2,
       "version_minor": 0
      },
      "text/plain": [
       "HBox(children=(FloatProgress(value=0.0, max=1198.0), HTML(value='')))"
      ]
     },
     "metadata": {},
     "output_type": "display_data"
    },
    {
     "name": "stdout",
     "output_type": "stream",
     "text": [
      "Epoch 1/1\n",
      "1197/1197 [==============================] - 618s 516ms/step - loss: 0.2355 - acc: 0.9238 - recall_m: 0.7792 - precision_m: 0.8571\n",
      "\n"
     ]
    },
    {
     "data": {
      "application/vnd.jupyter.widget-view+json": {
       "model_id": "494ba73ce0c14bca9e5cf8f9d96bbb69",
       "version_major": 2,
       "version_minor": 0
      },
      "text/plain": [
       "HBox(children=(FloatProgress(value=0.0, max=32.0), HTML(value='')))"
      ]
     },
     "metadata": {},
     "output_type": "display_data"
    },
    {
     "name": "stdout",
     "output_type": "stream",
     "text": [
      "\n"
     ]
    },
    {
     "data": {
      "application/vnd.jupyter.widget-view+json": {
       "model_id": "2f62474d465a490da3c0f2adeadc090c",
       "version_major": 2,
       "version_minor": 0
      },
      "text/plain": [
       "HBox(children=(FloatProgress(value=0.0, max=1198.0), HTML(value='')))"
      ]
     },
     "metadata": {},
     "output_type": "display_data"
    },
    {
     "name": "stdout",
     "output_type": "stream",
     "text": [
      "[0.7321695277191941, 0.8172514619883041, 0.3688546182430577, 0.3695034918156682]\n",
      "\n",
      "Train loss: {0: [0.2361573862011483, 0.23856229832452375, 0.2261950676948891, 0.2382433125299084, 0.23771040256692902]}\n",
      "Val loss: {0: [1.1149410669479454, 1.2187083615615215, 1.1516902665810886, 1.079907613495068, 1.009567661918911]}\n"
     ]
    },
    {
     "data": {
      "application/vnd.jupyter.widget-view+json": {
       "model_id": "943c48cadbf343b1ba67c241c1fdf423",
       "version_major": 2,
       "version_minor": 0
      },
      "text/plain": [
       "HBox(children=(FloatProgress(value=0.0, max=32.0), HTML(value='')))"
      ]
     },
     "metadata": {},
     "output_type": "display_data"
    },
    {
     "name": "stdout",
     "output_type": "stream",
     "text": [
      "\n"
     ]
    },
    {
     "data": {
      "application/vnd.jupyter.widget-view+json": {
       "model_id": "eb5d78b8f40a4979a3d13a2ffd3d10e2",
       "version_major": 2,
       "version_minor": 0
      },
      "text/plain": [
       "HBox(children=(FloatProgress(value=0.0, max=1198.0), HTML(value='')))"
      ]
     },
     "metadata": {},
     "output_type": "display_data"
    },
    {
     "name": "stdout",
     "output_type": "stream",
     "text": [
      "Epoch 1/1\n",
      "1197/1197 [==============================] - 543s 454ms/step - loss: 0.3349 - acc: 0.9039 - recall_m: 0.6183 - precision_m: 0.7016\n",
      "\n"
     ]
    },
    {
     "data": {
      "application/vnd.jupyter.widget-view+json": {
       "model_id": "68ce2215de3440e38f03569a0550127f",
       "version_major": 2,
       "version_minor": 0
      },
      "text/plain": [
       "HBox(children=(FloatProgress(value=0.0, max=32.0), HTML(value='')))"
      ]
     },
     "metadata": {},
     "output_type": "display_data"
    },
    {
     "name": "stdout",
     "output_type": "stream",
     "text": [
      "\n"
     ]
    },
    {
     "data": {
      "application/vnd.jupyter.widget-view+json": {
       "model_id": "f49ca20106984614ab8b16a20aa9e563",
       "version_major": 2,
       "version_minor": 0
      },
      "text/plain": [
       "HBox(children=(FloatProgress(value=0.0, max=1198.0), HTML(value='')))"
      ]
     },
     "metadata": {},
     "output_type": "display_data"
    },
    {
     "name": "stdout",
     "output_type": "stream",
     "text": [
      "[1.0113819528343087, 0.806234335839599, 0.06908241096719066, 0.3583959610689254]\n",
      "\n",
      "Train loss: {0: [0.2361573862011483, 0.23856229832452375, 0.2261950676948891, 0.2382433125299084, 0.23771040256692902, 0.2524838845717164]}\n",
      "Val loss: {0: [1.1149410669479454, 1.2187083615615215, 1.1516902665810886, 1.079907613495068, 1.009567661918911, 1.009873473328366]}\n",
      "\n"
     ]
    },
    {
     "data": {
      "application/vnd.jupyter.widget-view+json": {
       "model_id": "8a169e4a6c5f4a9580454c070c7496dd",
       "version_major": 2,
       "version_minor": 0
      },
      "text/plain": [
       "HBox(children=(FloatProgress(value=0.0, max=6.0), HTML(value='')))"
      ]
     },
     "metadata": {},
     "output_type": "display_data"
    },
    {
     "data": {
      "application/vnd.jupyter.widget-view+json": {
       "model_id": "c1ff1cf2ba1c46d09d591a5e731ff06f",
       "version_major": 2,
       "version_minor": 0
      },
      "text/plain": [
       "HBox(children=(FloatProgress(value=0.0, max=32.0), HTML(value='')))"
      ]
     },
     "metadata": {},
     "output_type": "display_data"
    },
    {
     "name": "stdout",
     "output_type": "stream",
     "text": [
      "\n"
     ]
    },
    {
     "data": {
      "application/vnd.jupyter.widget-view+json": {
       "model_id": "bbb0da974c50479594235506e0db2ca6",
       "version_major": 2,
       "version_minor": 0
      },
      "text/plain": [
       "HBox(children=(FloatProgress(value=0.0, max=1198.0), HTML(value='')))"
      ]
     },
     "metadata": {},
     "output_type": "display_data"
    },
    {
     "name": "stdout",
     "output_type": "stream",
     "text": [
      "Epoch 1/1\n",
      "1197/1197 [==============================] - 603s 504ms/step - loss: 0.2304 - acc: 0.9192 - recall_m: 0.4458 - precision_m: 0.5501\n",
      "\n"
     ]
    },
    {
     "data": {
      "application/vnd.jupyter.widget-view+json": {
       "model_id": "0c99fa8a99f14d33a9ad1477c6aa7850",
       "version_major": 2,
       "version_minor": 0
      },
      "text/plain": [
       "HBox(children=(FloatProgress(value=0.0, max=32.0), HTML(value='')))"
      ]
     },
     "metadata": {},
     "output_type": "display_data"
    },
    {
     "name": "stdout",
     "output_type": "stream",
     "text": [
      "\n"
     ]
    },
    {
     "data": {
      "application/vnd.jupyter.widget-view+json": {
       "model_id": "b26a5ad7aba340d39fffa02c8846c564",
       "version_major": 2,
       "version_minor": 0
      },
      "text/plain": [
       "HBox(children=(FloatProgress(value=0.0, max=1198.0), HTML(value='')))"
      ]
     },
     "metadata": {},
     "output_type": "display_data"
    },
    {
     "name": "stdout",
     "output_type": "stream",
     "text": [
      "[1.354112869771252, 0.8447159565580619, 0.048403446997516635, 0.19270396329705278]\n",
      "\n",
      "Train loss: {0: [0.2361573862011483, 0.23856229832452375, 0.2261950676948891, 0.2382433125299084, 0.23771040256692902, 0.2524838845717164], 1: [0.23035201998370616]}\n",
      "Val loss: {0: [1.1149410669479454, 1.2187083615615215, 1.1516902665810886, 1.079907613495068, 1.009567661918911, 1.009873473328366], 1: [1.354112869771252]}\n"
     ]
    },
    {
     "data": {
      "application/vnd.jupyter.widget-view+json": {
       "model_id": "e00e360ee9bf4a81b1bb2f997121ee72",
       "version_major": 2,
       "version_minor": 0
      },
      "text/plain": [
       "HBox(children=(FloatProgress(value=0.0, max=32.0), HTML(value='')))"
      ]
     },
     "metadata": {},
     "output_type": "display_data"
    },
    {
     "name": "stdout",
     "output_type": "stream",
     "text": [
      "\n"
     ]
    },
    {
     "data": {
      "application/vnd.jupyter.widget-view+json": {
       "model_id": "1efa1c6cfa334d65a3c9c31e88d741df",
       "version_major": 2,
       "version_minor": 0
      },
      "text/plain": [
       "HBox(children=(FloatProgress(value=0.0, max=1198.0), HTML(value='')))"
      ]
     },
     "metadata": {},
     "output_type": "display_data"
    },
    {
     "name": "stdout",
     "output_type": "stream",
     "text": [
      "Epoch 1/1\n",
      "1197/1197 [==============================] - 527s 440ms/step - loss: 0.2035 - acc: 0.9464 - recall_m: 0.8712 - precision_m: 0.9194\n",
      "\n"
     ]
    },
    {
     "data": {
      "application/vnd.jupyter.widget-view+json": {
       "model_id": "9e82643ceb324191843ad8d2f88900e4",
       "version_major": 2,
       "version_minor": 0
      },
      "text/plain": [
       "HBox(children=(FloatProgress(value=0.0, max=32.0), HTML(value='')))"
      ]
     },
     "metadata": {},
     "output_type": "display_data"
    },
    {
     "name": "stdout",
     "output_type": "stream",
     "text": [
      "\n"
     ]
    },
    {
     "data": {
      "application/vnd.jupyter.widget-view+json": {
       "model_id": "125c9300b8034f75ab091aeb2061884d",
       "version_major": 2,
       "version_minor": 0
      },
      "text/plain": [
       "HBox(children=(FloatProgress(value=0.0, max=1198.0), HTML(value='')))"
      ]
     },
     "metadata": {},
     "output_type": "display_data"
    },
    {
     "name": "stdout",
     "output_type": "stream",
     "text": [
      "[0.4832858138888103, 0.8628341687552213, 0.5898283812635225, 0.7103002281889083]\n",
      "\n",
      "Train loss: {0: [0.2361573862011483, 0.23856229832452375, 0.2261950676948891, 0.2382433125299084, 0.23771040256692902, 0.2524838845717164], 1: [0.23035201998370616, 0.2168626630380002]}\n",
      "Val loss: {0: [1.1149410669479454, 1.2187083615615215, 1.1516902665810886, 1.079907613495068, 1.009567661918911, 1.009873473328366], 1: [1.354112869771252, 0.9011968234290089]}\n"
     ]
    },
    {
     "data": {
      "application/vnd.jupyter.widget-view+json": {
       "model_id": "a5e9e9a16453419ebff96159a207ab99",
       "version_major": 2,
       "version_minor": 0
      },
      "text/plain": [
       "HBox(children=(FloatProgress(value=0.0, max=32.0), HTML(value='')))"
      ]
     },
     "metadata": {},
     "output_type": "display_data"
    },
    {
     "name": "stdout",
     "output_type": "stream",
     "text": [
      "\n"
     ]
    },
    {
     "data": {
      "application/vnd.jupyter.widget-view+json": {
       "model_id": "5c4ec9a4c988472dab09e997e32b7439",
       "version_major": 2,
       "version_minor": 0
      },
      "text/plain": [
       "HBox(children=(FloatProgress(value=0.0, max=1198.0), HTML(value='')))"
      ]
     },
     "metadata": {},
     "output_type": "display_data"
    },
    {
     "name": "stdout",
     "output_type": "stream",
     "text": [
      "Epoch 1/1\n",
      "1197/1197 [==============================] - 637s 533ms/step - loss: 0.1796 - acc: 0.8268 - recall_m: 0.8190 - precision_m: 0.7156\n",
      "\n"
     ]
    },
    {
     "data": {
      "application/vnd.jupyter.widget-view+json": {
       "model_id": "a011942237934cc48c85bb534eb32f33",
       "version_major": 2,
       "version_minor": 0
      },
      "text/plain": [
       "HBox(children=(FloatProgress(value=0.0, max=32.0), HTML(value='')))"
      ]
     },
     "metadata": {},
     "output_type": "display_data"
    },
    {
     "name": "stdout",
     "output_type": "stream",
     "text": [
      "\n"
     ]
    },
    {
     "data": {
      "application/vnd.jupyter.widget-view+json": {
       "model_id": "980cc419ed5a4fba8787761f7275d36d",
       "version_major": 2,
       "version_minor": 0
      },
      "text/plain": [
       "HBox(children=(FloatProgress(value=0.0, max=1198.0), HTML(value='')))"
      ]
     },
     "metadata": {},
     "output_type": "display_data"
    },
    {
     "name": "stdout",
     "output_type": "stream",
     "text": [
      "[0.5470685884761083, 0.8626775271512114, 0.4749269306522762, 0.625481357973819]\n",
      "\n",
      "Train loss: {0: [0.2361573862011483, 0.23856229832452375, 0.2261950676948891, 0.2382433125299084, 0.23771040256692902, 0.2524838845717164], 1: [0.23035201998370616, 0.2168626630380002, 0.2041753391928416]}\n",
      "Val loss: {0: [1.1149410669479454, 1.2187083615615215, 1.1516902665810886, 1.079907613495068, 1.009567661918911, 1.009873473328366], 1: [1.354112869771252, 0.9011968234290089, 0.7899874809198136]}\n"
     ]
    },
    {
     "data": {
      "application/vnd.jupyter.widget-view+json": {
       "model_id": "2b6fec3329d24ff185862c6c9b7abe26",
       "version_major": 2,
       "version_minor": 0
      },
      "text/plain": [
       "HBox(children=(FloatProgress(value=0.0, max=32.0), HTML(value='')))"
      ]
     },
     "metadata": {},
     "output_type": "display_data"
    },
    {
     "name": "stdout",
     "output_type": "stream",
     "text": [
      "\n"
     ]
    },
    {
     "data": {
      "application/vnd.jupyter.widget-view+json": {
       "model_id": "ede5a91a25c94fd49ee58649f9b9412d",
       "version_major": 2,
       "version_minor": 0
      },
      "text/plain": [
       "HBox(children=(FloatProgress(value=0.0, max=1198.0), HTML(value='')))"
      ]
     },
     "metadata": {},
     "output_type": "display_data"
    },
    {
     "name": "stdout",
     "output_type": "stream",
     "text": [
      "Epoch 1/1\n",
      "1197/1197 [==============================] - 553s 462ms/step - loss: 0.2836 - acc: 0.9321 - recall_m: 0.6476 - precision_m: 0.7882\n",
      "\n"
     ]
    },
    {
     "data": {
      "application/vnd.jupyter.widget-view+json": {
       "model_id": "d206c2b9100d4f79a541eb72f473631f",
       "version_major": 2,
       "version_minor": 0
      },
      "text/plain": [
       "HBox(children=(FloatProgress(value=0.0, max=32.0), HTML(value='')))"
      ]
     },
     "metadata": {},
     "output_type": "display_data"
    },
    {
     "name": "stdout",
     "output_type": "stream",
     "text": [
      "\n"
     ]
    },
    {
     "data": {
      "application/vnd.jupyter.widget-view+json": {
       "model_id": "667c275d429c408b8564de107cf7113f",
       "version_major": 2,
       "version_minor": 0
      },
      "text/plain": [
       "HBox(children=(FloatProgress(value=0.0, max=1198.0), HTML(value='')))"
      ]
     },
     "metadata": {},
     "output_type": "display_data"
    },
    {
     "name": "stdout",
     "output_type": "stream",
     "text": [
      "[0.6889267647895673, 0.8264672096908939, 0.1262440280358594, 0.20150375267865764]\n",
      "\n",
      "Train loss: {0: [0.2361573862011483, 0.23856229832452375, 0.2261950676948891, 0.2382433125299084, 0.23771040256692902, 0.2524838845717164], 1: [0.23035201998370616, 0.2168626630380002, 0.2041753391928416, 0.2236131622332076]}\n",
      "Val loss: {0: [1.1149410669479454, 1.2187083615615215, 1.1516902665810886, 1.079907613495068, 1.009567661918911, 1.009873473328366], 1: [1.354112869771252, 0.9011968234290089, 0.7899874809198136, 0.7660672695691504]}\n"
     ]
    },
    {
     "data": {
      "application/vnd.jupyter.widget-view+json": {
       "model_id": "380b1c70e0014c30a67b98d316a9abd5",
       "version_major": 2,
       "version_minor": 0
      },
      "text/plain": [
       "HBox(children=(FloatProgress(value=0.0, max=32.0), HTML(value='')))"
      ]
     },
     "metadata": {},
     "output_type": "display_data"
    },
    {
     "name": "stdout",
     "output_type": "stream",
     "text": [
      "\n"
     ]
    },
    {
     "data": {
      "application/vnd.jupyter.widget-view+json": {
       "model_id": "aceb0769bbdf4bbf97ff3f36875b3692",
       "version_major": 2,
       "version_minor": 0
      },
      "text/plain": [
       "HBox(children=(FloatProgress(value=0.0, max=1198.0), HTML(value='')))"
      ]
     },
     "metadata": {},
     "output_type": "display_data"
    },
    {
     "name": "stdout",
     "output_type": "stream",
     "text": [
      "Epoch 1/1\n",
      "1197/1197 [==============================] - 639s 534ms/step - loss: 0.2401 - acc: 0.9017 - recall_m: 0.8147 - precision_m: 0.8335\n",
      "\n"
     ]
    },
    {
     "data": {
      "application/vnd.jupyter.widget-view+json": {
       "model_id": "16e79dd88fcb437f8324dc1d9a4e1811",
       "version_major": 2,
       "version_minor": 0
      },
      "text/plain": [
       "HBox(children=(FloatProgress(value=0.0, max=32.0), HTML(value='')))"
      ]
     },
     "metadata": {},
     "output_type": "display_data"
    },
    {
     "name": "stdout",
     "output_type": "stream",
     "text": [
      "\n"
     ]
    },
    {
     "data": {
      "application/vnd.jupyter.widget-view+json": {
       "model_id": "58e3e694d56c4794ae3eb686363e4822",
       "version_major": 2,
       "version_minor": 0
      },
      "text/plain": [
       "HBox(children=(FloatProgress(value=0.0, max=1198.0), HTML(value='')))"
      ]
     },
     "metadata": {},
     "output_type": "display_data"
    },
    {
     "name": "stdout",
     "output_type": "stream",
     "text": [
      "[0.6690106494546734, 0.8335160818713451, 0.31483290350701076, 0.4258463598955843]\n",
      "\n",
      "Train loss: {0: [0.2361573862011483, 0.23856229832452375, 0.2261950676948891, 0.2382433125299084, 0.23771040256692902, 0.2524838845717164], 1: [0.23035201998370616, 0.2168626630380002, 0.2041753391928416, 0.2236131622332076, 0.22727207177057696]}\n",
      "Val loss: {0: [1.1149410669479454, 1.2187083615615215, 1.1516902665810886, 1.079907613495068, 1.009567661918911, 1.009873473328366], 1: [1.354112869771252, 0.9011968234290089, 0.7899874809198136, 0.7660672695691504, 0.7464858868677067]}\n"
     ]
    },
    {
     "data": {
      "application/vnd.jupyter.widget-view+json": {
       "model_id": "bebca719ec894ca090c00945042d9b78",
       "version_major": 2,
       "version_minor": 0
      },
      "text/plain": [
       "HBox(children=(FloatProgress(value=0.0, max=32.0), HTML(value='')))"
      ]
     },
     "metadata": {},
     "output_type": "display_data"
    },
    {
     "name": "stdout",
     "output_type": "stream",
     "text": [
      "\n"
     ]
    },
    {
     "data": {
      "application/vnd.jupyter.widget-view+json": {
       "model_id": "51795ecf0f3e43bfb0bec2af2de014e7",
       "version_major": 2,
       "version_minor": 0
      },
      "text/plain": [
       "HBox(children=(FloatProgress(value=0.0, max=1198.0), HTML(value='')))"
      ]
     },
     "metadata": {},
     "output_type": "display_data"
    },
    {
     "name": "stdout",
     "output_type": "stream",
     "text": [
      "Epoch 1/1\n",
      "1197/1197 [==============================] - 519s 433ms/step - loss: 0.2509 - acc: 0.9316 - recall_m: 0.8045 - precision_m: 0.9176\n",
      "\n"
     ]
    },
    {
     "data": {
      "application/vnd.jupyter.widget-view+json": {
       "model_id": "684a51d2addc48abac8283f8dcd8d15b",
       "version_major": 2,
       "version_minor": 0
      },
      "text/plain": [
       "HBox(children=(FloatProgress(value=0.0, max=32.0), HTML(value='')))"
      ]
     },
     "metadata": {},
     "output_type": "display_data"
    },
    {
     "name": "stdout",
     "output_type": "stream",
     "text": [
      "\n"
     ]
    },
    {
     "data": {
      "application/vnd.jupyter.widget-view+json": {
       "model_id": "be62a24a2dd346f78fb4f5c91af095e0",
       "version_major": 2,
       "version_minor": 0
      },
      "text/plain": [
       "HBox(children=(FloatProgress(value=0.0, max=1198.0), HTML(value='')))"
      ]
     },
     "metadata": {},
     "output_type": "display_data"
    },
    {
     "name": "stdout",
     "output_type": "stream",
     "text": [
      "[0.7179131050381744, 0.8662280701754386, 0.049145682631628454, 0.1668755096650263]\n",
      "\n",
      "Train loss: {0: [0.2361573862011483, 0.23856229832452375, 0.2261950676948891, 0.2382433125299084, 0.23771040256692902, 0.2524838845717164], 1: [0.23035201998370616, 0.2168626630380002, 0.2041753391928416, 0.2236131622332076, 0.22727207177057696, 0.231007462279489]}\n",
      "Val loss: {0: [1.1149410669479454, 1.2187083615615215, 1.1516902665810886, 1.079907613495068, 1.009567661918911, 1.009873473328366], 1: [1.354112869771252, 0.9011968234290089, 0.7899874809198136, 0.7660672695691504, 0.7464858868677067, 0.742371076266351]}\n",
      "\n"
     ]
    },
    {
     "data": {
      "application/vnd.jupyter.widget-view+json": {
       "model_id": "1f8c8ff2c2f4475da78d2d4152f37d08",
       "version_major": 2,
       "version_minor": 0
      },
      "text/plain": [
       "HBox(children=(FloatProgress(value=0.0, max=6.0), HTML(value='')))"
      ]
     },
     "metadata": {},
     "output_type": "display_data"
    },
    {
     "data": {
      "application/vnd.jupyter.widget-view+json": {
       "model_id": "1b75a0aecd68495289447e1c22feb44b",
       "version_major": 2,
       "version_minor": 0
      },
      "text/plain": [
       "HBox(children=(FloatProgress(value=0.0, max=32.0), HTML(value='')))"
      ]
     },
     "metadata": {},
     "output_type": "display_data"
    },
    {
     "name": "stdout",
     "output_type": "stream",
     "text": [
      "\n"
     ]
    },
    {
     "data": {
      "application/vnd.jupyter.widget-view+json": {
       "model_id": "95c31f12d22f46058c4c36a23b1ce032",
       "version_major": 2,
       "version_minor": 0
      },
      "text/plain": [
       "HBox(children=(FloatProgress(value=0.0, max=1198.0), HTML(value='')))"
      ]
     },
     "metadata": {},
     "output_type": "display_data"
    },
    {
     "name": "stdout",
     "output_type": "stream",
     "text": [
      "Epoch 1/1\n",
      "1197/1197 [==============================] - 548s 458ms/step - loss: 0.2338 - acc: 0.8604 - recall_m: 0.5246 - precision_m: 0.5780\n",
      "\n"
     ]
    },
    {
     "data": {
      "application/vnd.jupyter.widget-view+json": {
       "model_id": "b251d2da34da4141824b62bd55da5e92",
       "version_major": 2,
       "version_minor": 0
      },
      "text/plain": [
       "HBox(children=(FloatProgress(value=0.0, max=32.0), HTML(value='')))"
      ]
     },
     "metadata": {},
     "output_type": "display_data"
    },
    {
     "name": "stdout",
     "output_type": "stream",
     "text": [
      "\n"
     ]
    },
    {
     "data": {
      "application/vnd.jupyter.widget-view+json": {
       "model_id": "5c117519ca1a42a6922d95a554a1af90",
       "version_major": 2,
       "version_minor": 0
      },
      "text/plain": [
       "HBox(children=(FloatProgress(value=0.0, max=1198.0), HTML(value='')))"
      ]
     },
     "metadata": {},
     "output_type": "display_data"
    },
    {
     "name": "stdout",
     "output_type": "stream",
     "text": [
      "[0.6464427594148375, 0.8184784878863827, 0.22038812386362175, 0.34901936143113854]\n",
      "\n",
      "Train loss: {0: [0.2361573862011483, 0.23856229832452375, 0.2261950676948891, 0.2382433125299084, 0.23771040256692902, 0.2524838845717164], 1: [0.23035201998370616, 0.2168626630380002, 0.2041753391928416, 0.2236131622332076, 0.22727207177057696, 0.231007462279489], 2: [0.23379658007271292]}\n",
      "Val loss: {0: [1.1149410669479454, 1.2187083615615215, 1.1516902665810886, 1.079907613495068, 1.009567661918911, 1.009873473328366], 1: [1.354112869771252, 0.9011968234290089, 0.7899874809198136, 0.7660672695691504, 0.7464858868677067, 0.742371076266351], 2: [0.6464427594148375]}\n"
     ]
    },
    {
     "data": {
      "application/vnd.jupyter.widget-view+json": {
       "model_id": "79b8125df6684676adc4a8309edab1bf",
       "version_major": 2,
       "version_minor": 0
      },
      "text/plain": [
       "HBox(children=(FloatProgress(value=0.0, max=32.0), HTML(value='')))"
      ]
     },
     "metadata": {},
     "output_type": "display_data"
    },
    {
     "name": "stdout",
     "output_type": "stream",
     "text": [
      "\n"
     ]
    },
    {
     "data": {
      "application/vnd.jupyter.widget-view+json": {
       "model_id": "a6f14b4d3e2b4ad5a95d49b5b292f5fd",
       "version_major": 2,
       "version_minor": 0
      },
      "text/plain": [
       "HBox(children=(FloatProgress(value=0.0, max=1198.0), HTML(value='')))"
      ]
     },
     "metadata": {},
     "output_type": "display_data"
    },
    {
     "name": "stdout",
     "output_type": "stream",
     "text": [
      "Epoch 1/1\n",
      "1197/1197 [==============================] - 525s 439ms/step - loss: 0.3079 - acc: 0.8348 - recall_m: 0.7524 - precision_m: 0.7272\n",
      "\n"
     ]
    },
    {
     "data": {
      "application/vnd.jupyter.widget-view+json": {
       "model_id": "d5a5404f3aed45dc9d0362670d0ed5b7",
       "version_major": 2,
       "version_minor": 0
      },
      "text/plain": [
       "HBox(children=(FloatProgress(value=0.0, max=32.0), HTML(value='')))"
      ]
     },
     "metadata": {},
     "output_type": "display_data"
    },
    {
     "name": "stdout",
     "output_type": "stream",
     "text": [
      "\n"
     ]
    },
    {
     "data": {
      "application/vnd.jupyter.widget-view+json": {
       "model_id": "a75f28de4c954748b2269a2bd202b9d6",
       "version_major": 2,
       "version_minor": 0
      },
      "text/plain": [
       "HBox(children=(FloatProgress(value=0.0, max=1198.0), HTML(value='')))"
      ]
     },
     "metadata": {},
     "output_type": "display_data"
    },
    {
     "name": "stdout",
     "output_type": "stream",
     "text": [
      "[0.7412117234102094, 0.8495718462823726, 0.014742059983257064, 0.10073794739487377]\n",
      "\n",
      "Train loss: {0: [0.2361573862011483, 0.23856229832452375, 0.2261950676948891, 0.2382433125299084, 0.23771040256692902, 0.2524838845717164], 1: [0.23035201998370616, 0.2168626630380002, 0.2041753391928416, 0.2236131622332076, 0.22727207177057696, 0.231007462279489], 2: [0.23379658007271292, 0.2736394389034812]}\n",
      "Val loss: {0: [1.1149410669479454, 1.2187083615615215, 1.1516902665810886, 1.079907613495068, 1.009567661918911, 1.009873473328366], 1: [1.354112869771252, 0.9011968234290089, 0.7899874809198136, 0.7660672695691504, 0.7464858868677067, 0.742371076266351], 2: [0.6464427594148375, 0.6933274583567852]}\n"
     ]
    },
    {
     "data": {
      "application/vnd.jupyter.widget-view+json": {
       "model_id": "6b6f94e5904f43588a12f5040384d7e4",
       "version_major": 2,
       "version_minor": 0
      },
      "text/plain": [
       "HBox(children=(FloatProgress(value=0.0, max=32.0), HTML(value='')))"
      ]
     },
     "metadata": {},
     "output_type": "display_data"
    },
    {
     "name": "stdout",
     "output_type": "stream",
     "text": [
      "\n"
     ]
    },
    {
     "data": {
      "application/vnd.jupyter.widget-view+json": {
       "model_id": "f0a268793c764db6b1866615c1a90017",
       "version_major": 2,
       "version_minor": 0
      },
      "text/plain": [
       "HBox(children=(FloatProgress(value=0.0, max=1198.0), HTML(value='')))"
      ]
     },
     "metadata": {},
     "output_type": "display_data"
    },
    {
     "name": "stdout",
     "output_type": "stream",
     "text": [
      "Epoch 1/1\n",
      "1197/1197 [==============================] - 610s 509ms/step - loss: 0.2275 - acc: 0.9193 - recall_m: 0.7519 - precision_m: 0.7902\n",
      "\n"
     ]
    },
    {
     "data": {
      "application/vnd.jupyter.widget-view+json": {
       "model_id": "b8a1b632e8d840d38c38abe22e8fb496",
       "version_major": 2,
       "version_minor": 0
      },
      "text/plain": [
       "HBox(children=(FloatProgress(value=0.0, max=32.0), HTML(value='')))"
      ]
     },
     "metadata": {},
     "output_type": "display_data"
    },
    {
     "name": "stdout",
     "output_type": "stream",
     "text": [
      "\n"
     ]
    },
    {
     "data": {
      "application/vnd.jupyter.widget-view+json": {
       "model_id": "58b09dc9ae3e4fc18a273f72d3c1face",
       "version_major": 2,
       "version_minor": 0
      },
      "text/plain": [
       "HBox(children=(FloatProgress(value=0.0, max=1198.0), HTML(value='')))"
      ]
     },
     "metadata": {},
     "output_type": "display_data"
    },
    {
     "name": "stdout",
     "output_type": "stream",
     "text": [
      "[1.0740633322083164, 0.737390350877193, 0.24131210380503806, 0.5191268521480095]\n",
      "\n",
      "Train loss: {0: [0.2361573862011483, 0.23856229832452375, 0.2261950676948891, 0.2382433125299084, 0.23771040256692902, 0.2524838845717164], 1: [0.23035201998370616, 0.2168626630380002, 0.2041753391928416, 0.2236131622332076, 0.22727207177057696, 0.231007462279489], 2: [0.23379658007271292, 0.2736394389034812, 0.25693924840018867]}\n",
      "Val loss: {0: [1.1149410669479454, 1.2187083615615215, 1.1516902665810886, 1.079907613495068, 1.009567661918911, 1.009873473328366], 1: [1.354112869771252, 0.9011968234290089, 0.7899874809198136, 0.7660672695691504, 0.7464858868677067, 0.742371076266351], 2: [0.6464427594148375, 0.6933274583567852, 0.8246800063782227]}\n"
     ]
    },
    {
     "data": {
      "application/vnd.jupyter.widget-view+json": {
       "model_id": "13a05e3726304abcae038d1214ea84cc",
       "version_major": 2,
       "version_minor": 0
      },
      "text/plain": [
       "HBox(children=(FloatProgress(value=0.0, max=32.0), HTML(value='')))"
      ]
     },
     "metadata": {},
     "output_type": "display_data"
    },
    {
     "name": "stdout",
     "output_type": "stream",
     "text": [
      "\n"
     ]
    },
    {
     "data": {
      "application/vnd.jupyter.widget-view+json": {
       "model_id": "f9331b7355204993b4b4bcfcfe8857f7",
       "version_major": 2,
       "version_minor": 0
      },
      "text/plain": [
       "HBox(children=(FloatProgress(value=0.0, max=1198.0), HTML(value='')))"
      ]
     },
     "metadata": {},
     "output_type": "display_data"
    },
    {
     "name": "stdout",
     "output_type": "stream",
     "text": [
      "Epoch 1/1\n",
      "1197/1197 [==============================] - 622s 520ms/step - loss: 0.2267 - acc: 0.9304 - recall_m: 0.7780 - precision_m: 0.8719\n",
      "\n"
     ]
    },
    {
     "data": {
      "application/vnd.jupyter.widget-view+json": {
       "model_id": "bd143f0fd78244ed990ba05390b3c94a",
       "version_major": 2,
       "version_minor": 0
      },
      "text/plain": [
       "HBox(children=(FloatProgress(value=0.0, max=32.0), HTML(value='')))"
      ]
     },
     "metadata": {},
     "output_type": "display_data"
    },
    {
     "name": "stdout",
     "output_type": "stream",
     "text": [
      "\n"
     ]
    },
    {
     "data": {
      "application/vnd.jupyter.widget-view+json": {
       "model_id": "848911d740e8414b84f7b07098c4a40d",
       "version_major": 2,
       "version_minor": 0
      },
      "text/plain": [
       "HBox(children=(FloatProgress(value=0.0, max=1198.0), HTML(value='')))"
      ]
     },
     "metadata": {},
     "output_type": "display_data"
    },
    {
     "name": "stdout",
     "output_type": "stream",
     "text": [
      "[0.8707577599867643, 0.7792136591478697, 0.23141020800336362, 0.3388600708510643]\n",
      "\n",
      "Train loss: {0: [0.2361573862011483, 0.23856229832452375, 0.2261950676948891, 0.2382433125299084, 0.23771040256692902, 0.2524838845717164], 1: [0.23035201998370616, 0.2168626630380002, 0.2041753391928416, 0.2236131622332076, 0.22727207177057696, 0.231007462279489], 2: [0.23379658007271292, 0.2736394389034812, 0.25693924840018867, 0.2484234035016144]}\n",
      "Val loss: {0: [1.1149410669479454, 1.2187083615615215, 1.1516902665810886, 1.079907613495068, 1.009567661918911, 1.009873473328366], 1: [1.354112869771252, 0.9011968234290089, 0.7899874809198136, 0.7660672695691504, 0.7464858868677067, 0.742371076266351], 2: [0.6464427594148375, 0.6933274583567852, 0.8246800063782227, 0.8367447682178258]}\n"
     ]
    },
    {
     "data": {
      "application/vnd.jupyter.widget-view+json": {
       "model_id": "85bb3075c3be40fa9e89b797e671b96a",
       "version_major": 2,
       "version_minor": 0
      },
      "text/plain": [
       "HBox(children=(FloatProgress(value=0.0, max=32.0), HTML(value='')))"
      ]
     },
     "metadata": {},
     "output_type": "display_data"
    },
    {
     "name": "stdout",
     "output_type": "stream",
     "text": [
      "\n"
     ]
    },
    {
     "data": {
      "application/vnd.jupyter.widget-view+json": {
       "model_id": "029ab038ffba4f99be7e79683f95c9af",
       "version_major": 2,
       "version_minor": 0
      },
      "text/plain": [
       "HBox(children=(FloatProgress(value=0.0, max=1198.0), HTML(value='')))"
      ]
     },
     "metadata": {},
     "output_type": "display_data"
    },
    {
     "name": "stdout",
     "output_type": "stream",
     "text": [
      "Epoch 1/1\n",
      "1197/1197 [==============================] - 605s 505ms/step - loss: 0.2188 - acc: 0.9445 - recall_m: 0.8327 - precision_m: 0.8701\n",
      "\n"
     ]
    },
    {
     "data": {
      "application/vnd.jupyter.widget-view+json": {
       "model_id": "31ba7723e2424a45a0c69062cca2415f",
       "version_major": 2,
       "version_minor": 0
      },
      "text/plain": [
       "HBox(children=(FloatProgress(value=0.0, max=32.0), HTML(value='')))"
      ]
     },
     "metadata": {},
     "output_type": "display_data"
    },
    {
     "name": "stdout",
     "output_type": "stream",
     "text": [
      "\n"
     ]
    },
    {
     "data": {
      "application/vnd.jupyter.widget-view+json": {
       "model_id": "23cc5b3f596c48258b48260a3dc9e274",
       "version_major": 2,
       "version_minor": 0
      },
      "text/plain": [
       "HBox(children=(FloatProgress(value=0.0, max=1198.0), HTML(value='')))"
      ]
     },
     "metadata": {},
     "output_type": "display_data"
    },
    {
     "name": "stdout",
     "output_type": "stream",
     "text": [
      "[0.5684475661967332, 0.8515559732664996, 0.31410229510457294, 0.4093291966389295]\n",
      "\n",
      "Train loss: {0: [0.2361573862011483, 0.23856229832452375, 0.2261950676948891, 0.2382433125299084, 0.23771040256692902, 0.2524838845717164], 1: [0.23035201998370616, 0.2168626630380002, 0.2041753391928416, 0.2236131622332076, 0.22727207177057696, 0.231007462279489], 2: [0.23379658007271292, 0.2736394389034812, 0.25693924840018867, 0.2484234035016144, 0.24292647648257726]}\n",
      "Val loss: {0: [1.1149410669479454, 1.2187083615615215, 1.1516902665810886, 1.079907613495068, 1.009567661918911, 1.009873473328366], 1: [1.354112869771252, 0.9011968234290089, 0.7899874809198136, 0.7660672695691504, 0.7464858868677067, 0.742371076266351], 2: [0.6464427594148375, 0.6933274583567852, 0.8246800063782227, 0.8367447682178258, 0.7819647831239384]}\n"
     ]
    },
    {
     "data": {
      "application/vnd.jupyter.widget-view+json": {
       "model_id": "461b86cbcf8c48b58b4178f0d6aac8fb",
       "version_major": 2,
       "version_minor": 0
      },
      "text/plain": [
       "HBox(children=(FloatProgress(value=0.0, max=32.0), HTML(value='')))"
      ]
     },
     "metadata": {},
     "output_type": "display_data"
    },
    {
     "name": "stdout",
     "output_type": "stream",
     "text": [
      "\n"
     ]
    },
    {
     "data": {
      "application/vnd.jupyter.widget-view+json": {
       "model_id": "1bd21007b0f04931bec16b2ca0a4b803",
       "version_major": 2,
       "version_minor": 0
      },
      "text/plain": [
       "HBox(children=(FloatProgress(value=0.0, max=1198.0), HTML(value='')))"
      ]
     },
     "metadata": {},
     "output_type": "display_data"
    },
    {
     "name": "stdout",
     "output_type": "stream",
     "text": [
      "Epoch 1/1\n",
      "1197/1197 [==============================] - 596s 498ms/step - loss: 0.2029 - acc: 0.9079 - recall_m: 0.6719 - precision_m: 0.7211\n",
      "\n"
     ]
    },
    {
     "data": {
      "application/vnd.jupyter.widget-view+json": {
       "model_id": "e9d2d13e136841aa829dfc042d2457a1",
       "version_major": 2,
       "version_minor": 0
      },
      "text/plain": [
       "HBox(children=(FloatProgress(value=0.0, max=32.0), HTML(value='')))"
      ]
     },
     "metadata": {},
     "output_type": "display_data"
    },
    {
     "name": "stdout",
     "output_type": "stream",
     "text": [
      "\n"
     ]
    },
    {
     "data": {
      "application/vnd.jupyter.widget-view+json": {
       "model_id": "bbd890fa86b145e7bdd7fe99ba55a550",
       "version_major": 2,
       "version_minor": 0
      },
      "text/plain": [
       "HBox(children=(FloatProgress(value=0.0, max=1198.0), HTML(value='')))"
      ]
     },
     "metadata": {},
     "output_type": "display_data"
    },
    {
     "name": "stdout",
     "output_type": "stream",
     "text": [
      "[0.6443930140065469, 0.8264933166248956, 0.13519549174988976, 0.17256301798940998]\n",
      "\n",
      "Train loss: {0: [0.2361573862011483, 0.23856229832452375, 0.2261950676948891, 0.2382433125299084, 0.23771040256692902, 0.2524838845717164], 1: [0.23035201998370616, 0.2168626630380002, 0.2041753391928416, 0.2236131622332076, 0.22727207177057696, 0.231007462279489], 2: [0.23379658007271292, 0.2736394389034812, 0.25693924840018867, 0.2484234035016144, 0.24292647648257726, 0.2355383809522293]}\n",
      "Val loss: {0: [1.1149410669479454, 1.2187083615615215, 1.1516902665810886, 1.079907613495068, 1.009567661918911, 1.009873473328366], 1: [1.354112869771252, 0.9011968234290089, 0.7899874809198136, 0.7660672695691504, 0.7464858868677067, 0.742371076266351], 2: [0.6464427594148375, 0.6933274583567852, 0.8246800063782227, 0.8367447682178258, 0.7819647831239384, 0.7622702535194942]}\n",
      "\n"
     ]
    },
    {
     "data": {
      "application/vnd.jupyter.widget-view+json": {
       "model_id": "63c50238da894e29aa0a5b9e7b99eb53",
       "version_major": 2,
       "version_minor": 0
      },
      "text/plain": [
       "HBox(children=(FloatProgress(value=0.0, max=6.0), HTML(value='')))"
      ]
     },
     "metadata": {},
     "output_type": "display_data"
    },
    {
     "data": {
      "application/vnd.jupyter.widget-view+json": {
       "model_id": "3ec8898239a64e7c9d54500654b4ce6c",
       "version_major": 2,
       "version_minor": 0
      },
      "text/plain": [
       "HBox(children=(FloatProgress(value=0.0, max=32.0), HTML(value='')))"
      ]
     },
     "metadata": {},
     "output_type": "display_data"
    },
    {
     "name": "stdout",
     "output_type": "stream",
     "text": [
      "\n"
     ]
    },
    {
     "data": {
      "application/vnd.jupyter.widget-view+json": {
       "model_id": "2585be585d084bf59986cdf98921c3da",
       "version_major": 2,
       "version_minor": 0
      },
      "text/plain": [
       "HBox(children=(FloatProgress(value=0.0, max=1198.0), HTML(value='')))"
      ]
     },
     "metadata": {},
     "output_type": "display_data"
    },
    {
     "name": "stdout",
     "output_type": "stream",
     "text": [
      "Epoch 1/1\n",
      "1197/1197 [==============================] - 610s 509ms/step - loss: 0.2266 - acc: 0.9332 - recall_m: 0.7899 - precision_m: 0.8772\n",
      "\n"
     ]
    },
    {
     "data": {
      "application/vnd.jupyter.widget-view+json": {
       "model_id": "384ee66bba664a41bb47ded5667b6120",
       "version_major": 2,
       "version_minor": 0
      },
      "text/plain": [
       "HBox(children=(FloatProgress(value=0.0, max=32.0), HTML(value='')))"
      ]
     },
     "metadata": {},
     "output_type": "display_data"
    },
    {
     "name": "stdout",
     "output_type": "stream",
     "text": [
      "\n"
     ]
    },
    {
     "data": {
      "application/vnd.jupyter.widget-view+json": {
       "model_id": "18be2a8a749c470cacc3f3ff2d81426d",
       "version_major": 2,
       "version_minor": 0
      },
      "text/plain": [
       "HBox(children=(FloatProgress(value=0.0, max=1198.0), HTML(value='')))"
      ]
     },
     "metadata": {},
     "output_type": "display_data"
    },
    {
     "name": "stdout",
     "output_type": "stream",
     "text": [
      "[0.5033647662764703, 0.8505378028404345, 0.6972779812619601, 0.7107322690082573]\n",
      "\n",
      "Train loss: {0: [0.2361573862011483, 0.23856229832452375, 0.2261950676948891, 0.2382433125299084, 0.23771040256692902, 0.2524838845717164], 1: [0.23035201998370616, 0.2168626630380002, 0.2041753391928416, 0.2236131622332076, 0.22727207177057696, 0.231007462279489], 2: [0.23379658007271292, 0.2736394389034812, 0.25693924840018867, 0.2484234035016144, 0.24292647648257726, 0.2355383809522293], 3: [0.22655312602665764]}\n",
      "Val loss: {0: [1.1149410669479454, 1.2187083615615215, 1.1516902665810886, 1.079907613495068, 1.009567661918911, 1.009873473328366], 1: [1.354112869771252, 0.9011968234290089, 0.7899874809198136, 0.7660672695691504, 0.7464858868677067, 0.742371076266351], 2: [0.6464427594148375, 0.6933274583567852, 0.8246800063782227, 0.8367447682178258, 0.7819647831239384, 0.7622702535194942], 3: [0.5033647662764703]}\n"
     ]
    },
    {
     "data": {
      "application/vnd.jupyter.widget-view+json": {
       "model_id": "7bc9427eed3342d389a3ef2b0f53a8c5",
       "version_major": 2,
       "version_minor": 0
      },
      "text/plain": [
       "HBox(children=(FloatProgress(value=0.0, max=32.0), HTML(value='')))"
      ]
     },
     "metadata": {},
     "output_type": "display_data"
    },
    {
     "name": "stdout",
     "output_type": "stream",
     "text": [
      "\n"
     ]
    },
    {
     "data": {
      "application/vnd.jupyter.widget-view+json": {
       "model_id": "7aae444c90fe4764ac4e0f21ee25eec5",
       "version_major": 2,
       "version_minor": 0
      },
      "text/plain": [
       "HBox(children=(FloatProgress(value=0.0, max=1198.0), HTML(value='')))"
      ]
     },
     "metadata": {},
     "output_type": "display_data"
    },
    {
     "name": "stdout",
     "output_type": "stream",
     "text": [
      "Epoch 1/1\n",
      "1197/1197 [==============================] - 606s 506ms/step - loss: 0.2967 - acc: 0.9203 - recall_m: 0.6356 - precision_m: 0.8348\n",
      "\n"
     ]
    },
    {
     "data": {
      "application/vnd.jupyter.widget-view+json": {
       "model_id": "e347ede677d24edab64af115ef412bb2",
       "version_major": 2,
       "version_minor": 0
      },
      "text/plain": [
       "HBox(children=(FloatProgress(value=0.0, max=32.0), HTML(value='')))"
      ]
     },
     "metadata": {},
     "output_type": "display_data"
    },
    {
     "name": "stdout",
     "output_type": "stream",
     "text": [
      "\n"
     ]
    },
    {
     "data": {
      "application/vnd.jupyter.widget-view+json": {
       "model_id": "669b2ef95fe64230bb2741c825efa83e",
       "version_major": 2,
       "version_minor": 0
      },
      "text/plain": [
       "HBox(children=(FloatProgress(value=0.0, max=1198.0), HTML(value='')))"
      ]
     },
     "metadata": {},
     "output_type": "display_data"
    },
    {
     "name": "stdout",
     "output_type": "stream",
     "text": [
      "[0.7710012413604915, 0.7258510860484545, 0.6638522353661289, 0.2660736751461786]\n",
      "\n",
      "Train loss: {0: [0.2361573862011483, 0.23856229832452375, 0.2261950676948891, 0.2382433125299084, 0.23771040256692902, 0.2524838845717164], 1: [0.23035201998370616, 0.2168626630380002, 0.2041753391928416, 0.2236131622332076, 0.22727207177057696, 0.231007462279489], 2: [0.23379658007271292, 0.2736394389034812, 0.25693924840018867, 0.2484234035016144, 0.24292647648257726, 0.2355383809522293], 3: [0.22655312602665764, 0.2630475089064923]}\n",
      "Val loss: {0: [1.1149410669479454, 1.2187083615615215, 1.1516902665810886, 1.079907613495068, 1.009567661918911, 1.009873473328366], 1: [1.354112869771252, 0.9011968234290089, 0.7899874809198136, 0.7660672695691504, 0.7464858868677067, 0.742371076266351], 2: [0.6464427594148375, 0.6933274583567852, 0.8246800063782227, 0.8367447682178258, 0.7819647831239384, 0.7622702535194942], 3: [0.5033647662764703, 0.6312323101672485]}\n"
     ]
    },
    {
     "data": {
      "application/vnd.jupyter.widget-view+json": {
       "model_id": "598ce7d964ed46e5ba63d8fc5b2ffa2e",
       "version_major": 2,
       "version_minor": 0
      },
      "text/plain": [
       "HBox(children=(FloatProgress(value=0.0, max=32.0), HTML(value='')))"
      ]
     },
     "metadata": {},
     "output_type": "display_data"
    },
    {
     "name": "stdout",
     "output_type": "stream",
     "text": [
      "\n"
     ]
    },
    {
     "data": {
      "application/vnd.jupyter.widget-view+json": {
       "model_id": "cae4b715eacd43d9a4cf72881702c7a3",
       "version_major": 2,
       "version_minor": 0
      },
      "text/plain": [
       "HBox(children=(FloatProgress(value=0.0, max=1198.0), HTML(value='')))"
      ]
     },
     "metadata": {},
     "output_type": "display_data"
    },
    {
     "name": "stdout",
     "output_type": "stream",
     "text": [
      "Epoch 1/1\n",
      "1197/1197 [==============================] - 555s 464ms/step - loss: 0.1572 - acc: 0.9145 - recall_m: 0.7922 - precision_m: 0.7976\n",
      "\n"
     ]
    },
    {
     "data": {
      "application/vnd.jupyter.widget-view+json": {
       "model_id": "04ee3785549a4dd38119243f6be6ce28",
       "version_major": 2,
       "version_minor": 0
      },
      "text/plain": [
       "HBox(children=(FloatProgress(value=0.0, max=32.0), HTML(value='')))"
      ]
     },
     "metadata": {},
     "output_type": "display_data"
    },
    {
     "name": "stdout",
     "output_type": "stream",
     "text": [
      "\n"
     ]
    },
    {
     "data": {
      "application/vnd.jupyter.widget-view+json": {
       "model_id": "65d21a1f17584ed590a101b333f1f412",
       "version_major": 2,
       "version_minor": 0
      },
      "text/plain": [
       "HBox(children=(FloatProgress(value=0.0, max=1198.0), HTML(value='')))"
      ]
     },
     "metadata": {},
     "output_type": "display_data"
    },
    {
     "name": "stdout",
     "output_type": "stream",
     "text": [
      "[0.8178145506402903, 0.8368838763575606, 0.17531364989360373, 0.35369972075485845]\n",
      "\n",
      "Train loss: {0: [0.2361573862011483, 0.23856229832452375, 0.2261950676948891, 0.2382433125299084, 0.23771040256692902, 0.2524838845717164], 1: [0.23035201998370616, 0.2168626630380002, 0.2041753391928416, 0.2236131622332076, 0.22727207177057696, 0.231007462279489], 2: [0.23379658007271292, 0.2736394389034812, 0.25693924840018867, 0.2484234035016144, 0.24292647648257726, 0.2355383809522293], 3: [0.22655312602665764, 0.2630475089064923, 0.22928873814129624]}\n",
      "Val loss: {0: [1.1149410669479454, 1.2187083615615215, 1.1516902665810886, 1.079907613495068, 1.009567661918911, 1.009873473328366], 1: [1.354112869771252, 0.9011968234290089, 0.7899874809198136, 0.7660672695691504, 0.7464858868677067, 0.742371076266351], 2: [0.6464427594148375, 0.6933274583567852, 0.8246800063782227, 0.8367447682178258, 0.7819647831239384, 0.7622702535194942], 3: [0.5033647662764703, 0.6312323101672485, 0.6938219776037882]}\n"
     ]
    },
    {
     "data": {
      "application/vnd.jupyter.widget-view+json": {
       "model_id": "e18080bd93b343b3952339de3c87338d",
       "version_major": 2,
       "version_minor": 0
      },
      "text/plain": [
       "HBox(children=(FloatProgress(value=0.0, max=32.0), HTML(value='')))"
      ]
     },
     "metadata": {},
     "output_type": "display_data"
    },
    {
     "name": "stdout",
     "output_type": "stream",
     "text": [
      "\n"
     ]
    },
    {
     "data": {
      "application/vnd.jupyter.widget-view+json": {
       "model_id": "439ca03f55e34753baa86f61e6d461ea",
       "version_major": 2,
       "version_minor": 0
      },
      "text/plain": [
       "HBox(children=(FloatProgress(value=0.0, max=1198.0), HTML(value='')))"
      ]
     },
     "metadata": {},
     "output_type": "display_data"
    },
    {
     "name": "stdout",
     "output_type": "stream",
     "text": [
      "Epoch 1/1\n",
      "1197/1197 [==============================] - 597s 499ms/step - loss: 0.1800 - acc: 0.9125 - recall_m: 0.8589 - precision_m: 0.8546\n",
      "\n"
     ]
    },
    {
     "data": {
      "application/vnd.jupyter.widget-view+json": {
       "model_id": "233daefe1d0146bc9fed35683773f3cc",
       "version_major": 2,
       "version_minor": 0
      },
      "text/plain": [
       "HBox(children=(FloatProgress(value=0.0, max=32.0), HTML(value='')))"
      ]
     },
     "metadata": {},
     "output_type": "display_data"
    },
    {
     "name": "stdout",
     "output_type": "stream",
     "text": [
      "\n"
     ]
    },
    {
     "data": {
      "application/vnd.jupyter.widget-view+json": {
       "model_id": "579a1f5c8a4d40db923f392d93ad9e73",
       "version_major": 2,
       "version_minor": 0
      },
      "text/plain": [
       "HBox(children=(FloatProgress(value=0.0, max=1198.0), HTML(value='')))"
      ]
     },
     "metadata": {},
     "output_type": "display_data"
    },
    {
     "name": "stdout",
     "output_type": "stream",
     "text": [
      "[1.4015346384088299, 0.7920843776106934, 0.0262921213630646, 0.05930103087733961]\n",
      "\n",
      "Train loss: {0: [0.2361573862011483, 0.23856229832452375, 0.2261950676948891, 0.2382433125299084, 0.23771040256692902, 0.2524838845717164], 1: [0.23035201998370616, 0.2168626630380002, 0.2041753391928416, 0.2236131622332076, 0.22727207177057696, 0.231007462279489], 2: [0.23379658007271292, 0.2736394389034812, 0.25693924840018867, 0.2484234035016144, 0.24292647648257726, 0.2355383809522293], 3: [0.22655312602665764, 0.2630475089064923, 0.22928873814129624, 0.21643034968691877]}\n",
      "Val loss: {0: [1.1149410669479454, 1.2187083615615215, 1.1516902665810886, 1.079907613495068, 1.009567661918911, 1.009873473328366], 1: [1.354112869771252, 0.9011968234290089, 0.7899874809198136, 0.7660672695691504, 0.7464858868677067, 0.742371076266351], 2: [0.6464427594148375, 0.6933274583567852, 0.8246800063782227, 0.8367447682178258, 0.7819647831239384, 0.7622702535194942], 3: [0.5033647662764703, 0.6312323101672485, 0.6938219776037882, 0.8569198399667777]}\n"
     ]
    },
    {
     "data": {
      "application/vnd.jupyter.widget-view+json": {
       "model_id": "37106e618c164a8e9fa7ecaed56e4161",
       "version_major": 2,
       "version_minor": 0
      },
      "text/plain": [
       "HBox(children=(FloatProgress(value=0.0, max=32.0), HTML(value='')))"
      ]
     },
     "metadata": {},
     "output_type": "display_data"
    },
    {
     "name": "stdout",
     "output_type": "stream",
     "text": [
      "\n"
     ]
    },
    {
     "data": {
      "application/vnd.jupyter.widget-view+json": {
       "model_id": "e4614791745d4690a553d022f891534c",
       "version_major": 2,
       "version_minor": 0
      },
      "text/plain": [
       "HBox(children=(FloatProgress(value=0.0, max=1198.0), HTML(value='')))"
      ]
     },
     "metadata": {},
     "output_type": "display_data"
    },
    {
     "name": "stdout",
     "output_type": "stream",
     "text": [
      "Epoch 1/1\n",
      "1197/1197 [==============================] - 557s 465ms/step - loss: 0.2017 - acc: 0.9421 - recall_m: 0.6913 - precision_m: 0.7602\n",
      "\n"
     ]
    },
    {
     "data": {
      "application/vnd.jupyter.widget-view+json": {
       "model_id": "1e69e01a34514a7f8ad567a42bc6414f",
       "version_major": 2,
       "version_minor": 0
      },
      "text/plain": [
       "HBox(children=(FloatProgress(value=0.0, max=32.0), HTML(value='')))"
      ]
     },
     "metadata": {},
     "output_type": "display_data"
    },
    {
     "name": "stdout",
     "output_type": "stream",
     "text": [
      "\n"
     ]
    },
    {
     "data": {
      "application/vnd.jupyter.widget-view+json": {
       "model_id": "62559a06441a4a449ad6018ed50295e1",
       "version_major": 2,
       "version_minor": 0
      },
      "text/plain": [
       "HBox(children=(FloatProgress(value=0.0, max=1198.0), HTML(value='')))"
      ]
     },
     "metadata": {},
     "output_type": "display_data"
    },
    {
     "name": "stdout",
     "output_type": "stream",
     "text": [
      "[0.6319801297751485, 0.8500939849624061, 0.3952991005372483, 0.48189322655412087]\n",
      "\n",
      "Train loss: {0: [0.2361573862011483, 0.23856229832452375, 0.2261950676948891, 0.2382433125299084, 0.23771040256692902, 0.2524838845717164], 1: [0.23035201998370616, 0.2168626630380002, 0.2041753391928416, 0.2236131622332076, 0.22727207177057696, 0.231007462279489], 2: [0.23379658007271292, 0.2736394389034812, 0.25693924840018867, 0.2484234035016144, 0.24292647648257726, 0.2355383809522293], 3: [0.22655312602665764, 0.2630475089064923, 0.22928873814129624, 0.21643034968691877, 0.21335759745233623]}\n",
      "Val loss: {0: [1.1149410669479454, 1.2187083615615215, 1.1516902665810886, 1.079907613495068, 1.009567661918911, 1.009873473328366], 1: [1.354112869771252, 0.9011968234290089, 0.7899874809198136, 0.7660672695691504, 0.7464858868677067, 0.742371076266351], 2: [0.6464427594148375, 0.6933274583567852, 0.8246800063782227, 0.8367447682178258, 0.7819647831239384, 0.7622702535194942], 3: [0.5033647662764703, 0.6312323101672485, 0.6938219776037882, 0.8569198399667777, 0.8106675211790743]}\n"
     ]
    },
    {
     "data": {
      "application/vnd.jupyter.widget-view+json": {
       "model_id": "29e0707ad91043a2b05d273befcb07d3",
       "version_major": 2,
       "version_minor": 0
      },
      "text/plain": [
       "HBox(children=(FloatProgress(value=0.0, max=32.0), HTML(value='')))"
      ]
     },
     "metadata": {},
     "output_type": "display_data"
    },
    {
     "name": "stdout",
     "output_type": "stream",
     "text": [
      "\n"
     ]
    },
    {
     "data": {
      "application/vnd.jupyter.widget-view+json": {
       "model_id": "80a3945233fa4a03a894d7d4377ac208",
       "version_major": 2,
       "version_minor": 0
      },
      "text/plain": [
       "HBox(children=(FloatProgress(value=0.0, max=1198.0), HTML(value='')))"
      ]
     },
     "metadata": {},
     "output_type": "display_data"
    },
    {
     "name": "stdout",
     "output_type": "stream",
     "text": [
      "Epoch 1/1\n",
      "1197/1197 [==============================] - 603s 504ms/step - loss: 0.1840 - acc: 0.9505 - recall_m: 0.6009 - precision_m: 0.6670\n",
      "\n"
     ]
    },
    {
     "data": {
      "application/vnd.jupyter.widget-view+json": {
       "model_id": "b30d74e889d34703b2af4f2da0b7497d",
       "version_major": 2,
       "version_minor": 0
      },
      "text/plain": [
       "HBox(children=(FloatProgress(value=0.0, max=32.0), HTML(value='')))"
      ]
     },
     "metadata": {},
     "output_type": "display_data"
    },
    {
     "name": "stdout",
     "output_type": "stream",
     "text": [
      "\n"
     ]
    },
    {
     "data": {
      "application/vnd.jupyter.widget-view+json": {
       "model_id": "fd8a5fa99f424cfe8fa165f3bdf815d5",
       "version_major": 2,
       "version_minor": 0
      },
      "text/plain": [
       "HBox(children=(FloatProgress(value=0.0, max=1198.0), HTML(value='')))"
      ]
     },
     "metadata": {},
     "output_type": "display_data"
    },
    {
     "name": "stdout",
     "output_type": "stream",
     "text": [
      "[0.4943365632690981, 0.8731203007518797, 0.14745645177742792, 0.4616541170585922]\n",
      "\n",
      "Train loss: {0: [0.2361573862011483, 0.23856229832452375, 0.2261950676948891, 0.2382433125299084, 0.23771040256692902, 0.2524838845717164], 1: [0.23035201998370616, 0.2168626630380002, 0.2041753391928416, 0.2236131622332076, 0.22727207177057696, 0.231007462279489], 2: [0.23379658007271292, 0.2736394389034812, 0.25693924840018867, 0.2484234035016144, 0.24292647648257726, 0.2355383809522293], 3: [0.22655312602665764, 0.2630475089064923, 0.22928873814129624, 0.21643034968691877, 0.21335759745233623, 0.20853233960338707]}\n",
      "Val loss: {0: [1.1149410669479454, 1.2187083615615215, 1.1516902665810886, 1.079907613495068, 1.009567661918911, 1.009873473328366], 1: [1.354112869771252, 0.9011968234290089, 0.7899874809198136, 0.7660672695691504, 0.7464858868677067, 0.742371076266351], 2: [0.6464427594148375, 0.6933274583567852, 0.8246800063782227, 0.8367447682178258, 0.7819647831239384, 0.7622702535194942], 3: [0.5033647662764703, 0.6312323101672485, 0.6938219776037882, 0.8569198399667777, 0.8106675211790743, 0.7567256934471468]}\n",
      "\n"
     ]
    },
    {
     "data": {
      "application/vnd.jupyter.widget-view+json": {
       "model_id": "12b5aae326f946ab81fbcb5aab7c16cc",
       "version_major": 2,
       "version_minor": 0
      },
      "text/plain": [
       "HBox(children=(FloatProgress(value=0.0, max=6.0), HTML(value='')))"
      ]
     },
     "metadata": {},
     "output_type": "display_data"
    },
    {
     "data": {
      "application/vnd.jupyter.widget-view+json": {
       "model_id": "a6ddb8f8101740d1a9f7f72ecce386d9",
       "version_major": 2,
       "version_minor": 0
      },
      "text/plain": [
       "HBox(children=(FloatProgress(value=0.0, max=32.0), HTML(value='')))"
      ]
     },
     "metadata": {},
     "output_type": "display_data"
    },
    {
     "name": "stdout",
     "output_type": "stream",
     "text": [
      "\n"
     ]
    },
    {
     "data": {
      "application/vnd.jupyter.widget-view+json": {
       "model_id": "6f977a0dfd824502beee1ecb0cd0c23c",
       "version_major": 2,
       "version_minor": 0
      },
      "text/plain": [
       "HBox(children=(FloatProgress(value=0.0, max=1198.0), HTML(value='')))"
      ]
     },
     "metadata": {},
     "output_type": "display_data"
    },
    {
     "name": "stdout",
     "output_type": "stream",
     "text": [
      "Epoch 1/1\n",
      "1197/1197 [==============================] - 568s 474ms/step - loss: 0.2327 - acc: 0.9392 - recall_m: 0.8327 - precision_m: 0.8700\n",
      "\n"
     ]
    },
    {
     "data": {
      "application/vnd.jupyter.widget-view+json": {
       "model_id": "55906c625dbd4e6c8ab197a024983f76",
       "version_major": 2,
       "version_minor": 0
      },
      "text/plain": [
       "HBox(children=(FloatProgress(value=0.0, max=32.0), HTML(value='')))"
      ]
     },
     "metadata": {},
     "output_type": "display_data"
    },
    {
     "name": "stdout",
     "output_type": "stream",
     "text": [
      "\n"
     ]
    },
    {
     "data": {
      "application/vnd.jupyter.widget-view+json": {
       "model_id": "8882c2f0b0534d0aab113ef0d3cdca2d",
       "version_major": 2,
       "version_minor": 0
      },
      "text/plain": [
       "HBox(children=(FloatProgress(value=0.0, max=1198.0), HTML(value='')))"
      ]
     },
     "metadata": {},
     "output_type": "display_data"
    },
    {
     "name": "stdout",
     "output_type": "stream",
     "text": [
      "[0.7962908565798897, 0.7409147869674185, 0.43338927544448014, 0.3996433187945246]\n",
      "\n",
      "Train loss: {0: [0.2361573862011483, 0.23856229832452375, 0.2261950676948891, 0.2382433125299084, 0.23771040256692902, 0.2524838845717164], 1: [0.23035201998370616, 0.2168626630380002, 0.2041753391928416, 0.2236131622332076, 0.22727207177057696, 0.231007462279489], 2: [0.23379658007271292, 0.2736394389034812, 0.25693924840018867, 0.2484234035016144, 0.24292647648257726, 0.2355383809522293], 3: [0.22655312602665764, 0.2630475089064923, 0.22928873814129624, 0.21643034968691877, 0.21335759745233623, 0.20853233960338707], 4: [0.2327172604409718]}\n",
      "Val loss: {0: [1.1149410669479454, 1.2187083615615215, 1.1516902665810886, 1.079907613495068, 1.009567661918911, 1.009873473328366], 1: [1.354112869771252, 0.9011968234290089, 0.7899874809198136, 0.7660672695691504, 0.7464858868677067, 0.742371076266351], 2: [0.6464427594148375, 0.6933274583567852, 0.8246800063782227, 0.8367447682178258, 0.7819647831239384, 0.7622702535194942], 3: [0.5033647662764703, 0.6312323101672485, 0.6938219776037882, 0.8569198399667777, 0.8106675211790743, 0.7567256934471468], 4: [0.7962908565798897]}\n"
     ]
    },
    {
     "data": {
      "application/vnd.jupyter.widget-view+json": {
       "model_id": "fd30f1639ee549038d21c40d2acafc4a",
       "version_major": 2,
       "version_minor": 0
      },
      "text/plain": [
       "HBox(children=(FloatProgress(value=0.0, max=32.0), HTML(value='')))"
      ]
     },
     "metadata": {},
     "output_type": "display_data"
    },
    {
     "name": "stdout",
     "output_type": "stream",
     "text": [
      "\n"
     ]
    },
    {
     "data": {
      "application/vnd.jupyter.widget-view+json": {
       "model_id": "64f47e462e7146fa94750bf688dde4e5",
       "version_major": 2,
       "version_minor": 0
      },
      "text/plain": [
       "HBox(children=(FloatProgress(value=0.0, max=1198.0), HTML(value='')))"
      ]
     },
     "metadata": {},
     "output_type": "display_data"
    },
    {
     "name": "stdout",
     "output_type": "stream",
     "text": [
      "Epoch 1/1\n",
      "1197/1197 [==============================] - 588s 491ms/step - loss: 0.2093 - acc: 0.9615 - recall_m: 0.7935 - precision_m: 0.9029\n",
      "\n"
     ]
    },
    {
     "data": {
      "application/vnd.jupyter.widget-view+json": {
       "model_id": "32d3808538374a34ad70dbd95dd144c6",
       "version_major": 2,
       "version_minor": 0
      },
      "text/plain": [
       "HBox(children=(FloatProgress(value=0.0, max=32.0), HTML(value='')))"
      ]
     },
     "metadata": {},
     "output_type": "display_data"
    },
    {
     "name": "stdout",
     "output_type": "stream",
     "text": [
      "\n"
     ]
    },
    {
     "data": {
      "application/vnd.jupyter.widget-view+json": {
       "model_id": "335a9db8b13140539b78b3f2e1df8a85",
       "version_major": 2,
       "version_minor": 0
      },
      "text/plain": [
       "HBox(children=(FloatProgress(value=0.0, max=1198.0), HTML(value='')))"
      ]
     },
     "metadata": {},
     "output_type": "display_data"
    },
    {
     "name": "stdout",
     "output_type": "stream",
     "text": [
      "[0.489739242807317, 0.8575344611528822, 0.23809948896579974, 0.4105992416167319]\n",
      "\n",
      "Train loss: {0: [0.2361573862011483, 0.23856229832452375, 0.2261950676948891, 0.2382433125299084, 0.23771040256692902, 0.2524838845717164], 1: [0.23035201998370616, 0.2168626630380002, 0.2041753391928416, 0.2236131622332076, 0.22727207177057696, 0.231007462279489], 2: [0.23379658007271292, 0.2736394389034812, 0.25693924840018867, 0.2484234035016144, 0.24292647648257726, 0.2355383809522293], 3: [0.22655312602665764, 0.2630475089064923, 0.22928873814129624, 0.21643034968691877, 0.21335759745233623, 0.20853233960338707], 4: [0.2327172604409718, 0.22203397155316015]}\n",
      "Val loss: {0: [1.1149410669479454, 1.2187083615615215, 1.1516902665810886, 1.079907613495068, 1.009567661918911, 1.009873473328366], 1: [1.354112869771252, 0.9011968234290089, 0.7899874809198136, 0.7660672695691504, 0.7464858868677067, 0.742371076266351], 2: [0.6464427594148375, 0.6933274583567852, 0.8246800063782227, 0.8367447682178258, 0.7819647831239384, 0.7622702535194942], 3: [0.5033647662764703, 0.6312323101672485, 0.6938219776037882, 0.8569198399667777, 0.8106675211790743, 0.7567256934471468], 4: [0.7962908565798897, 0.6501907677695132]}\n"
     ]
    },
    {
     "data": {
      "application/vnd.jupyter.widget-view+json": {
       "model_id": "d443a197bd5244fe85a17aaca6606ad9",
       "version_major": 2,
       "version_minor": 0
      },
      "text/plain": [
       "HBox(children=(FloatProgress(value=0.0, max=32.0), HTML(value='')))"
      ]
     },
     "metadata": {},
     "output_type": "display_data"
    },
    {
     "name": "stdout",
     "output_type": "stream",
     "text": [
      "\n"
     ]
    },
    {
     "data": {
      "application/vnd.jupyter.widget-view+json": {
       "model_id": "24bbced4e6db4e4cbbc68795c50a6a43",
       "version_major": 2,
       "version_minor": 0
      },
      "text/plain": [
       "HBox(children=(FloatProgress(value=0.0, max=1198.0), HTML(value='')))"
      ]
     },
     "metadata": {},
     "output_type": "display_data"
    },
    {
     "name": "stdout",
     "output_type": "stream",
     "text": [
      "Epoch 1/1\n",
      " 644/1197 [===============>..............] - ETA: 3:58 - loss: 0.1888 - acc: 0.9551 - recall_m: 0.8631 - precision_m: 0.9416\n",
      "\n"
     ]
    },
    {
     "ename": "KeyboardInterrupt",
     "evalue": "",
     "output_type": "error",
     "traceback": [
      "\u001b[0;31m---------------------------------------------------------------------------\u001b[0m",
      "\u001b[0;31mKeyboardInterrupt\u001b[0m                         Traceback (most recent call last)",
      "\u001b[0;32m<ipython-input-72-ad0270e1e090>\u001b[0m in \u001b[0;36m<module>\u001b[0;34m\u001b[0m\n\u001b[1;32m     23\u001b[0m             \u001b[0mtrain_generator\u001b[0m\u001b[0;34m,\u001b[0m\u001b[0;34m\u001b[0m\u001b[0m\n\u001b[1;32m     24\u001b[0m             \u001b[0mepochs\u001b[0m\u001b[0;34m=\u001b[0m\u001b[0;36m1\u001b[0m\u001b[0;34m,\u001b[0m\u001b[0;34m\u001b[0m\u001b[0m\n\u001b[0;32m---> 25\u001b[0;31m             \u001b[0msteps_per_epoch\u001b[0m\u001b[0;34m=\u001b[0m\u001b[0mtrain_chunks\u001b[0m \u001b[0;34m-\u001b[0m \u001b[0mGENERATOR_PAD_BUG\u001b[0m\u001b[0;34m,\u001b[0m\u001b[0;34m\u001b[0m\u001b[0m\n\u001b[0m\u001b[1;32m     26\u001b[0m \u001b[0;31m#             class_weight=[1, 10]\u001b[0m\u001b[0;34m\u001b[0m\u001b[0;34m\u001b[0m\u001b[0m\n\u001b[1;32m     27\u001b[0m \u001b[0;31m#             pickle_safe=False\u001b[0m\u001b[0;34m\u001b[0m\u001b[0;34m\u001b[0m\u001b[0m\n",
      "\u001b[0;32m/usr/local/lib/python3.5/dist-packages/keras/legacy/interfaces.py\u001b[0m in \u001b[0;36mwrapper\u001b[0;34m(*args, **kwargs)\u001b[0m\n\u001b[1;32m     89\u001b[0m                 warnings.warn('Update your `' + object_name +\n\u001b[1;32m     90\u001b[0m                               '` call to the Keras 2 API: ' + signature, stacklevel=2)\n\u001b[0;32m---> 91\u001b[0;31m             \u001b[0;32mreturn\u001b[0m \u001b[0mfunc\u001b[0m\u001b[0;34m(\u001b[0m\u001b[0;34m*\u001b[0m\u001b[0margs\u001b[0m\u001b[0;34m,\u001b[0m \u001b[0;34m**\u001b[0m\u001b[0mkwargs\u001b[0m\u001b[0;34m)\u001b[0m\u001b[0;34m\u001b[0m\u001b[0m\n\u001b[0m\u001b[1;32m     92\u001b[0m         \u001b[0mwrapper\u001b[0m\u001b[0;34m.\u001b[0m\u001b[0m_original_function\u001b[0m \u001b[0;34m=\u001b[0m \u001b[0mfunc\u001b[0m\u001b[0;34m\u001b[0m\u001b[0m\n\u001b[1;32m     93\u001b[0m         \u001b[0;32mreturn\u001b[0m \u001b[0mwrapper\u001b[0m\u001b[0;34m\u001b[0m\u001b[0m\n",
      "\u001b[0;32m/usr/local/lib/python3.5/dist-packages/keras/engine/training.py\u001b[0m in \u001b[0;36mfit_generator\u001b[0;34m(self, generator, steps_per_epoch, epochs, verbose, callbacks, validation_data, validation_steps, class_weight, max_queue_size, workers, use_multiprocessing, shuffle, initial_epoch)\u001b[0m\n\u001b[1;32m   1424\u001b[0m             \u001b[0muse_multiprocessing\u001b[0m\u001b[0;34m=\u001b[0m\u001b[0muse_multiprocessing\u001b[0m\u001b[0;34m,\u001b[0m\u001b[0;34m\u001b[0m\u001b[0m\n\u001b[1;32m   1425\u001b[0m             \u001b[0mshuffle\u001b[0m\u001b[0;34m=\u001b[0m\u001b[0mshuffle\u001b[0m\u001b[0;34m,\u001b[0m\u001b[0;34m\u001b[0m\u001b[0m\n\u001b[0;32m-> 1426\u001b[0;31m             initial_epoch=initial_epoch)\n\u001b[0m\u001b[1;32m   1427\u001b[0m \u001b[0;34m\u001b[0m\u001b[0m\n\u001b[1;32m   1428\u001b[0m     \u001b[0;34m@\u001b[0m\u001b[0minterfaces\u001b[0m\u001b[0;34m.\u001b[0m\u001b[0mlegacy_generator_methods_support\u001b[0m\u001b[0;34m\u001b[0m\u001b[0m\n",
      "\u001b[0;32m/usr/local/lib/python3.5/dist-packages/keras/engine/training_generator.py\u001b[0m in \u001b[0;36mfit_generator\u001b[0;34m(model, generator, steps_per_epoch, epochs, verbose, callbacks, validation_data, validation_steps, class_weight, max_queue_size, workers, use_multiprocessing, shuffle, initial_epoch)\u001b[0m\n\u001b[1;32m    153\u001b[0m             \u001b[0mbatch_index\u001b[0m \u001b[0;34m=\u001b[0m \u001b[0;36m0\u001b[0m\u001b[0;34m\u001b[0m\u001b[0m\n\u001b[1;32m    154\u001b[0m             \u001b[0;32mwhile\u001b[0m \u001b[0msteps_done\u001b[0m \u001b[0;34m<\u001b[0m \u001b[0msteps_per_epoch\u001b[0m\u001b[0;34m:\u001b[0m\u001b[0;34m\u001b[0m\u001b[0m\n\u001b[0;32m--> 155\u001b[0;31m                 \u001b[0mgenerator_output\u001b[0m \u001b[0;34m=\u001b[0m \u001b[0mnext\u001b[0m\u001b[0;34m(\u001b[0m\u001b[0moutput_generator\u001b[0m\u001b[0;34m)\u001b[0m\u001b[0;34m\u001b[0m\u001b[0m\n\u001b[0m\u001b[1;32m    156\u001b[0m \u001b[0;34m\u001b[0m\u001b[0m\n\u001b[1;32m    157\u001b[0m                 \u001b[0;32mif\u001b[0m \u001b[0;32mnot\u001b[0m \u001b[0mhasattr\u001b[0m\u001b[0;34m(\u001b[0m\u001b[0mgenerator_output\u001b[0m\u001b[0;34m,\u001b[0m \u001b[0;34m'__len__'\u001b[0m\u001b[0;34m)\u001b[0m\u001b[0;34m:\u001b[0m\u001b[0;34m\u001b[0m\u001b[0m\n",
      "\u001b[0;32m/usr/local/lib/python3.5/dist-packages/keras/utils/data_utils.py\u001b[0m in \u001b[0;36mget\u001b[0;34m(self)\u001b[0m\n\u001b[1;32m    785\u001b[0m                     \u001b[0;32mraise\u001b[0m \u001b[0mStopIteration\u001b[0m\u001b[0;34m(\u001b[0m\u001b[0;34m)\u001b[0m\u001b[0;34m\u001b[0m\u001b[0m\n\u001b[1;32m    786\u001b[0m                 \u001b[0;32melse\u001b[0m\u001b[0;34m:\u001b[0m\u001b[0;34m\u001b[0m\u001b[0m\n\u001b[0;32m--> 787\u001b[0;31m                     \u001b[0mtime\u001b[0m\u001b[0;34m.\u001b[0m\u001b[0msleep\u001b[0m\u001b[0;34m(\u001b[0m\u001b[0mself\u001b[0m\u001b[0;34m.\u001b[0m\u001b[0mwait_time\u001b[0m\u001b[0;34m)\u001b[0m\u001b[0;34m\u001b[0m\u001b[0m\n\u001b[0m\u001b[1;32m    788\u001b[0m \u001b[0;34m\u001b[0m\u001b[0m\n\u001b[1;32m    789\u001b[0m         \u001b[0;31m# Make sure to rethrow the first exception in the queue, if any\u001b[0m\u001b[0;34m\u001b[0m\u001b[0;34m\u001b[0m\u001b[0m\n",
      "\u001b[0;31mKeyboardInterrupt\u001b[0m: "
     ]
    }
   ],
   "source": [
    "total_train_history = {}\n",
    "total_val_history = {}\n",
    "\n",
    "for epoch in tqdm(range(10)):\n",
    "    total_train_history[epoch] = []\n",
    "    total_val_history[epoch] = []\n",
    "    \n",
    "    total_train_loss = 0\n",
    "    total_train_chunks = 0\n",
    "    \n",
    "    total_val_loss = 0\n",
    "    total_val_chunks = 0\n",
    "    \n",
    "    for train_files, val_files in tqdm_notebook(list(zip(iterate_files(train_df), iterate_files(val_df)))):\n",
    "        # Training\n",
    "        \n",
    "        train_data, train_events = get_data_multiple(train_df, train_files)\n",
    "        train_generator = ChunksIterator(train_data, train_events, tqdm_enabled=True)\n",
    "        \n",
    "        train_chunks = train_generator.iterations_number\n",
    "        \n",
    "        train_history = model.fit_generator(\n",
    "            train_generator, \n",
    "            epochs=1, \n",
    "            steps_per_epoch=train_chunks - GENERATOR_PAD_BUG,\n",
    "#             class_weight=[1, 10]\n",
    "#             pickle_safe=False\n",
    "        )\n",
    "        \n",
    "        total_train_loss += train_history.history['loss'][0] * train_generator.valid_chunks\n",
    "        total_train_chunks += train_generator.valid_chunks\n",
    "        \n",
    "        model.reset_states()\n",
    "        \n",
    "        del train_generator\n",
    "        del train_data\n",
    "        del train_events\n",
    "        \n",
    "        # Validation\n",
    "        \n",
    "        val_data, val_events = get_data_multiple(val_df, val_files)\n",
    "        val_generator = ChunksIterator(val_data, val_events, tqdm_enabled=True)\n",
    "        \n",
    "        val_chunks = val_generator.iterations_number\n",
    "        \n",
    "        val_metrics = model.evaluate_generator(\n",
    "            val_generator,\n",
    "            steps=val_chunks - GENERATOR_PAD_BUG\n",
    "#             pickle_safe=False\n",
    "        )\n",
    "        \n",
    "        print(val_metrics)\n",
    "        \n",
    "        total_val_loss += val_metrics[0] * val_generator.valid_chunks\n",
    "        total_val_chunks += val_generator.valid_chunks\n",
    "        \n",
    "        model.reset_states()\n",
    "        del val_generator\n",
    "        del val_data\n",
    "        del val_events\n",
    "        \n",
    "        total_train_history[epoch].append(total_train_loss / total_train_chunks)\n",
    "        total_val_history[epoch].append(total_val_loss / total_val_chunks)\n",
    "        \n",
    "        print(\"Train loss:\", total_train_history)\n",
    "        print(\"Val loss:\", total_val_history)\n",
    "    \n",
    "        model.save_weights(\"./models/fc-fft-model-{}.h5\".format(epoch))"
   ]
  },
  {
   "cell_type": "markdown",
   "metadata": {},
   "source": [
    "Масштаб данных был увеличен, и это сильно улучшило качество модели. Что произойдет, если в самом начале скалировать данные? Что произойдет, если использовать логарифм амплитуды?"
   ]
  },
  {
   "cell_type": "code",
   "execution_count": 73,
   "metadata": {},
   "outputs": [
    {
     "ename": "NameError",
     "evalue": "name 'train_losses' is not defined",
     "output_type": "error",
     "traceback": [
      "\u001b[0;31m---------------------------------------------------------------------------\u001b[0m",
      "\u001b[0;31mNameError\u001b[0m                                 Traceback (most recent call last)",
      "\u001b[0;32m<ipython-input-73-769917c6b092>\u001b[0m in \u001b[0;36m<module>\u001b[0;34m\u001b[0m\n\u001b[0;32m----> 1\u001b[0;31m \u001b[0mplt\u001b[0m\u001b[0;34m.\u001b[0m\u001b[0mplot\u001b[0m\u001b[0;34m(\u001b[0m\u001b[0;34m[\u001b[0m\u001b[0mtrain_losses\u001b[0m\u001b[0;34m[\u001b[0m\u001b[0mk\u001b[0m\u001b[0;34m]\u001b[0m\u001b[0;34m[\u001b[0m\u001b[0;34m-\u001b[0m\u001b[0;36m1\u001b[0m\u001b[0;34m]\u001b[0m \u001b[0;32mfor\u001b[0m \u001b[0mk\u001b[0m \u001b[0;32min\u001b[0m \u001b[0mrange\u001b[0m\u001b[0;34m(\u001b[0m\u001b[0;36m5\u001b[0m\u001b[0;34m)\u001b[0m\u001b[0;34m]\u001b[0m\u001b[0;34m)\u001b[0m\u001b[0;34m\u001b[0m\u001b[0m\n\u001b[0m\u001b[1;32m      2\u001b[0m \u001b[0mplt\u001b[0m\u001b[0;34m.\u001b[0m\u001b[0mplot\u001b[0m\u001b[0;34m(\u001b[0m\u001b[0;34m[\u001b[0m\u001b[0mval_losses\u001b[0m\u001b[0;34m[\u001b[0m\u001b[0mk\u001b[0m\u001b[0;34m]\u001b[0m\u001b[0;34m[\u001b[0m\u001b[0;34m-\u001b[0m\u001b[0;36m1\u001b[0m\u001b[0;34m]\u001b[0m \u001b[0;32mfor\u001b[0m \u001b[0mk\u001b[0m \u001b[0;32min\u001b[0m \u001b[0mrange\u001b[0m\u001b[0;34m(\u001b[0m\u001b[0;36m5\u001b[0m\u001b[0;34m)\u001b[0m\u001b[0;34m]\u001b[0m\u001b[0;34m)\u001b[0m\u001b[0;34m\u001b[0m\u001b[0m\n",
      "\u001b[0;32m<ipython-input-73-769917c6b092>\u001b[0m in \u001b[0;36m<listcomp>\u001b[0;34m(.0)\u001b[0m\n\u001b[0;32m----> 1\u001b[0;31m \u001b[0mplt\u001b[0m\u001b[0;34m.\u001b[0m\u001b[0mplot\u001b[0m\u001b[0;34m(\u001b[0m\u001b[0;34m[\u001b[0m\u001b[0mtrain_losses\u001b[0m\u001b[0;34m[\u001b[0m\u001b[0mk\u001b[0m\u001b[0;34m]\u001b[0m\u001b[0;34m[\u001b[0m\u001b[0;34m-\u001b[0m\u001b[0;36m1\u001b[0m\u001b[0;34m]\u001b[0m \u001b[0;32mfor\u001b[0m \u001b[0mk\u001b[0m \u001b[0;32min\u001b[0m \u001b[0mrange\u001b[0m\u001b[0;34m(\u001b[0m\u001b[0;36m5\u001b[0m\u001b[0;34m)\u001b[0m\u001b[0;34m]\u001b[0m\u001b[0;34m)\u001b[0m\u001b[0;34m\u001b[0m\u001b[0m\n\u001b[0m\u001b[1;32m      2\u001b[0m \u001b[0mplt\u001b[0m\u001b[0;34m.\u001b[0m\u001b[0mplot\u001b[0m\u001b[0;34m(\u001b[0m\u001b[0;34m[\u001b[0m\u001b[0mval_losses\u001b[0m\u001b[0;34m[\u001b[0m\u001b[0mk\u001b[0m\u001b[0;34m]\u001b[0m\u001b[0;34m[\u001b[0m\u001b[0;34m-\u001b[0m\u001b[0;36m1\u001b[0m\u001b[0;34m]\u001b[0m \u001b[0;32mfor\u001b[0m \u001b[0mk\u001b[0m \u001b[0;32min\u001b[0m \u001b[0mrange\u001b[0m\u001b[0;34m(\u001b[0m\u001b[0;36m5\u001b[0m\u001b[0;34m)\u001b[0m\u001b[0;34m]\u001b[0m\u001b[0;34m)\u001b[0m\u001b[0;34m\u001b[0m\u001b[0m\n",
      "\u001b[0;31mNameError\u001b[0m: name 'train_losses' is not defined"
     ]
    }
   ],
   "source": [
    "plt.plot([train_losses[k][-1] for k in range(5)])\n",
    "plt.plot([val_losses[k][-1] for k in range(5)])"
   ]
  },
  {
   "cell_type": "code",
   "execution_count": 76,
   "metadata": {},
   "outputs": [],
   "source": [
    "model.save_weights(\"./models/fc-fft-model-test.h5\")"
   ]
  },
  {
   "cell_type": "code",
   "execution_count": 78,
   "metadata": {},
   "outputs": [],
   "source": [
    "# model.load_weights(\"./models/cnn-lstm-fft-model-9.h5\")"
   ]
  },
  {
   "cell_type": "markdown",
   "metadata": {},
   "source": [
    "# Prediction"
   ]
  },
  {
   "cell_type": "code",
   "execution_count": 74,
   "metadata": {},
   "outputs": [],
   "source": [
    "test_files = next(iterate_files(val_df))"
   ]
  },
  {
   "cell_type": "code",
   "execution_count": 75,
   "metadata": {},
   "outputs": [
    {
     "name": "stderr",
     "output_type": "stream",
     "text": [
      "/usr/local/lib/python3.5/dist-packages/ipykernel_launcher.py:4: TqdmDeprecationWarning: This function will be removed in tqdm==5.0.0\n",
      "Please use `tqdm.notebook.tqdm` instead of `tqdm.tqdm_notebook`\n",
      "  after removing the cwd from sys.path.\n"
     ]
    },
    {
     "data": {
      "application/vnd.jupyter.widget-view+json": {
       "model_id": "74a47c7ff10a4093bc8214f0e858b56a",
       "version_major": 2,
       "version_minor": 0
      },
      "text/plain": [
       "HBox(children=(FloatProgress(value=0.0, max=32.0), HTML(value='')))"
      ]
     },
     "metadata": {},
     "output_type": "display_data"
    },
    {
     "name": "stdout",
     "output_type": "stream",
     "text": [
      "\n"
     ]
    }
   ],
   "source": [
    "test_data, test_events = get_data_multiple(val_df, test_files)"
   ]
  },
  {
   "cell_type": "code",
   "execution_count": 77,
   "metadata": {},
   "outputs": [],
   "source": [
    "class TestGenerator():\n",
    "    def __init__(self, data, events):\n",
    "        self.events = []\n",
    "        self.generator = ChunksIterator(data, events, tqdm_enabled=False)\n",
    "        self.generator.iterations = iter(tqdm(list(sorted(self.generator.iterations))))\n",
    "    \n",
    "    def __iter__(self):\n",
    "        return self\n",
    "    \n",
    "    def __next__(self):\n",
    "        data_chunk, events_chunk, masks_chunk = next(self.generator)\n",
    "        self.events.append(events_chunk)\n",
    "        return data_chunk, events_chunk"
   ]
  },
  {
   "cell_type": "code",
   "execution_count": 78,
   "metadata": {},
   "outputs": [
    {
     "name": "stderr",
     "output_type": "stream",
     "text": [
      "/usr/local/lib/python3.5/dist-packages/ipykernel_launcher.py:5: TqdmDeprecationWarning: This function will be removed in tqdm==5.0.0\n",
      "Please use `tqdm.notebook.tqdm` instead of `tqdm.tqdm_notebook`\n",
      "  \"\"\"\n"
     ]
    },
    {
     "data": {
      "application/vnd.jupyter.widget-view+json": {
       "model_id": "595c613b8221492eb55e0ac2f4891942",
       "version_major": 2,
       "version_minor": 0
      },
      "text/plain": [
       "HBox(children=(FloatProgress(value=0.0, max=1198.0), HTML(value='')))"
      ]
     },
     "metadata": {},
     "output_type": "display_data"
    }
   ],
   "source": [
    "model.reset_states()\n",
    "\n",
    "test_generator = TestGenerator(test_data, test_events)"
   ]
  },
  {
   "cell_type": "code",
   "execution_count": 79,
   "metadata": {
    "scrolled": true
   },
   "outputs": [
    {
     "name": "stdout",
     "output_type": "stream",
     "text": [
      "\n"
     ]
    }
   ],
   "source": [
    "prediction = model.predict_generator(\n",
    "    test_generator,\n",
    "    test_generator.generator.iterations_number\n",
    ")"
   ]
  },
  {
   "cell_type": "code",
   "execution_count": 80,
   "metadata": {},
   "outputs": [],
   "source": [
    "all_true_events = np.stack(test_generator.events)"
   ]
  },
  {
   "cell_type": "code",
   "execution_count": 81,
   "metadata": {},
   "outputs": [],
   "source": [
    "all_predicted_events = prediction.reshape(*all_true_events.shape)"
   ]
  },
  {
   "cell_type": "code",
   "execution_count": 82,
   "metadata": {},
   "outputs": [
    {
     "data": {
      "text/plain": [
       "0.1404424040066778"
      ]
     },
     "execution_count": 82,
     "metadata": {},
     "output_type": "execute_result"
    }
   ],
   "source": [
    "(all_true_events > 0.5).sum() / (all_true_events > -1).sum()"
   ]
  },
  {
   "cell_type": "code",
   "execution_count": 83,
   "metadata": {},
   "outputs": [
    {
     "data": {
      "text/plain": [
       "0.6207539"
      ]
     },
     "execution_count": 83,
     "metadata": {},
     "output_type": "execute_result"
    }
   ],
   "source": [
    "all_predicted_events[all_true_events > 0.5].mean()"
   ]
  },
  {
   "cell_type": "code",
   "execution_count": 84,
   "metadata": {},
   "outputs": [
    {
     "data": {
      "text/plain": [
       "0.33659124"
      ]
     },
     "execution_count": 84,
     "metadata": {},
     "output_type": "execute_result"
    }
   ],
   "source": [
    "all_predicted_events[all_true_events < 0.5].mean()"
   ]
  },
  {
   "cell_type": "code",
   "execution_count": 85,
   "metadata": {},
   "outputs": [
    {
     "data": {
      "text/plain": [
       "<matplotlib.legend.Legend at 0x7ff65b7aad30>"
      ]
     },
     "execution_count": 85,
     "metadata": {},
     "output_type": "execute_result"
    },
    {
     "data": {
      "image/png": "[encoded data removed]",
      "text/plain": [
       "<Figure size 432x288 with 1 Axes>"
      ]
     },
     "metadata": {
      "needs_background": "light"
     },
     "output_type": "display_data"
    }
   ],
   "source": [
    "sns.distplot(all_predicted_events[all_true_events > 0.5], label=\"True\")\n",
    "sns.distplot(all_predicted_events[all_true_events < 0.5], label=\"False\")\n",
    "plt.legend()"
   ]
  },
  {
   "cell_type": "code",
   "execution_count": 86,
   "metadata": {},
   "outputs": [],
   "source": [
    "def moving_average(a, n=3) :\n",
    "    ret = np.cumsum(a, dtype=float)\n",
    "    ret[n:] = ret[n:] - ret[:-n]\n",
    "    return ret[n - 1:] / n"
   ]
  },
  {
   "cell_type": "code",
   "execution_count": 87,
   "metadata": {},
   "outputs": [],
   "source": [
    "min_seizure_duration = 10 * CHUNK_FREQUENCY"
   ]
  },
  {
   "cell_type": "code",
   "execution_count": 88,
   "metadata": {
    "scrolled": true
   },
   "outputs": [
    {
     "data": {
      "image/png": "[encoded data removed]",
      "text/plain": [
       "<Figure size 432x288 with 1 Axes>"
      ]
     },
     "metadata": {
      "needs_background": "light"
     },
     "output_type": "display_data"
    },
    {
     "data": {
      "image/png": "[encoded data removed]",
      "text/plain": [
       "<Figure size 432x288 with 1 Axes>"
      ]
     },
     "metadata": {
      "needs_background": "light"
     },
     "output_type": "display_data"
    },
    {
     "data": {
      "image/png": "[encoded data removed]",
      "text/plain": [
       "<Figure size 432x288 with 1 Axes>"
      ]
     },
     "metadata": {
      "needs_background": "light"
     },
     "output_type": "display_data"
    },
    {
     "data": {
      "image/png": "[encoded data removed]",
      "text/plain": [
       "<Figure size 432x288 with 1 Axes>"
      ]
     },
     "metadata": {
      "needs_background": "light"
     },
     "output_type": "display_data"
    },
    {
     "data": {
      "image/png": "[encoded data removed]",
      "text/plain": [
       "<Figure size 432x288 with 1 Axes>"
      ]
     },
     "metadata": {
      "needs_background": "light"
     },
     "output_type": "display_data"
    },
    {
     "data": {
      "image/png": "[encoded data removed]",
      "text/plain": [
       "<Figure size 432x288 with 1 Axes>"
      ]
     },
     "metadata": {
      "needs_background": "light"
     },
     "output_type": "display_data"
    },
    {
     "data": {
      "image/png": "[encoded data removed]",
      "text/plain": [
       "<Figure size 432x288 with 1 Axes>"
      ]
     },
     "metadata": {
      "needs_background": "light"
     },
     "output_type": "display_data"
    },
    {
     "data": {
      "image/png": "[encoded data removed]",
      "text/plain": [
       "<Figure size 432x288 with 1 Axes>"
      ]
     },
     "metadata": {
      "needs_background": "light"
     },
     "output_type": "display_data"
    },
    {
     "data": {
      "image/png": "[encoded data removed]",
      "text/plain": [
       "<Figure size 432x288 with 1 Axes>"
      ]
     },
     "metadata": {
      "needs_background": "light"
     },
     "output_type": "display_data"
    },
    {
     "data": {
      "image/png": "[encoded data removed]",
      "text/plain": [
       "<Figure size 432x288 with 1 Axes>"
      ]
     },
     "metadata": {
      "needs_background": "light"
     },
     "output_type": "display_data"
    },
    {
     "data": {
      "image/png": "[encoded data removed]",
      "text/plain": [
       "<Figure size 432x288 with 1 Axes>"
      ]
     },
     "metadata": {
      "needs_background": "light"
     },
     "output_type": "display_data"
    },
    {
     "data": {
      "image/png": "[encoded data removed]",
      "text/plain": [
       "<Figure size 432x288 with 1 Axes>"
      ]
     },
     "metadata": {
      "needs_background": "light"
     },
     "output_type": "display_data"
    },
    {
     "data": {
      "image/png": "[encoded data removed]",
      "text/plain": [
       "<Figure size 432x288 with 1 Axes>"
      ]
     },
     "metadata": {
      "needs_background": "light"
     },
     "output_type": "display_data"
    },
    {
     "data": {
      "image/png": "[encoded data removed]",
      "text/plain": [
       "<Figure size 432x288 with 1 Axes>"
      ]
     },
     "metadata": {
      "needs_background": "light"
     },
     "output_type": "display_data"
    },
    {
     "data": {
      "image/png": "[encoded data removed]",
      "text/plain": [
       "<Figure size 432x288 with 1 Axes>"
      ]
     },
     "metadata": {
      "needs_background": "light"
     },
     "output_type": "display_data"
    },
    {
     "data": {
      "image/png": "[encoded data removed]",
      "text/plain": [
       "<Figure size 432x288 with 1 Axes>"
      ]
     },
     "metadata": {
      "needs_background": "light"
     },
     "output_type": "display_data"
    },
    {
     "data": {
      "image/png": "[encoded data removed]",
      "text/plain": [
       "<Figure size 432x288 with 1 Axes>"
      ]
     },
     "metadata": {
      "needs_background": "light"
     },
     "output_type": "display_data"
    },
    {
     "data": {
      "image/png": "[encoded data removed]",
      "text/plain": [
       "<Figure size 432x288 with 1 Axes>"
      ]
     },
     "metadata": {
      "needs_background": "light"
     },
     "output_type": "display_data"
    },
    {
     "data": {
      "image/png": "[encoded data removed]",
      "text/plain": [
       "<Figure size 432x288 with 1 Axes>"
      ]
     },
     "metadata": {
      "needs_background": "light"
     },
     "output_type": "display_data"
    },
    {
     "data": {
      "image/png": "[encoded data removed]",
      "text/plain": [
       "<Figure size 432x288 with 1 Axes>"
      ]
     },
     "metadata": {
      "needs_background": "light"
     },
     "output_type": "display_data"
    },
    {
     "data": {
      "image/png": "[encoded data removed]",
      "text/plain": [
       "<Figure size 432x288 with 1 Axes>"
      ]
     },
     "metadata": {
      "needs_background": "light"
     },
     "output_type": "display_data"
    },
    {
     "data": {
      "image/png": "[encoded data removed]",
      "text/plain": [
       "<Figure size 432x288 with 1 Axes>"
      ]
     },
     "metadata": {
      "needs_background": "light"
     },
     "output_type": "display_data"
    },
    {
     "data": {
      "image/png": "[encoded data removed]",
      "text/plain": [
       "<Figure size 432x288 with 1 Axes>"
      ]
     },
     "metadata": {
      "needs_background": "light"
     },
     "output_type": "display_data"
    },
    {
     "data": {
      "image/png": "[encoded data removed]",
      "text/plain": [
       "<Figure size 432x288 with 1 Axes>"
      ]
     },
     "metadata": {
      "needs_background": "light"
     },
     "output_type": "display_data"
    },
    {
     "data": {
      "image/png": "[encoded data removed]",
      "text/plain": [
       "<Figure size 432x288 with 1 Axes>"
      ]
     },
     "metadata": {
      "needs_background": "light"
     },
     "output_type": "display_data"
    },
    {
     "data": {
      "image/png": "[encoded data removed]",
      "text/plain": [
       "<Figure size 432x288 with 1 Axes>"
      ]
     },
     "metadata": {
      "needs_background": "light"
     },
     "output_type": "display_data"
    },
    {
     "data": {
      "image/png": "[encoded data removed]",
      "text/plain": [
       "<Figure size 432x288 with 1 Axes>"
      ]
     },
     "metadata": {
      "needs_background": "light"
     },
     "output_type": "display_data"
    },
    {
     "data": {
      "image/png": "[encoded data removed]",
      "text/plain": [
       "<Figure size 432x288 with 1 Axes>"
      ]
     },
     "metadata": {
      "needs_background": "light"
     },
     "output_type": "display_data"
    },
    {
     "data": {
      "image/png": "[encoded data removed]",
      "text/plain": [
       "<Figure size 432x288 with 1 Axes>"
      ]
     },
     "metadata": {
      "needs_background": "light"
     },
     "output_type": "display_data"
    },
    {
     "data": {
      "image/png": "[encoded data removed]",
      "text/plain": [
       "<Figure size 432x288 with 1 Axes>"
      ]
     },
     "metadata": {
      "needs_background": "light"
     },
     "output_type": "display_data"
    },
    {
     "data": {
      "image/png": "[encoded data removed]",
      "text/plain": [
       "<Figure size 432x288 with 1 Axes>"
      ]
     },
     "metadata": {
      "needs_background": "light"
     },
     "output_type": "display_data"
    },
    {
     "data": {
      "image/png": "[encoded data removed]",
      "text/plain": [
       "<Figure size 432x288 with 1 Axes>"
      ]
     },
     "metadata": {
      "needs_background": "light"
     },
     "output_type": "display_data"
    }
   ],
   "source": [
    "for series in range(32):\n",
    "    true_events_line = all_true_events[:, series, :].reshape(-1)\n",
    "    predicted_events_line = all_predicted_events[:, series, :].reshape(-1)\n",
    "    smoothed_events_line = (moving_average(predicted_events_line, n=min_seizure_duration) > 0.3).astype(int)\n",
    "    plt.plot(true_events_line, label=\"True\")\n",
    "    plt.plot(predicted_events_line, label=\"Predicted\")\n",
    "#     plt.plot(smoothed_events_line, label=\"Smoothed\")\n",
    "    plt.legend()\n",
    "    plt.show()"
   ]
  },
  {
   "cell_type": "markdown",
   "metadata": {},
   "source": [
    "# Heuristic smoothing"
   ]
  },
  {
   "cell_type": "markdown",
   "metadata": {},
   "source": [
    "0. Merging events\n",
    "1. Probabilistic filtering \n",
    "2. Duration filtering\n",
    "3. Target aggregation"
   ]
  },
  {
   "cell_type": "code",
   "execution_count": 41,
   "metadata": {},
   "outputs": [],
   "source": [
    "def merging_events(y_pred, threshold=0.5):\n",
    "    events = []\n",
    "    prev_class = \"bckg\"\n",
    "    curr_class = None\n",
    "    event_start = 0\n",
    "        \n",
    "    for index, value in enumerate(y_pred):\n",
    "        if (value > 0.5):\n",
    "            curr_class = \"seiz\"\n",
    "        else:\n",
    "            curr_class = \"bckg\"\n",
    "            \n",
    "        if prev_class != curr_class:\n",
    "            event = {\n",
    "                \"start\": event_start,\n",
    "                \"end\": index,\n",
    "                \"class\": prev_class,\n",
    "                \"probability\": y_pred[event_start:index].mean()\n",
    "            }\n",
    "            prev_class = curr_class\n",
    "            event_start = index\n",
    "            events.append(event)\n",
    "            \n",
    "    event = {\n",
    "        \"start\": event_start,\n",
    "        \"end\": index,\n",
    "        \"class\": prev_class,\n",
    "        \"probability\": y_pred[event_start:index].mean()\n",
    "    }\n",
    "    events.append(event)\n",
    "        \n",
    "    return events"
   ]
  },
  {
   "cell_type": "code",
   "execution_count": 42,
   "metadata": {},
   "outputs": [],
   "source": [
    "def probabilistic_filtering(events, threshold=0.75):\n",
    "    new_events = []\n",
    "    skip_next = False\n",
    "    \n",
    "    for index, event in enumerate(events):\n",
    "        if skip_next:\n",
    "            skip_next = False\n",
    "            continue\n",
    "        elif (event[\"class\"] == \"seiz\") and (event[\"probability\"] < threshold):\n",
    "            previous_event = new_events[-1]\n",
    "            next_event = events[index + 1]\n",
    "            new_event = previous_event\n",
    "            new_event[\"end\"] = next_event[\"end\"]\n",
    "            new_event[\"probability\"] = (next_event[\"probability\"] + previous_event[\"probability\"]) / 2\n",
    "            skip_next = True\n",
    "        else:\n",
    "            new_events.append(event)\n",
    "            \n",
    "    return new_events"
   ]
  },
  {
   "cell_type": "code",
   "execution_count": 43,
   "metadata": {},
   "outputs": [],
   "source": [
    "def duration_filtering(events, threshold=3):\n",
    "    new_events = []\n",
    "    skip_next = False\n",
    "    \n",
    "    for index, event in enumerate(events):\n",
    "        if skip_next:\n",
    "            skip_next = False\n",
    "            continue\n",
    "        elif (event[\"class\"] == \"seiz\") and ((event[\"end\"] - event[\"start\"]) < threshold):\n",
    "            previous_event = new_events[-1]\n",
    "            next_event = events[index + 1]\n",
    "            print(previous_event, next_event)\n",
    "            new_event = previous_event\n",
    "            new_event[\"end\"] = next_event[\"end\"]\n",
    "            new_event[\"probability\"] = (next_event[\"probability\"] + previous_event[\"probability\"]) / 2\n",
    "            skip_next = True\n",
    "        else:\n",
    "            new_events.append(event)\n",
    "    \n",
    "    return new_events"
   ]
  },
  {
   "cell_type": "code",
   "execution_count": 56,
   "metadata": {},
   "outputs": [],
   "source": [
    "def target_aggregation(events, margin=3.54):\n",
    "    new_events = []\n",
    "    skip_next = False\n",
    "    \n",
    "    for index, event in enumerate(events):\n",
    "        if skip_next:\n",
    "            skip_next = False\n",
    "            continue\n",
    "        elif (event[\"class\"] == \"bckg\") and ((event[\"end\"] - event[\"start\"]) < margin) and (index > 0):\n",
    "            previous_event = new_events[-1]\n",
    "            next_event = events[index + 1]\n",
    "            \n",
    "            new_event = previous_event\n",
    "            new_event[\"end\"] = next_event[\"end\"]\n",
    "            new_event[\"probability\"] = (next_event[\"probability\"] + previous_event[\"probability\"]) / 2\n",
    "            skip_next = True\n",
    "        else:\n",
    "            new_events.append(event)\n",
    "    \n",
    "    return new_events"
   ]
  },
  {
   "cell_type": "code",
   "execution_count": 57,
   "metadata": {},
   "outputs": [],
   "source": [
    "events = [{\n",
    "    'class': 'bckg',\n",
    "    'start': 0,\n",
    "    'end': 2,\n",
    "    'probability': 0.91\n",
    "}, {\n",
    "    'class': 'seiz',\n",
    "    'start': 2,\n",
    "    'end': 5,\n",
    "    'probability': 0.97\n",
    "}, {\n",
    "    'class': 'bckg',\n",
    "    'start': 5,\n",
    "    'end': 10,\n",
    "    'probability': 0.88\n",
    "}, {\n",
    "    'class': 'seiz',\n",
    "    'start': 10,\n",
    "    'end': 22,\n",
    "    'probability': 0.77\n",
    "}, {\n",
    "    'class': 'bckg',\n",
    "    'start': 22,\n",
    "    'end': 24,\n",
    "    'probability': 0.82\n",
    "}, {\n",
    "    'class': 'seiz',\n",
    "    'start': 24,\n",
    "    'end': 28,\n",
    "    'probability': 0.87\n",
    "}, {\n",
    "    'class': 'bckg',\n",
    "    'start': 28,\n",
    "    'end': 32,\n",
    "    'probability': 0.61\n",
    "}, {\n",
    "    'class': 'seiz',\n",
    "    'start': 32,\n",
    "    'end': 37,\n",
    "    'probability': 0.57\n",
    "}, {\n",
    "    'class': 'bckg',\n",
    "    'start': 37,\n",
    "    'end': 42,\n",
    "    'probability': 0.72\n",
    "}, {\n",
    "    'class': 'seiz',\n",
    "    'start': 42,\n",
    "    'end': 43,\n",
    "    'probability': 0.9\n",
    "}, {\n",
    "    'class': 'bckg',\n",
    "    'start': 43,\n",
    "    'end': 45,\n",
    "    'probability': 0.6\n",
    "}]\n",
    "\n",
    "for event in events:\n",
    "    if event[\"class\"] == \"bckg\":\n",
    "        event[\"probability\"] = 1 - event[\"probability\"]"
   ]
  },
  {
   "cell_type": "code",
   "execution_count": 58,
   "metadata": {},
   "outputs": [
    {
     "data": {
      "text/plain": [
       "[{'class': 'bckg', 'end': 2, 'probability': 0.08999999999999997, 'start': 0},\n",
       " {'class': 'seiz', 'end': 5, 'probability': 0.97, 'start': 2},\n",
       " {'class': 'bckg', 'end': 10, 'probability': 0.12, 'start': 5},\n",
       " {'class': 'seiz', 'end': 22, 'probability': 0.77, 'start': 10},\n",
       " {'class': 'bckg', 'end': 24, 'probability': 0.18000000000000005, 'start': 22},\n",
       " {'class': 'seiz', 'end': 28, 'probability': 0.87, 'start': 24},\n",
       " {'class': 'bckg', 'end': 32, 'probability': 0.39, 'start': 28},\n",
       " {'class': 'seiz', 'end': 37, 'probability': 0.57, 'start': 32},\n",
       " {'class': 'bckg', 'end': 42, 'probability': 0.28, 'start': 37},\n",
       " {'class': 'seiz', 'end': 43, 'probability': 0.9, 'start': 42},\n",
       " {'class': 'bckg', 'end': 45, 'probability': 0.4, 'start': 43}]"
      ]
     },
     "execution_count": 58,
     "metadata": {},
     "output_type": "execute_result"
    }
   ],
   "source": [
    "# events = merging_events(predicted_events_line)\n",
    "events"
   ]
  },
  {
   "cell_type": "code",
   "execution_count": 59,
   "metadata": {},
   "outputs": [
    {
     "data": {
      "text/plain": [
       "[{'class': 'bckg', 'end': 2, 'probability': 0.08999999999999997, 'start': 0},\n",
       " {'class': 'seiz', 'end': 5, 'probability': 0.97, 'start': 2},\n",
       " {'class': 'bckg', 'end': 10, 'probability': 0.12, 'start': 5},\n",
       " {'class': 'seiz', 'end': 22, 'probability': 0.77, 'start': 10},\n",
       " {'class': 'bckg', 'end': 24, 'probability': 0.18000000000000005, 'start': 22},\n",
       " {'class': 'seiz', 'end': 28, 'probability': 0.87, 'start': 24},\n",
       " {'class': 'bckg', 'end': 42, 'probability': 0.335, 'start': 28},\n",
       " {'class': 'seiz', 'end': 43, 'probability': 0.9, 'start': 42},\n",
       " {'class': 'bckg', 'end': 45, 'probability': 0.4, 'start': 43}]"
      ]
     },
     "execution_count": 59,
     "metadata": {},
     "output_type": "execute_result"
    }
   ],
   "source": [
    "events = probabilistic_filtering(events)\n",
    "events"
   ]
  },
  {
   "cell_type": "code",
   "execution_count": 60,
   "metadata": {},
   "outputs": [
    {
     "name": "stdout",
     "output_type": "stream",
     "text": [
      "{'class': 'bckg', 'start': 28, 'probability': 0.335, 'end': 42} {'class': 'bckg', 'start': 43, 'probability': 0.4, 'end': 45}\n"
     ]
    },
    {
     "data": {
      "text/plain": [
       "[{'class': 'bckg', 'end': 2, 'probability': 0.08999999999999997, 'start': 0},\n",
       " {'class': 'seiz', 'end': 5, 'probability': 0.97, 'start': 2},\n",
       " {'class': 'bckg', 'end': 10, 'probability': 0.12, 'start': 5},\n",
       " {'class': 'seiz', 'end': 22, 'probability': 0.77, 'start': 10},\n",
       " {'class': 'bckg', 'end': 24, 'probability': 0.18000000000000005, 'start': 22},\n",
       " {'class': 'seiz', 'end': 28, 'probability': 0.87, 'start': 24},\n",
       " {'class': 'bckg', 'end': 45, 'probability': 0.36750000000000005, 'start': 28}]"
      ]
     },
     "execution_count": 60,
     "metadata": {},
     "output_type": "execute_result"
    }
   ],
   "source": [
    "events = duration_filtering(events)\n",
    "events"
   ]
  },
  {
   "cell_type": "code",
   "execution_count": 61,
   "metadata": {},
   "outputs": [
    {
     "data": {
      "text/plain": [
       "[{'class': 'bckg', 'end': 2, 'probability': 0.08999999999999997, 'start': 0},\n",
       " {'class': 'seiz', 'end': 5, 'probability': 0.97, 'start': 2},\n",
       " {'class': 'bckg', 'end': 10, 'probability': 0.12, 'start': 5},\n",
       " {'class': 'seiz', 'end': 28, 'probability': 0.8200000000000001, 'start': 10},\n",
       " {'class': 'bckg', 'end': 45, 'probability': 0.36750000000000005, 'start': 28}]"
      ]
     },
     "execution_count": 61,
     "metadata": {},
     "output_type": "execute_result"
    }
   ],
   "source": [
    "events = target_aggregation(events)\n",
    "events"
   ]
  },
  {
   "cell_type": "markdown",
   "metadata": {},
   "source": [
    "# Running prediction for val dataset"
   ]
  },
  {
   "cell_type": "markdown",
   "metadata": {},
   "source": [
    "- Increase batch size\n",
    "- Preprocess chunks to frequencies\n",
    "- "
   ]
  }
 ],
 "metadata": {
  "kernelspec": {
   "display_name": "Python 3",
   "language": "python",
   "name": "python3"
  },
  "language_info": {
   "codemirror_mode": {
    "name": "ipython",
    "version": 3
   },
   "file_extension": ".py",
   "mimetype": "text/x-python",
   "name": "python",
   "nbconvert_exporter": "python",
   "pygments_lexer": "ipython3",
   "version": "3.5.2"
  }
 },
 "nbformat": 4,
 "nbformat_minor": 2
}
