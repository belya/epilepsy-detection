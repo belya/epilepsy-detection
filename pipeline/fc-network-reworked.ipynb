{
 "cells": [
  {
   "cell_type": "code",
   "execution_count": 1,
   "metadata": {},
   "outputs": [
    {
     "name": "stderr",
     "output_type": "stream",
     "text": [
      "Using TensorFlow backend.\n"
     ]
    }
   ],
   "source": [
    "import tensorflow as tf\n",
    "\n",
    "import numpy as np\n",
    "\n",
    "import pandas as pd\n",
    "\n",
    "import mne\n",
    "\n",
    "import os\n",
    "\n",
    "import keras\n",
    "\n",
    "import seaborn as sns\n",
    "\n",
    "from collections import Counter\n",
    "\n",
    "from tqdm import tqdm_notebook\n",
    "from tqdm import tqdm_notebook as tqdm\n",
    "\n",
    "import matplotlib.pyplot as plt"
   ]
  },
  {
   "cell_type": "code",
   "execution_count": 2,
   "metadata": {},
   "outputs": [],
   "source": [
    "import tensorflow as tf\n",
    "from keras.layers import Dense,Activation,Dropout, Input, Conv1D, MaxPool1D, Flatten\n",
    "from keras.layers import LSTM,Bidirectional,TimeDistributed #could try TimeDistributed(Dense(...))\n",
    "from keras.models import Sequential, load_model\n",
    "from keras import optimizers,regularizers\n",
    "from keras.layers.normalization import BatchNormalization\n",
    "import keras.backend.tensorflow_backend as KTF"
   ]
  },
  {
   "cell_type": "code",
   "execution_count": 3,
   "metadata": {},
   "outputs": [],
   "source": [
    "from scipy.signal import stft"
   ]
  },
  {
   "cell_type": "markdown",
   "metadata": {},
   "source": [
    "# Prepare constants"
   ]
  },
  {
   "cell_type": "code",
   "execution_count": 6,
   "metadata": {},
   "outputs": [],
   "source": [
    "CHUNK_FREQUENCY = 250\n",
    "CHUNK_TIME = CHUNK_FREQUENCY\n",
    "FFT_STEPS_NUM = 125\n",
    "BATCH_SIZE = 128"
   ]
  },
  {
   "cell_type": "code",
   "execution_count": 7,
   "metadata": {},
   "outputs": [],
   "source": [
    "CHANNELS = ['EEG P3-REF', 'EEG FP2-REF', 'EEG T5-REF', 'EEG O1-REF', 'EEG T4-REF', 'EEG FP1-REF', 'EEG F7-REF', 'EEG F3-REF', 'EEG CZ-REF', 'EEG T6-REF', 'EEG F4-REF', 'EEG PZ-REF', 'EEG A1-REF', 'EEG A2-REF', 'EEG F8-REF', 'EEG P4-REF', 'EEG C4-REF', 'EEG FZ-REF', 'EEG C3-REF', 'EEG T3-REF', 'EEG O2-REF']"
   ]
  },
  {
   "cell_type": "code",
   "execution_count": 8,
   "metadata": {},
   "outputs": [],
   "source": [
    "MAX_LENGTH = 66000"
   ]
  },
  {
   "cell_type": "markdown",
   "metadata": {},
   "source": [
    "# Prepare dataset"
   ]
  },
  {
   "cell_type": "code",
   "execution_count": 9,
   "metadata": {},
   "outputs": [],
   "source": [
    "train_df = pd.read_csv(\"../processed-data/train.csv\")\n",
    "val_df = pd.read_csv(\"../processed-data/val.csv\")"
   ]
  },
  {
   "cell_type": "markdown",
   "metadata": {},
   "source": [
    "# Generator functions + speed tests"
   ]
  },
  {
   "cell_type": "code",
   "execution_count": 10,
   "metadata": {},
   "outputs": [],
   "source": [
    "def iterate_files(df, batch_size=BATCH_SIZE):\n",
    "    files = df[[\"full_path\", \"length_chunks\"]].drop_duplicates().values\n",
    "    file_chunks = []\n",
    "    for file, chunks in files:\n",
    "        for chunk in range(chunks + 1):\n",
    "            file_chunks.append((file, chunk))\n",
    "    files_number_to_add = (batch_size - len(file_chunks) % batch_size)\n",
    "    files_to_add = file_chunks[0:files_number_to_add]\n",
    "    file_chunks = file_chunks + files_to_add\n",
    "    \n",
    "    file_chunks_index = list(range(len(file_chunks)))\n",
    "    file_chunks_index = np.random.choice(file_chunks_index, len(file_chunks_index), replace=False)\n",
    "    file_chunks = [file_chunks[i] for i in file_chunks_index]\n",
    "    for files in zip(*[iter(file_chunks)]*batch_size):\n",
    "        yield files"
   ]
  },
  {
   "cell_type": "code",
   "execution_count": 11,
   "metadata": {},
   "outputs": [],
   "source": [
    "files = next(iterate_files(train_df))"
   ]
  },
  {
   "cell_type": "code",
   "execution_count": 12,
   "metadata": {},
   "outputs": [],
   "source": [
    "def get_data(df, file, chunk, channels=CHANNELS, chunk_size=CHUNK_TIME, step_size=CHUNK_TIME // FFT_STEPS_NUM):\n",
    "    annotations = df[\n",
    "        (df[\"full_path\"] == file) & \\\n",
    "        (df[\"label\"] == \"seiz\")\n",
    "    ][[\"start\", \"end\"]]\n",
    "    edf = mne.io.read_raw_edf(file, preload=True, verbose='ERROR')\n",
    "    edf.filter(2, 60)\n",
    "    edf_picks = edf.pick_channels(channels)\n",
    "    data, time = edf_picks[:, chunk * MAX_LENGTH:(chunk + 1) * MAX_LENGTH]\n",
    "    \n",
    "    events = time * 0\n",
    "    for _, (start, end) in annotations.iterrows():\n",
    "        events += (time >= start) & (time <= end)\n",
    "    events = (events > 0).astype(int)\n",
    "    \n",
    "    del edf\n",
    "    \n",
    "    return data, events"
   ]
  },
  {
   "cell_type": "code",
   "execution_count": 13,
   "metadata": {},
   "outputs": [],
   "source": [
    "def get_data_multiple(df, files, channels=CHANNELS, chunk_size=CHUNK_TIME):\n",
    "    total_data = []\n",
    "    total_events = []\n",
    "    for file, chunk in tqdm_notebook(files):\n",
    "        data, events = get_data(df, file, chunk)\n",
    "        total_data.append(data)\n",
    "        total_events.append(events)\n",
    "    \n",
    "    return total_data, total_events"
   ]
  },
  {
   "cell_type": "code",
   "execution_count": 14,
   "metadata": {},
   "outputs": [],
   "source": [
    "data, events = get_data(train_df, files[0][0], files[0][1])"
   ]
  },
  {
   "cell_type": "code",
   "execution_count": 15,
   "metadata": {},
   "outputs": [
    {
     "name": "stderr",
     "output_type": "stream",
     "text": [
      "/usr/local/lib/python3.5/dist-packages/ipykernel_launcher.py:4: TqdmDeprecationWarning: This function will be removed in tqdm==5.0.0\n",
      "Please use `tqdm.notebook.tqdm` instead of `tqdm.tqdm_notebook`\n",
      "  after removing the cwd from sys.path.\n"
     ]
    },
    {
     "data": {
      "application/vnd.jupyter.widget-view+json": {
       "model_id": "20fb022e5b9a4091a8b2240a6bb9560d",
       "version_major": 2,
       "version_minor": 0
      },
      "text/plain": [
       "HBox(children=(FloatProgress(value=0.0, max=128.0), HTML(value='')))"
      ]
     },
     "metadata": {},
     "output_type": "display_data"
    },
    {
     "name": "stdout",
     "output_type": "stream",
     "text": [
      "\n"
     ]
    }
   ],
   "source": [
    "data, events = get_data_multiple(train_df, files)"
   ]
  },
  {
   "cell_type": "code",
   "execution_count": 16,
   "metadata": {},
   "outputs": [],
   "source": [
    "def get_fourier_transform(data, window_size=CHUNK_TIME, step_size=CHUNK_TIME // FFT_STEPS_NUM):\n",
    "    data = data.T\n",
    "    return np.log1p(np.abs(stft(\n",
    "        data, \n",
    "        fs=window_size, \n",
    "        window=\"hann\", \n",
    "        nperseg=window_size, \n",
    "        noverlap=window_size - step_size, \n",
    "        return_onesided=True, \n",
    "        boundary=None,\n",
    "    )[-1]).T)"
   ]
  },
  {
   "cell_type": "code",
   "execution_count": 17,
   "metadata": {},
   "outputs": [],
   "source": [
    "class ChunksIterator():\n",
    "    def __init__(self, data, events, chunk_size=CHUNK_TIME, step_size=CHUNK_TIME // FFT_STEPS_NUM, max_length=MAX_LENGTH, tqdm_enabled=False):\n",
    "        self.data = data\n",
    "        self.events = events\n",
    "        self.chunk_size = chunk_size\n",
    "        self.step_size = step_size\n",
    "        self.valid_chunks = 0\n",
    "        \n",
    "        max_time = min(max([e.shape[0] for e in events]), max_length)\n",
    "        self.iterations = range(0, max_time - 2*chunk_size, chunk_size)\n",
    "        self.iterations = np.random.choice(self.iterations, len(self.iterations), replace=False)\n",
    "        self.iterations_number = len(self.iterations)\n",
    "        if tqdm_enabled:\n",
    "            self.iterations = tqdm(self.iterations)\n",
    "        self.iterations = iter(self.iterations)\n",
    "    \n",
    "    def __iter__(self):\n",
    "        return self\n",
    "    \n",
    "    def __next__(self):\n",
    "        data = self.data\n",
    "        events = self.events\n",
    "        chunk_size = self.chunk_size\n",
    "        step_size = self.step_size\n",
    "        chunk_start = next(self.iterations)\n",
    "        \n",
    "        data_chunk = [d[:, chunk_start:chunk_start + 2*chunk_size].T for d in data]\n",
    "        labels_chunk = [e[chunk_start:chunk_start + chunk_size] for e in events]\n",
    "\n",
    "        zero_data_chunk = np.zeros((chunk_size * 2, len(CHANNELS)))\n",
    "        zero_labels_chunk = np.zeros((chunk_size, ))\n",
    "\n",
    "        masks_chunk = [e.shape[0] == chunk_size for e in labels_chunk]\n",
    "        data_chunk = [d if d.shape[0] == 2*chunk_size else zero_data_chunk for d in data_chunk]\n",
    "        labels_chunk = [e if e.shape[0] == chunk_size else zero_labels_chunk for e in labels_chunk]\n",
    "\n",
    "#         data_chunk = [get_fourier_transform(d) for d in data_chunk]\n",
    "        labels_chunk = [e.max() for e in labels_chunk]\n",
    "        \n",
    "        self.valid_chunks += sum(masks_chunk)\n",
    "\n",
    "        return np.stack(data_chunk).swapaxes(1, 2), np.stack(labels_chunk)[:, np.newaxis], np.array(masks_chunk)"
   ]
  },
  {
   "cell_type": "code",
   "execution_count": 18,
   "metadata": {
    "scrolled": true
   },
   "outputs": [
    {
     "name": "stderr",
     "output_type": "stream",
     "text": [
      "/usr/local/lib/python3.5/dist-packages/ipykernel_launcher.py:14: TqdmDeprecationWarning: This function will be removed in tqdm==5.0.0\n",
      "Please use `tqdm.notebook.tqdm` instead of `tqdm.tqdm_notebook`\n",
      "  \n"
     ]
    },
    {
     "data": {
      "application/vnd.jupyter.widget-view+json": {
       "model_id": "e4cb8be17ce944e9a61b7f616d676e87",
       "version_major": 2,
       "version_minor": 0
      },
      "text/plain": [
       "HBox(children=(FloatProgress(value=0.0, max=262.0), HTML(value='')))"
      ]
     },
     "metadata": {},
     "output_type": "display_data"
    },
    {
     "name": "stdout",
     "output_type": "stream",
     "text": [
      "Total iterations: 262\n",
      "0\n",
      "1\n",
      "2\n",
      "3\n",
      "4\n",
      "5\n",
      "6\n",
      "7\n",
      "8\n",
      "9\n",
      "10\n",
      "11\n",
      "12\n",
      "13\n",
      "14\n",
      "15\n",
      "16\n",
      "17\n",
      "18\n",
      "19\n",
      "Valid chunks: 2229\n"
     ]
    }
   ],
   "source": [
    "iterator = ChunksIterator(data, events, tqdm_enabled=True)\n",
    "\n",
    "print(\"Total iterations:\", iterator.iterations_number)\n",
    "\n",
    "for i, _ in zip(range(20), iterator):\n",
    "    print(i)\n",
    "    \n",
    "print(\"Valid chunks:\", iterator.valid_chunks)"
   ]
  },
  {
   "cell_type": "markdown",
   "metadata": {},
   "source": [
    "# TF stft investigation"
   ]
  },
  {
   "cell_type": "code",
   "execution_count": 45,
   "metadata": {},
   "outputs": [],
   "source": [
    "# stft_input = tf.placeholder(tf.float32)\n",
    "\n",
    "# stft_tensor = tf.signal.stft(\n",
    "#     stft_input, \n",
    "#     frame_length=CHUNK_TIME,\n",
    "#     frame_step=CHUNK_TIME // FFT_STEPS_NUM,\n",
    "#     fft_length=CHUNK_TIME\n",
    "# )\n",
    "\n",
    "# s = tf.Session()\n",
    "\n",
    "# iterator = ChunksIterator(data, events, tqdm_enabled=True)\n",
    "\n",
    "# data_chunk, labels_chunk, _ = next(iterator)\n",
    "\n",
    "# data_chunk.shape\n",
    "\n",
    "# s.run(stft_tensor, {stft_input: data_chunk}).shape\n",
    "\n",
    "# network_input = keras.layers.Input(batch_shape=data_chunk.shape)\n",
    "\n",
    "# fft_layer = keras.layers.Lambda(lambda x: tf.log1p(tf.abs(tf.signal.stft(\n",
    "#     x, \n",
    "#     frame_length=CHUNK_TIME,\n",
    "#     frame_step=CHUNK_TIME // FFT_STEPS_NUM,\n",
    "#     fft_length=CHUNK_TIME\n",
    "# ))))(network_input)\n",
    "\n",
    "# flatten = keras.layers.Flatten()(fft_layer)\n",
    "# dense_layer = keras.layers.Dense(1, activation='sigmoid')(flatten)\n",
    "\n",
    "# model = keras.models.Model(inputs=[network_input], outputs=[dense_layer])\n",
    "\n",
    "# data_chunk.shape\n",
    "\n",
    "# model.predict(data_chunk).shape\n",
    "\n",
    "# model.predict(data_chunk).shape\n",
    "\n",
    "# model.compile(\n",
    "#     loss=\"binary_crossentropy\",\n",
    "#     optimizer='adam'\n",
    "# )\n",
    "\n",
    "# model.fit([data_chunk], [labels_chunk], epochs=10)\n",
    "\n",
    "# data_chunk"
   ]
  },
  {
   "cell_type": "markdown",
   "metadata": {},
   "source": [
    "# Main model architecture"
   ]
  },
  {
   "cell_type": "code",
   "execution_count": 46,
   "metadata": {},
   "outputs": [],
   "source": [
    "from keras import backend as K\n",
    "\n",
    "def recall_m(y_true, y_pred):\n",
    "    true_positives = K.sum(K.round(K.clip(y_true * y_pred, 0, 1)))\n",
    "    possible_positives = K.sum(K.round(K.clip(y_true, 0, 1)))\n",
    "    recall = true_positives / (possible_positives + K.epsilon())\n",
    "    return recall\n",
    "\n",
    "def precision_m(y_true, y_pred):\n",
    "    true_positives = K.sum(K.round(K.clip(y_true * y_pred, 0, 1)))\n",
    "    predicted_positives = K.sum(K.round(K.clip(y_pred, 0, 1)))\n",
    "    precision = true_positives / (predicted_positives + K.epsilon())\n",
    "    return precision"
   ]
  },
  {
   "cell_type": "code",
   "execution_count": 47,
   "metadata": {},
   "outputs": [
    {
     "name": "stdout",
     "output_type": "stream",
     "text": [
      "WARNING:tensorflow:From /usr/local/lib/python3.5/dist-packages/keras/backend/tensorflow_backend.py:3363: calling dropout (from tensorflow.python.ops.nn_ops) with keep_prob is deprecated and will be removed in a future version.\n",
      "Instructions for updating:\n",
      "Please use `rate` instead of `keep_prob`. Rate should be set to `rate = 1 - keep_prob`.\n"
     ]
    }
   ],
   "source": [
    "eeg_input = Input(shape=(len(CHANNELS), CHUNK_TIME * 2, ))\n",
    "\n",
    "fft_layer = keras.layers.Lambda(lambda x: tf.log1p(tf.abs(tf.signal.stft(\n",
    "    x, \n",
    "    frame_length=CHUNK_TIME,\n",
    "    frame_step=CHUNK_TIME // FFT_STEPS_NUM,\n",
    "    fft_length=CHUNK_TIME\n",
    "))))(eeg_input)\n",
    "\n",
    "x = Flatten()(fft_layer)\n",
    "x = Dropout(0.2)(x)\n",
    "\n",
    "for _ in range(3):\n",
    "    x = Dense(128, kernel_regularizer=regularizers.l2(0.01))(x)\n",
    "    x = BatchNormalization()(x)\n",
    "    x = Activation('relu')(x)\n",
    "    \n",
    "events_output = Dense(1, activation='sigmoid')(x)"
   ]
  },
  {
   "cell_type": "code",
   "execution_count": 48,
   "metadata": {},
   "outputs": [],
   "source": [
    "model = keras.models.Model(inputs=[eeg_input], outputs=[events_output])"
   ]
  },
  {
   "cell_type": "code",
   "execution_count": 49,
   "metadata": {},
   "outputs": [],
   "source": [
    "model.compile(\n",
    "    loss=\"binary_crossentropy\",\n",
    "    optimizer='adam', \n",
    "    metrics=['accuracy', recall_m, precision_m]\n",
    ")"
   ]
  },
  {
   "cell_type": "markdown",
   "metadata": {},
   "source": [
    "Some tests on small chunks"
   ]
  },
  {
   "cell_type": "code",
   "execution_count": 50,
   "metadata": {},
   "outputs": [],
   "source": [
    "generator = ChunksIterator(data, events)\n",
    "for i in range(5):\n",
    "    next(generator)\n",
    "x_in, y_end, masks_in = next(generator)"
   ]
  },
  {
   "cell_type": "code",
   "execution_count": 51,
   "metadata": {},
   "outputs": [
    {
     "data": {
      "text/plain": [
       "0.49998707"
      ]
     },
     "execution_count": 51,
     "metadata": {},
     "output_type": "execute_result"
    }
   ],
   "source": [
    "model.predict(x_in).mean()"
   ]
  },
  {
   "cell_type": "code",
   "execution_count": 52,
   "metadata": {},
   "outputs": [
    {
     "name": "stdout",
     "output_type": "stream",
     "text": [
      "128/128 [==============================] - 0s 2ms/step\n"
     ]
    },
    {
     "data": {
      "text/plain": [
       "[5.8239967823028564, 0.7265625, 0.17500000447034836, 0.2083333358168602]"
      ]
     },
     "execution_count": 52,
     "metadata": {},
     "output_type": "execute_result"
    }
   ],
   "source": [
    "model.evaluate(x_in, y_end)"
   ]
  },
  {
   "cell_type": "code",
   "execution_count": 53,
   "metadata": {},
   "outputs": [],
   "source": [
    "# model.fit(x_in, y_end, batch_size=x_in.shape[0], epochs=1000, sample_weight=masks_in)"
   ]
  },
  {
   "cell_type": "code",
   "execution_count": 54,
   "metadata": {},
   "outputs": [
    {
     "data": {
      "text/plain": [
       "18.0"
      ]
     },
     "execution_count": 54,
     "metadata": {},
     "output_type": "execute_result"
    }
   ],
   "source": [
    "y_end.sum()"
   ]
  },
  {
   "cell_type": "markdown",
   "metadata": {},
   "source": [
    "# Training procedure"
   ]
  },
  {
   "cell_type": "code",
   "execution_count": 55,
   "metadata": {},
   "outputs": [],
   "source": [
    "GENERATOR_PAD_BUG = 1"
   ]
  },
  {
   "cell_type": "code",
   "execution_count": 56,
   "metadata": {},
   "outputs": [],
   "source": [
    "total_train_history = {}\n",
    "total_val_history = {}"
   ]
  },
  {
   "cell_type": "code",
   "execution_count": null,
   "metadata": {},
   "outputs": [
    {
     "name": "stderr",
     "output_type": "stream",
     "text": [
      "/usr/local/lib/python3.5/dist-packages/ipykernel_launcher.py:1: TqdmDeprecationWarning: This function will be removed in tqdm==5.0.0\n",
      "Please use `tqdm.notebook.tqdm` instead of `tqdm.tqdm_notebook`\n",
      "  \"\"\"Entry point for launching an IPython kernel.\n"
     ]
    },
    {
     "data": {
      "application/vnd.jupyter.widget-view+json": {
       "model_id": "4fd766119b39491482065338539a70ae",
       "version_major": 2,
       "version_minor": 0
      },
      "text/plain": [
       "HBox(children=(FloatProgress(value=0.0, max=10.0), HTML(value='')))"
      ]
     },
     "metadata": {},
     "output_type": "display_data"
    },
    {
     "name": "stderr",
     "output_type": "stream",
     "text": [
      "/usr/local/lib/python3.5/dist-packages/ipykernel_launcher.py:12: TqdmDeprecationWarning: This function will be removed in tqdm==5.0.0\n",
      "Please use `tqdm.notebook.tqdm` instead of `tqdm.tqdm_notebook`\n",
      "  if sys.path[0] == '':\n"
     ]
    },
    {
     "data": {
      "application/vnd.jupyter.widget-view+json": {
       "model_id": "fed8b74a5e8343bd9659af99b8cfe6cf",
       "version_major": 2,
       "version_minor": 0
      },
      "text/plain": [
       "HBox(children=(FloatProgress(value=0.0, max=15.0), HTML(value='')))"
      ]
     },
     "metadata": {},
     "output_type": "display_data"
    },
    {
     "name": "stderr",
     "output_type": "stream",
     "text": [
      "/usr/local/lib/python3.5/dist-packages/ipykernel_launcher.py:4: TqdmDeprecationWarning: This function will be removed in tqdm==5.0.0\n",
      "Please use `tqdm.notebook.tqdm` instead of `tqdm.tqdm_notebook`\n",
      "  after removing the cwd from sys.path.\n"
     ]
    },
    {
     "data": {
      "application/vnd.jupyter.widget-view+json": {
       "model_id": "876462e2aa4647dba984cc9832900505",
       "version_major": 2,
       "version_minor": 0
      },
      "text/plain": [
       "HBox(children=(FloatProgress(value=0.0, max=128.0), HTML(value='')))"
      ]
     },
     "metadata": {},
     "output_type": "display_data"
    },
    {
     "name": "stdout",
     "output_type": "stream",
     "text": [
      "\n"
     ]
    },
    {
     "name": "stderr",
     "output_type": "stream",
     "text": [
      "/usr/local/lib/python3.5/dist-packages/ipykernel_launcher.py:14: TqdmDeprecationWarning: This function will be removed in tqdm==5.0.0\n",
      "Please use `tqdm.notebook.tqdm` instead of `tqdm.tqdm_notebook`\n",
      "  \n"
     ]
    },
    {
     "data": {
      "application/vnd.jupyter.widget-view+json": {
       "model_id": "0ce1d1fd69b944aa9a8a321c0cacda11",
       "version_major": 2,
       "version_minor": 0
      },
      "text/plain": [
       "HBox(children=(FloatProgress(value=0.0, max=262.0), HTML(value='')))"
      ]
     },
     "metadata": {},
     "output_type": "display_data"
    },
    {
     "name": "stdout",
     "output_type": "stream",
     "text": [
      "WARNING:tensorflow:From /usr/local/lib/python3.5/dist-packages/tensorflow/python/ops/math_ops.py:3066: to_int32 (from tensorflow.python.ops.math_ops) is deprecated and will be removed in a future version.\n",
      "Instructions for updating:\n",
      "Use tf.cast instead.\n",
      "Epoch 1/1\n",
      "252/261 [===========================>..] - ETA: 1s - loss: 1.7117 - acc: 0.8397 - recall_m: 0.5841 - precision_m: 0.7216\n",
      "261/261 [==============================] - 30s 114ms/step - loss: 1.6803 - acc: 0.8399 - recall_m: 0.5848 - precision_m: 0.7217\n",
      "Train loss: {0: [1.6803342033163342]}\n"
     ]
    },
    {
     "data": {
      "application/vnd.jupyter.widget-view+json": {
       "model_id": "e3f90322cb634e81ba1855f11073dd66",
       "version_major": 2,
       "version_minor": 0
      },
      "text/plain": [
       "HBox(children=(FloatProgress(value=0.0, max=128.0), HTML(value='')))"
      ]
     },
     "metadata": {},
     "output_type": "display_data"
    },
    {
     "name": "stdout",
     "output_type": "stream",
     "text": [
      "\n"
     ]
    },
    {
     "data": {
      "application/vnd.jupyter.widget-view+json": {
       "model_id": "6f2c0d7d611c40948d8a22b5d52d5317",
       "version_major": 2,
       "version_minor": 0
      },
      "text/plain": [
       "HBox(children=(FloatProgress(value=0.0, max=262.0), HTML(value='')))"
      ]
     },
     "metadata": {},
     "output_type": "display_data"
    },
    {
     "name": "stdout",
     "output_type": "stream",
     "text": [
      "Epoch 1/1\n",
      "252/261 [===========================>..] - ETA: 0s - loss: 0.7224 - acc: 0.8590 - recall_m: 0.6001 - precision_m: 0.7945\n",
      "261/261 [==============================] - 24s 93ms/step - loss: 0.7191 - acc: 0.8592 - recall_m: 0.6015 - precision_m: 0.7942\n",
      "Train loss: {0: [1.6803342033163342, 1.192454763004138]}\n"
     ]
    },
    {
     "data": {
      "application/vnd.jupyter.widget-view+json": {
       "model_id": "5aaddcb272b4443b98b106b518efdaba",
       "version_major": 2,
       "version_minor": 0
      },
      "text/plain": [
       "HBox(children=(FloatProgress(value=0.0, max=128.0), HTML(value='')))"
      ]
     },
     "metadata": {},
     "output_type": "display_data"
    },
    {
     "name": "stdout",
     "output_type": "stream",
     "text": [
      "\n"
     ]
    },
    {
     "data": {
      "application/vnd.jupyter.widget-view+json": {
       "model_id": "b70c77a3f29d4cd19356d476806ae55d",
       "version_major": 2,
       "version_minor": 0
      },
      "text/plain": [
       "HBox(children=(FloatProgress(value=0.0, max=262.0), HTML(value='')))"
      ]
     },
     "metadata": {},
     "output_type": "display_data"
    },
    {
     "name": "stdout",
     "output_type": "stream",
     "text": [
      "Epoch 1/1\n",
      "252/261 [===========================>..] - ETA: 0s - loss: 0.7618 - acc: 0.8392 - recall_m: 0.4564 - precision_m: 0.7424\n",
      "261/261 [==============================] - 24s 93ms/step - loss: 0.7580 - acc: 0.8395 - recall_m: 0.4569 - precision_m: 0.7443\n",
      "Train loss: {0: [1.6803342033163342, 1.192454763004138, 1.048453326514852]}\n"
     ]
    },
    {
     "data": {
      "application/vnd.jupyter.widget-view+json": {
       "model_id": "0a895874e15b4486b8dcb28fb269c99b",
       "version_major": 2,
       "version_minor": 0
      },
      "text/plain": [
       "HBox(children=(FloatProgress(value=0.0, max=128.0), HTML(value='')))"
      ]
     },
     "metadata": {},
     "output_type": "display_data"
    },
    {
     "name": "stdout",
     "output_type": "stream",
     "text": [
      "\n"
     ]
    },
    {
     "data": {
      "application/vnd.jupyter.widget-view+json": {
       "model_id": "8e439f80cab84fe8b6a373d626f7515e",
       "version_major": 2,
       "version_minor": 0
      },
      "text/plain": [
       "HBox(children=(FloatProgress(value=0.0, max=262.0), HTML(value='')))"
      ]
     },
     "metadata": {},
     "output_type": "display_data"
    },
    {
     "name": "stdout",
     "output_type": "stream",
     "text": [
      "Epoch 1/1\n",
      "252/261 [===========================>..] - ETA: 0s - loss: 0.6021 - acc: 0.8717 - recall_m: 0.5573 - precision_m: 0.7795\n",
      "261/261 [==============================] - 24s 93ms/step - loss: 0.6018 - acc: 0.8716 - recall_m: 0.5572 - precision_m: 0.7811\n",
      "Train loss: {0: [1.6803342033163342, 1.192454763004138, 1.048453326514852, 0.9384002263460985]}\n"
     ]
    },
    {
     "data": {
      "application/vnd.jupyter.widget-view+json": {
       "model_id": "6cb8c20acf87445e8d60dad7b553e54e",
       "version_major": 2,
       "version_minor": 0
      },
      "text/plain": [
       "HBox(children=(FloatProgress(value=0.0, max=128.0), HTML(value='')))"
      ]
     },
     "metadata": {},
     "output_type": "display_data"
    },
    {
     "name": "stdout",
     "output_type": "stream",
     "text": [
      "\n"
     ]
    },
    {
     "data": {
      "application/vnd.jupyter.widget-view+json": {
       "model_id": "5966efe92f5c474ca424a1f7436c529c",
       "version_major": 2,
       "version_minor": 0
      },
      "text/plain": [
       "HBox(children=(FloatProgress(value=0.0, max=262.0), HTML(value='')))"
      ]
     },
     "metadata": {},
     "output_type": "display_data"
    },
    {
     "name": "stdout",
     "output_type": "stream",
     "text": [
      "Epoch 1/1\n",
      "252/261 [===========================>..] - ETA: 0s - loss: 0.6491 - acc: 0.8511 - recall_m: 0.4911 - precision_m: 0.7542\n",
      "261/261 [==============================] - 24s 92ms/step - loss: 0.6483 - acc: 0.8514 - recall_m: 0.4937 - precision_m: 0.7547\n",
      "Train loss: {0: [1.6803342033163342, 1.192454763004138, 1.048453326514852, 0.9384002263460985, 0.8776981047002004]}\n"
     ]
    },
    {
     "data": {
      "application/vnd.jupyter.widget-view+json": {
       "model_id": "f30456249bc8400e861c44480717d753",
       "version_major": 2,
       "version_minor": 0
      },
      "text/plain": [
       "HBox(children=(FloatProgress(value=0.0, max=128.0), HTML(value='')))"
      ]
     },
     "metadata": {},
     "output_type": "display_data"
    },
    {
     "name": "stdout",
     "output_type": "stream",
     "text": [
      "\n"
     ]
    },
    {
     "data": {
      "application/vnd.jupyter.widget-view+json": {
       "model_id": "3a0ff5e9860747f6b758a27bf3651058",
       "version_major": 2,
       "version_minor": 0
      },
      "text/plain": [
       "HBox(children=(FloatProgress(value=0.0, max=262.0), HTML(value='')))"
      ]
     },
     "metadata": {},
     "output_type": "display_data"
    },
    {
     "name": "stdout",
     "output_type": "stream",
     "text": [
      "Epoch 1/1\n",
      "252/261 [===========================>..] - ETA: 0s - loss: 0.5318 - acc: 0.8807 - recall_m: 0.5048 - precision_m: 0.7423\n",
      "261/261 [==============================] - 24s 93ms/step - loss: 0.5323 - acc: 0.8810 - recall_m: 0.5064 - precision_m: 0.7440\n",
      "Train loss: {0: [1.6803342033163342, 1.192454763004138, 1.048453326514852, 0.9384002263460985, 0.8776981047002004, 0.8198577896726577]}\n"
     ]
    },
    {
     "data": {
      "application/vnd.jupyter.widget-view+json": {
       "model_id": "3d83f31103494fefabfa0e8cd452425a",
       "version_major": 2,
       "version_minor": 0
      },
      "text/plain": [
       "HBox(children=(FloatProgress(value=0.0, max=128.0), HTML(value='')))"
      ]
     },
     "metadata": {},
     "output_type": "display_data"
    },
    {
     "name": "stdout",
     "output_type": "stream",
     "text": [
      "\n"
     ]
    },
    {
     "data": {
      "application/vnd.jupyter.widget-view+json": {
       "model_id": "488b0c4842f74ed28d81c7e6ccd95ade",
       "version_major": 2,
       "version_minor": 0
      },
      "text/plain": [
       "HBox(children=(FloatProgress(value=0.0, max=262.0), HTML(value='')))"
      ]
     },
     "metadata": {},
     "output_type": "display_data"
    },
    {
     "name": "stdout",
     "output_type": "stream",
     "text": [
      "Epoch 1/1\n",
      "252/261 [===========================>..] - ETA: 0s - loss: 0.5555 - acc: 0.8723 - recall_m: 0.6073 - precision_m: 0.8340\n",
      "261/261 [==============================] - 24s 92ms/step - loss: 0.5558 - acc: 0.8713 - recall_m: 0.6072 - precision_m: 0.8330\n",
      "Train loss: {0: [1.6803342033163342, 1.192454763004138, 1.048453326514852, 0.9384002263460985, 0.8776981047002004, 0.8198577896726577, 0.7862382492191038, 0.7575672983565611]}\n"
     ]
    },
    {
     "data": {
      "application/vnd.jupyter.widget-view+json": {
       "model_id": "63ac5213555c44a99d1436006ac26221",
       "version_major": 2,
       "version_minor": 0
      },
      "text/plain": [
       "HBox(children=(FloatProgress(value=0.0, max=128.0), HTML(value='')))"
      ]
     },
     "metadata": {},
     "output_type": "display_data"
    },
    {
     "name": "stdout",
     "output_type": "stream",
     "text": [
      "\n"
     ]
    },
    {
     "data": {
      "application/vnd.jupyter.widget-view+json": {
       "model_id": "9eb5f66e79584127866812f70c136526",
       "version_major": 2,
       "version_minor": 0
      },
      "text/plain": [
       "HBox(children=(FloatProgress(value=0.0, max=262.0), HTML(value='')))"
      ]
     },
     "metadata": {},
     "output_type": "display_data"
    },
    {
     "name": "stdout",
     "output_type": "stream",
     "text": [
      "Epoch 1/1\n",
      "252/261 [===========================>..] - ETA: 0s - loss: 0.6335 - acc: 0.8708 - recall_m: 0.5717 - precision_m: 0.7499\n",
      "261/261 [==============================] - 24s 93ms/step - loss: 0.6308 - acc: 0.8710 - recall_m: 0.5711 - precision_m: 0.7519\n",
      "Train loss: {0: [1.6803342033163342, 1.192454763004138, 1.048453326514852, 0.9384002263460985, 0.8776981047002004, 0.8198577896726577, 0.7862382492191038, 0.7575672983565611, 0.7432610229920361]}\n"
     ]
    },
    {
     "data": {
      "application/vnd.jupyter.widget-view+json": {
       "model_id": "ffecf01d04ed40b1990ff958969f4f10",
       "version_major": 2,
       "version_minor": 0
      },
      "text/plain": [
       "HBox(children=(FloatProgress(value=0.0, max=128.0), HTML(value='')))"
      ]
     },
     "metadata": {},
     "output_type": "display_data"
    },
    {
     "name": "stdout",
     "output_type": "stream",
     "text": [
      "\n"
     ]
    },
    {
     "data": {
      "application/vnd.jupyter.widget-view+json": {
       "model_id": "a0168e4a322c473abf7cd21c7d7a22da",
       "version_major": 2,
       "version_minor": 0
      },
      "text/plain": [
       "HBox(children=(FloatProgress(value=0.0, max=262.0), HTML(value='')))"
      ]
     },
     "metadata": {},
     "output_type": "display_data"
    },
    {
     "name": "stdout",
     "output_type": "stream",
     "text": [
      "Epoch 1/1\n",
      "252/261 [===========================>..] - ETA: 0s - loss: 0.7464 - acc: 0.8583 - recall_m: 0.5734 - precision_m: 0.8431\n",
      "261/261 [==============================] - 24s 92ms/step - loss: 0.7413 - acc: 0.8579 - recall_m: 0.5731 - precision_m: 0.8418\n",
      "Train loss: {0: [1.6803342033163342, 1.192454763004138, 1.048453326514852, 0.9384002263460985, 0.8776981047002004, 0.8198577896726577, 0.7862382492191038, 0.7575672983565611, 0.7432610229920361, 0.7430573872992285]}\n"
     ]
    },
    {
     "data": {
      "application/vnd.jupyter.widget-view+json": {
       "model_id": "b678d578961049a6b8a6711972d8c4f5",
       "version_major": 2,
       "version_minor": 0
      },
      "text/plain": [
       "HBox(children=(FloatProgress(value=0.0, max=128.0), HTML(value='')))"
      ]
     },
     "metadata": {},
     "output_type": "display_data"
    },
    {
     "name": "stderr",
     "output_type": "stream",
     "text": [
      "IOPub message rate exceeded.\n",
      "The notebook server will temporarily stop sending output\n",
      "to the client in order to avoid crashing it.\n",
      "To change this limit, set the config variable\n",
      "`--NotebookApp.iopub_msg_rate_limit`.\n",
      "\n",
      "Current values:\n",
      "NotebookApp.iopub_msg_rate_limit=1000.0 (msgs/sec)\n",
      "NotebookApp.rate_limit_window=3.0 (secs)\n",
      "\n"
     ]
    },
    {
     "name": "stdout",
     "output_type": "stream",
     "text": [
      "\n"
     ]
    },
    {
     "data": {
      "application/vnd.jupyter.widget-view+json": {
       "model_id": "5e6097626d41455292d893e9a2b29b5c",
       "version_major": 2,
       "version_minor": 0
      },
      "text/plain": [
       "HBox(children=(FloatProgress(value=0.0, max=262.0), HTML(value='')))"
      ]
     },
     "metadata": {},
     "output_type": "display_data"
    },
    {
     "name": "stdout",
     "output_type": "stream",
     "text": [
      "Epoch 1/1\n",
      "252/261 [===========================>..] - ETA: 0s - loss: 0.4827 - acc: 0.8955 - recall_m: 0.6886 - precision_m: 0.8677\n",
      "261/261 [==============================] - 24s 93ms/step - loss: 0.4816 - acc: 0.8953 - recall_m: 0.6904 - precision_m: 0.8667\n",
      "Train loss: {0: [1.6803342033163342, 1.192454763004138, 1.048453326514852, 0.9384002263460985, 0.8776981047002004, 0.8198577896726577, 0.7862382492191038, 0.7575672983565611, 0.7432610229920361, 0.7430573872992285, 0.7290655598790535, 0.7210331537519713, 0.7033488912363082]}\n"
     ]
    },
    {
     "data": {
      "application/vnd.jupyter.widget-view+json": {
       "model_id": "75d8ebf2991a402ba495f974e565d751",
       "version_major": 2,
       "version_minor": 0
      },
      "text/plain": [
       "HBox(children=(FloatProgress(value=0.0, max=128.0), HTML(value='')))"
      ]
     },
     "metadata": {},
     "output_type": "display_data"
    },
    {
     "name": "stdout",
     "output_type": "stream",
     "text": [
      "\n"
     ]
    },
    {
     "data": {
      "application/vnd.jupyter.widget-view+json": {
       "model_id": "df4d3ded78f9433e9e929029fb06aaf3",
       "version_major": 2,
       "version_minor": 0
      },
      "text/plain": [
       "HBox(children=(FloatProgress(value=0.0, max=262.0), HTML(value='')))"
      ]
     },
     "metadata": {},
     "output_type": "display_data"
    },
    {
     "name": "stdout",
     "output_type": "stream",
     "text": [
      "Epoch 1/1\n",
      "252/261 [===========================>..] - ETA: 0s - loss: 0.5963 - acc: 0.8687 - recall_m: 0.6050 - precision_m: 0.7844\n",
      "261/261 [==============================] - 24s 92ms/step - loss: 0.5945 - acc: 0.8687 - recall_m: 0.6063 - precision_m: 0.7844\n",
      "Train loss: {0: [1.6803342033163342, 1.192454763004138, 1.048453326514852, 0.9384002263460985, 0.8776981047002004, 0.8198577896726577, 0.7862382492191038, 0.7575672983565611, 0.7432610229920361, 0.7430573872992285, 0.7290655598790535, 0.7210331537519713, 0.7033488912363082, 0.6954681508923458]}\n"
     ]
    },
    {
     "data": {
      "application/vnd.jupyter.widget-view+json": {
       "model_id": "cd8ab67e937e417395754a05f2a6fc24",
       "version_major": 2,
       "version_minor": 0
      },
      "text/plain": [
       "HBox(children=(FloatProgress(value=0.0, max=128.0), HTML(value='')))"
      ]
     },
     "metadata": {},
     "output_type": "display_data"
    },
    {
     "name": "stdout",
     "output_type": "stream",
     "text": [
      "\n"
     ]
    },
    {
     "data": {
      "application/vnd.jupyter.widget-view+json": {
       "model_id": "67f525e96db14d57a677a1ea599ec20a",
       "version_major": 2,
       "version_minor": 0
      },
      "text/plain": [
       "HBox(children=(FloatProgress(value=0.0, max=262.0), HTML(value='')))"
      ]
     },
     "metadata": {},
     "output_type": "display_data"
    },
    {
     "name": "stdout",
     "output_type": "stream",
     "text": [
      "Epoch 1/1\n",
      "252/261 [===========================>..] - ETA: 0s - loss: 0.5357 - acc: 0.8853 - recall_m: 0.6237 - precision_m: 0.8109\n",
      "261/261 [==============================] - 24s 93ms/step - loss: 0.5344 - acc: 0.8853 - recall_m: 0.6244 - precision_m: 0.8093\n",
      "Train loss: {0: [1.6803342033163342, 1.192454763004138, 1.048453326514852, 0.9384002263460985, 0.8776981047002004, 0.8198577896726577, 0.7862382492191038, 0.7575672983565611, 0.7432610229920361, 0.7430573872992285, 0.7290655598790535, 0.7210331537519713, 0.7033488912363082, 0.6954681508923458, 0.684481616740026]}\n",
      "\n"
     ]
    },
    {
     "name": "stderr",
     "output_type": "stream",
     "text": [
      "/usr/local/lib/python3.5/dist-packages/ipykernel_launcher.py:39: TqdmDeprecationWarning: This function will be removed in tqdm==5.0.0\n",
      "Please use `tqdm.notebook.tqdm` instead of `tqdm.tqdm_notebook`\n"
     ]
    },
    {
     "data": {
      "application/vnd.jupyter.widget-view+json": {
       "model_id": "633ed1d3744c4fdba71b5abfb28c6d68",
       "version_major": 2,
       "version_minor": 0
      },
      "text/plain": [
       "HBox(children=(FloatProgress(value=0.0, max=8.0), HTML(value='')))"
      ]
     },
     "metadata": {},
     "output_type": "display_data"
    },
    {
     "data": {
      "application/vnd.jupyter.widget-view+json": {
       "model_id": "c32eb221b9e64b2d96027d94c76facf6",
       "version_major": 2,
       "version_minor": 0
      },
      "text/plain": [
       "HBox(children=(FloatProgress(value=0.0, max=128.0), HTML(value='')))"
      ]
     },
     "metadata": {},
     "output_type": "display_data"
    },
    {
     "name": "stdout",
     "output_type": "stream",
     "text": [
      "\n"
     ]
    },
    {
     "data": {
      "application/vnd.jupyter.widget-view+json": {
       "model_id": "a4ebf12bc84944488feca7c14494a437",
       "version_major": 2,
       "version_minor": 0
      },
      "text/plain": [
       "HBox(children=(FloatProgress(value=0.0, max=262.0), HTML(value='')))"
      ]
     },
     "metadata": {},
     "output_type": "display_data"
    },
    {
     "name": "stdout",
     "output_type": "stream",
     "text": [
      "\n",
      "[0.8281069160421233, 0.7990301724137931, 0.1055259703519358, 0.5412440012812157]\n",
      "Val loss: {0: [0.8281069160421233]}\n"
     ]
    },
    {
     "data": {
      "application/vnd.jupyter.widget-view+json": {
       "model_id": "e1e1c9dd8faa4108b99240c54393ef16",
       "version_major": 2,
       "version_minor": 0
      },
      "text/plain": [
       "HBox(children=(FloatProgress(value=0.0, max=128.0), HTML(value='')))"
      ]
     },
     "metadata": {},
     "output_type": "display_data"
    },
    {
     "name": "stdout",
     "output_type": "stream",
     "text": [
      "\n"
     ]
    },
    {
     "data": {
      "application/vnd.jupyter.widget-view+json": {
       "model_id": "8748048ca79c419b8115245fa1b61ea4",
       "version_major": 2,
       "version_minor": 0
      },
      "text/plain": [
       "HBox(children=(FloatProgress(value=0.0, max=262.0), HTML(value='')))"
      ]
     },
     "metadata": {},
     "output_type": "display_data"
    },
    {
     "name": "stdout",
     "output_type": "stream",
     "text": [
      "\n",
      "[0.9925952501223918, 0.7334770114942529, 0.15430688369890738, 0.4918995884700296]\n",
      "Val loss: {0: [0.8281069160421233, 0.9105895141127434]}\n"
     ]
    },
    {
     "data": {
      "application/vnd.jupyter.widget-view+json": {
       "model_id": "3c0fa3a746bd4135a16d35fe413778db",
       "version_major": 2,
       "version_minor": 0
      },
      "text/plain": [
       "HBox(children=(FloatProgress(value=0.0, max=128.0), HTML(value='')))"
      ]
     },
     "metadata": {},
     "output_type": "display_data"
    },
    {
     "name": "stdout",
     "output_type": "stream",
     "text": [
      "\n"
     ]
    },
    {
     "data": {
      "application/vnd.jupyter.widget-view+json": {
       "model_id": "cac8b366b6d847649f346eff6b3369a1",
       "version_major": 2,
       "version_minor": 0
      },
      "text/plain": [
       "HBox(children=(FloatProgress(value=0.0, max=262.0), HTML(value='')))"
      ]
     },
     "metadata": {},
     "output_type": "display_data"
    },
    {
     "name": "stdout",
     "output_type": "stream",
     "text": [
      "\n",
      "[0.8581205030967449, 0.7743354885057471, 0.07335673726495655, 0.25708096151836074]\n",
      "Val loss: {0: [0.8281069160421233, 0.9105895141127434, 0.8924771286702872]}\n"
     ]
    },
    {
     "data": {
      "application/vnd.jupyter.widget-view+json": {
       "model_id": "06222b41af094add94d4b0f59351780d",
       "version_major": 2,
       "version_minor": 0
      },
      "text/plain": [
       "HBox(children=(FloatProgress(value=0.0, max=128.0), HTML(value='')))"
      ]
     },
     "metadata": {},
     "output_type": "display_data"
    },
    {
     "name": "stdout",
     "output_type": "stream",
     "text": [
      "\n"
     ]
    },
    {
     "data": {
      "application/vnd.jupyter.widget-view+json": {
       "model_id": "0d4d57d9637c499193bbc397581796e7",
       "version_major": 2,
       "version_minor": 0
      },
      "text/plain": [
       "HBox(children=(FloatProgress(value=0.0, max=262.0), HTML(value='')))"
      ]
     },
     "metadata": {},
     "output_type": "display_data"
    },
    {
     "name": "stdout",
     "output_type": "stream",
     "text": [
      "\n",
      "[0.8102228426841941, 0.7866977969348659, 0.17757471779297138, 0.38904802184337856]\n",
      "Val loss: {0: [0.8281069160421233, 0.9105895141127434, 0.8924771286702872, 0.8722748382238076]}\n"
     ]
    },
    {
     "data": {
      "application/vnd.jupyter.widget-view+json": {
       "model_id": "dbc34331ba9045a2a59e53090e954ff7",
       "version_major": 2,
       "version_minor": 0
      },
      "text/plain": [
       "HBox(children=(FloatProgress(value=0.0, max=128.0), HTML(value='')))"
      ]
     },
     "metadata": {},
     "output_type": "display_data"
    },
    {
     "name": "stdout",
     "output_type": "stream",
     "text": [
      "\n"
     ]
    },
    {
     "data": {
      "application/vnd.jupyter.widget-view+json": {
       "model_id": "d1045978f68e49629bc143814d64151a",
       "version_major": 2,
       "version_minor": 0
      },
      "text/plain": [
       "HBox(children=(FloatProgress(value=0.0, max=262.0), HTML(value='')))"
      ]
     },
     "metadata": {},
     "output_type": "display_data"
    },
    {
     "name": "stdout",
     "output_type": "stream",
     "text": [
      "\n",
      "[0.8567848013735365, 0.7948694923371648, 0.14927875862895756, 0.5273755083709841]\n",
      "Val loss: {0: [0.8281069160421233, 0.9105895141127434, 0.8924771286702872, 0.8722748382238076, 0.8693136283145201]}\n"
     ]
    },
    {
     "data": {
      "application/vnd.jupyter.widget-view+json": {
       "model_id": "36fdc217d91b4215875e5365281ebb7b",
       "version_major": 2,
       "version_minor": 0
      },
      "text/plain": [
       "HBox(children=(FloatProgress(value=0.0, max=128.0), HTML(value='')))"
      ]
     },
     "metadata": {},
     "output_type": "display_data"
    },
    {
     "name": "stdout",
     "output_type": "stream",
     "text": [
      "\n"
     ]
    },
    {
     "data": {
      "application/vnd.jupyter.widget-view+json": {
       "model_id": "c8990c29bb16411e80683c4621eb1582",
       "version_major": 2,
       "version_minor": 0
      },
      "text/plain": [
       "HBox(children=(FloatProgress(value=0.0, max=262.0), HTML(value='')))"
      ]
     },
     "metadata": {},
     "output_type": "display_data"
    },
    {
     "name": "stdout",
     "output_type": "stream",
     "text": [
      "\n",
      "[0.8531065567243145, 0.7894516283524904, 0.11549870695533423, 0.4027369458842095]\n",
      "Val loss: {0: [0.8281069160421233, 0.9105895141127434, 0.8924771286702872, 0.8722748382238076, 0.8693136283145201, 0.8666636285311622]}\n"
     ]
    },
    {
     "data": {
      "application/vnd.jupyter.widget-view+json": {
       "model_id": "a889a29ec87042e392ffd5ae18ff70dd",
       "version_major": 2,
       "version_minor": 0
      },
      "text/plain": [
       "HBox(children=(FloatProgress(value=0.0, max=128.0), HTML(value='')))"
      ]
     },
     "metadata": {},
     "output_type": "display_data"
    },
    {
     "name": "stdout",
     "output_type": "stream",
     "text": [
      "\n"
     ]
    },
    {
     "data": {
      "application/vnd.jupyter.widget-view+json": {
       "model_id": "e4d897f439e648558123a544419c7cf2",
       "version_major": 2,
       "version_minor": 0
      },
      "text/plain": [
       "HBox(children=(FloatProgress(value=0.0, max=262.0), HTML(value='')))"
      ]
     },
     "metadata": {},
     "output_type": "display_data"
    },
    {
     "name": "stdout",
     "output_type": "stream",
     "text": [
      "\n",
      "[0.7775972889757704, 0.8061242816091954, 0.19811860030923767, 0.4036065364306457]\n",
      "Val loss: {0: [0.8281069160421233, 0.9105895141127434, 0.8924771286702872, 0.8722748382238076, 0.8693136283145201, 0.8666636285311622, 0.8542038544133839]}\n"
     ]
    },
    {
     "data": {
      "application/vnd.jupyter.widget-view+json": {
       "model_id": "611af708008d417ca62aba1e19cde521",
       "version_major": 2,
       "version_minor": 0
      },
      "text/plain": [
       "HBox(children=(FloatProgress(value=0.0, max=128.0), HTML(value='')))"
      ]
     },
     "metadata": {},
     "output_type": "display_data"
    },
    {
     "name": "stdout",
     "output_type": "stream",
     "text": [
      "\n"
     ]
    },
    {
     "data": {
      "application/vnd.jupyter.widget-view+json": {
       "model_id": "8bcdbbcccda4420f90593b541b68cf79",
       "version_major": 2,
       "version_minor": 0
      },
      "text/plain": [
       "HBox(children=(FloatProgress(value=0.0, max=262.0), HTML(value='')))"
      ]
     },
     "metadata": {},
     "output_type": "display_data"
    },
    {
     "name": "stdout",
     "output_type": "stream",
     "text": [
      "\n",
      "[0.8703401547738876, 0.7778675766283525, 0.1389885532930208, 0.39979826616144726]\n",
      "Val loss: {0: [0.8281069160421233, 0.9105895141127434, 0.8924771286702872, 0.8722748382238076, 0.8693136283145201, 0.8666636285311622, 0.8542038544133839, 0.8562569421145861]}\n",
      "\n"
     ]
    },
    {
     "data": {
      "application/vnd.jupyter.widget-view+json": {
       "model_id": "2ab49e10864246109ed538603a603c8a",
       "version_major": 2,
       "version_minor": 0
      },
      "text/plain": [
       "HBox(children=(FloatProgress(value=0.0, max=15.0), HTML(value='')))"
      ]
     },
     "metadata": {},
     "output_type": "display_data"
    },
    {
     "data": {
      "application/vnd.jupyter.widget-view+json": {
       "model_id": "c4341878b88e4d4fbedf287bf4f284b1",
       "version_major": 2,
       "version_minor": 0
      },
      "text/plain": [
       "HBox(children=(FloatProgress(value=0.0, max=128.0), HTML(value='')))"
      ]
     },
     "metadata": {},
     "output_type": "display_data"
    },
    {
     "name": "stdout",
     "output_type": "stream",
     "text": [
      "\n"
     ]
    },
    {
     "data": {
      "application/vnd.jupyter.widget-view+json": {
       "model_id": "8738189dfa664b05a9ec7df1aea57fa7",
       "version_major": 2,
       "version_minor": 0
      },
      "text/plain": [
       "HBox(children=(FloatProgress(value=0.0, max=262.0), HTML(value='')))"
      ]
     },
     "metadata": {},
     "output_type": "display_data"
    },
    {
     "name": "stdout",
     "output_type": "stream",
     "text": [
      "Epoch 1/1\n",
      "252/261 [===========================>..] - ETA: 0s - loss: 0.6195 - acc: 0.8640 - recall_m: 0.6110 - precision_m: 0.8016\n",
      "261/261 [==============================] - 24s 93ms/step - loss: 0.6179 - acc: 0.8643 - recall_m: 0.6111 - precision_m: 0.8047\n",
      "Train loss: {0: [1.6803342033163342, 1.192454763004138, 1.048453326514852, 0.9384002263460985, 0.8776981047002004, 0.8198577896726577, 0.7862382492191038, 0.7575672983565611, 0.7432610229920361, 0.7430573872992285, 0.7290655598790535, 0.7210331537519713, 0.7033488912363082, 0.6954681508923458, 0.684481616740026], 1: [0.6179229032490902]}\n"
     ]
    },
    {
     "data": {
      "application/vnd.jupyter.widget-view+json": {
       "model_id": "d6b750398b464f798612690a82bcbf62",
       "version_major": 2,
       "version_minor": 0
      },
      "text/plain": [
       "HBox(children=(FloatProgress(value=0.0, max=128.0), HTML(value='')))"
      ]
     },
     "metadata": {},
     "output_type": "display_data"
    },
    {
     "name": "stdout",
     "output_type": "stream",
     "text": [
      "\n"
     ]
    },
    {
     "data": {
      "application/vnd.jupyter.widget-view+json": {
       "model_id": "b10adc19327947bf9c80d61453f8ce04",
       "version_major": 2,
       "version_minor": 0
      },
      "text/plain": [
       "HBox(children=(FloatProgress(value=0.0, max=262.0), HTML(value='')))"
      ]
     },
     "metadata": {},
     "output_type": "display_data"
    },
    {
     "name": "stdout",
     "output_type": "stream",
     "text": [
      "Epoch 1/1\n",
      "252/261 [===========================>..] - ETA: 0s - loss: 0.5768 - acc: 0.8729 - recall_m: 0.5890 - precision_m: 0.7971\n",
      "261/261 [==============================] - 24s 92ms/step - loss: 0.5735 - acc: 0.8732 - recall_m: 0.5889 - precision_m: 0.7991\n",
      "Train loss: {0: [1.6803342033163342, 1.192454763004138, 1.048453326514852, 0.9384002263460985, 0.8776981047002004, 0.8198577896726577, 0.7862382492191038, 0.7575672983565611, 0.7432610229920361, 0.7430573872992285, 0.7290655598790535, 0.7210331537519713, 0.7033488912363082, 0.6954681508923458, 0.684481616740026], 1: [0.6179229032490902, 0.5948432306867573]}\n"
     ]
    },
    {
     "data": {
      "application/vnd.jupyter.widget-view+json": {
       "model_id": "43213e9887354847918377da18a75de7",
       "version_major": 2,
       "version_minor": 0
      },
      "text/plain": [
       "HBox(children=(FloatProgress(value=0.0, max=128.0), HTML(value='')))"
      ]
     },
     "metadata": {},
     "output_type": "display_data"
    },
    {
     "name": "stdout",
     "output_type": "stream",
     "text": [
      "\n"
     ]
    },
    {
     "data": {
      "application/vnd.jupyter.widget-view+json": {
       "model_id": "9ca9b77a9ede4ca682744b0dbebe0851",
       "version_major": 2,
       "version_minor": 0
      },
      "text/plain": [
       "HBox(children=(FloatProgress(value=0.0, max=262.0), HTML(value='')))"
      ]
     },
     "metadata": {},
     "output_type": "display_data"
    },
    {
     "name": "stdout",
     "output_type": "stream",
     "text": [
      "Epoch 1/1\n",
      "252/261 [===========================>..] - ETA: 0s - loss: 0.6615 - acc: 0.8779 - recall_m: 0.5816 - precision_m: 0.8055\n",
      "261/261 [==============================] - 24s 92ms/step - loss: 0.6623 - acc: 0.8778 - recall_m: 0.5829 - precision_m: 0.8046\n",
      "Train loss: {0: [1.6803342033163342, 1.192454763004138, 1.048453326514852, 0.9384002263460985, 0.8776981047002004, 0.8198577896726577, 0.7862382492191038, 0.7575672983565611, 0.7432610229920361, 0.7430573872992285, 0.7290655598790535, 0.7210331537519713, 0.7033488912363082, 0.6954681508923458, 0.684481616740026], 1: [0.6179229032490902, 0.5948432306867573, 0.6167410019638201]}\n"
     ]
    },
    {
     "data": {
      "application/vnd.jupyter.widget-view+json": {
       "model_id": "4bf904b0ea2e4c4d9208883fe39f3971",
       "version_major": 2,
       "version_minor": 0
      },
      "text/plain": [
       "HBox(children=(FloatProgress(value=0.0, max=128.0), HTML(value='')))"
      ]
     },
     "metadata": {},
     "output_type": "display_data"
    },
    {
     "name": "stdout",
     "output_type": "stream",
     "text": [
      "\n"
     ]
    },
    {
     "data": {
      "application/vnd.jupyter.widget-view+json": {
       "model_id": "756a751cf33e4a07917099c76a12a9af",
       "version_major": 2,
       "version_minor": 0
      },
      "text/plain": [
       "HBox(children=(FloatProgress(value=0.0, max=262.0), HTML(value='')))"
      ]
     },
     "metadata": {},
     "output_type": "display_data"
    },
    {
     "name": "stdout",
     "output_type": "stream",
     "text": [
      "Epoch 1/1\n",
      "252/261 [===========================>..] - ETA: 0s - loss: 0.6149 - acc: 0.8791 - recall_m: 0.5435 - precision_m: 0.8081\n",
      "261/261 [==============================] - 24s 93ms/step - loss: 0.6161 - acc: 0.8795 - recall_m: 0.5445 - precision_m: 0.8100\n",
      "Train loss: {0: [1.6803342033163342, 1.192454763004138, 1.048453326514852, 0.9384002263460985, 0.8776981047002004, 0.8198577896726577, 0.7862382492191038, 0.7575672983565611, 0.7432610229920361, 0.7430573872992285, 0.7290655598790535, 0.7210331537519713, 0.7033488912363082, 0.6954681508923458, 0.684481616740026], 1: [0.6179229032490902, 0.5948432306867573, 0.6167410019638201, 0.6165876358039056]}\n"
     ]
    },
    {
     "data": {
      "application/vnd.jupyter.widget-view+json": {
       "model_id": "ca51a0a1a9144645880c398dccea3421",
       "version_major": 2,
       "version_minor": 0
      },
      "text/plain": [
       "HBox(children=(FloatProgress(value=0.0, max=128.0), HTML(value='')))"
      ]
     },
     "metadata": {},
     "output_type": "display_data"
    },
    {
     "name": "stdout",
     "output_type": "stream",
     "text": [
      "\n"
     ]
    },
    {
     "data": {
      "application/vnd.jupyter.widget-view+json": {
       "model_id": "7d3228be665d4875947c46242fd375a1",
       "version_major": 2,
       "version_minor": 0
      },
      "text/plain": [
       "HBox(children=(FloatProgress(value=0.0, max=262.0), HTML(value='')))"
      ]
     },
     "metadata": {},
     "output_type": "display_data"
    },
    {
     "name": "stdout",
     "output_type": "stream",
     "text": [
      "Epoch 1/1\n",
      "252/261 [===========================>..] - ETA: 0s - loss: 0.6256 - acc: 0.8737 - recall_m: 0.6654 - precision_m: 0.8454\n",
      "261/261 [==============================] - 24s 92ms/step - loss: 0.6228 - acc: 0.8740 - recall_m: 0.6684 - precision_m: 0.8440\n",
      "Train loss: {0: [1.6803342033163342, 1.192454763004138, 1.048453326514852, 0.9384002263460985, 0.8776981047002004, 0.8198577896726577, 0.7862382492191038, 0.7575672983565611, 0.7432610229920361, 0.7430573872992285, 0.7290655598790535, 0.7210331537519713, 0.7033488912363082, 0.6954681508923458, 0.684481616740026], 1: [0.6179229032490902, 0.5948432306867573, 0.6167410019638201, 0.6165876358039056, 0.6178627264985305]}\n"
     ]
    },
    {
     "data": {
      "application/vnd.jupyter.widget-view+json": {
       "model_id": "ae9491d7fffd480fb2ccdac7fb5e2cc8",
       "version_major": 2,
       "version_minor": 0
      },
      "text/plain": [
       "HBox(children=(FloatProgress(value=0.0, max=128.0), HTML(value='')))"
      ]
     },
     "metadata": {},
     "output_type": "display_data"
    },
    {
     "name": "stdout",
     "output_type": "stream",
     "text": [
      "\n"
     ]
    },
    {
     "data": {
      "application/vnd.jupyter.widget-view+json": {
       "model_id": "dbcac1ac488e4f44b902bc71ec8ded53",
       "version_major": 2,
       "version_minor": 0
      },
      "text/plain": [
       "HBox(children=(FloatProgress(value=0.0, max=262.0), HTML(value='')))"
      ]
     },
     "metadata": {},
     "output_type": "display_data"
    },
    {
     "name": "stdout",
     "output_type": "stream",
     "text": [
      "Epoch 1/1\n",
      "252/261 [===========================>..] - ETA: 0s - loss: 0.5783 - acc: 0.8740 - recall_m: 0.5578 - precision_m: 0.7837\n",
      "261/261 [==============================] - 24s 93ms/step - loss: 0.5797 - acc: 0.8741 - recall_m: 0.5602 - precision_m: 0.7843\n",
      "Train loss: {0: [1.6803342033163342, 1.192454763004138, 1.048453326514852, 0.9384002263460985, 0.8776981047002004, 0.8198577896726577, 0.7862382492191038, 0.7575672983565611, 0.7432610229920361, 0.7430573872992285, 0.7290655598790535, 0.7210331537519713, 0.7033488912363082, 0.6954681508923458, 0.684481616740026], 1: [0.6179229032490902, 0.5948432306867573, 0.6167410019638201, 0.6165876358039056, 0.6178627264985305, 0.6116189039656329]}\n"
     ]
    },
    {
     "data": {
      "application/vnd.jupyter.widget-view+json": {
       "model_id": "b8f290fc3fc94fd28465e146fca574e7",
       "version_major": 2,
       "version_minor": 0
      },
      "text/plain": [
       "HBox(children=(FloatProgress(value=0.0, max=128.0), HTML(value='')))"
      ]
     },
     "metadata": {},
     "output_type": "display_data"
    },
    {
     "name": "stdout",
     "output_type": "stream",
     "text": [
      "\n"
     ]
    },
    {
     "data": {
      "application/vnd.jupyter.widget-view+json": {
       "model_id": "a94e5f71e2454c429166fa99e6540d28",
       "version_major": 2,
       "version_minor": 0
      },
      "text/plain": [
       "HBox(children=(FloatProgress(value=0.0, max=262.0), HTML(value='')))"
      ]
     },
     "metadata": {},
     "output_type": "display_data"
    },
    {
     "name": "stdout",
     "output_type": "stream",
     "text": [
      "Epoch 1/1\n",
      "252/261 [===========================>..] - ETA: 0s - loss: 0.5661 - acc: 0.8544 - recall_m: 0.5739 - precision_m: 0.7410\n",
      "261/261 [==============================] - 24s 93ms/step - loss: 0.5637 - acc: 0.8551 - recall_m: 0.5764 - precision_m: 0.7423\n",
      "Train loss: {0: [1.6803342033163342, 1.192454763004138, 1.048453326514852, 0.9384002263460985, 0.8776981047002004, 0.8198577896726577, 0.7862382492191038, 0.7575672983565611, 0.7432610229920361, 0.7430573872992285, 0.7290655598790535, 0.7210331537519713, 0.7033488912363082, 0.6954681508923458, 0.684481616740026], 1: [0.6179229032490902, 0.5948432306867573, 0.6167410019638201, 0.6165876358039056, 0.6178627264985305, 0.6116189039656329, 0.604680796652444]}\n"
     ]
    },
    {
     "data": {
      "application/vnd.jupyter.widget-view+json": {
       "model_id": "5cb1598ad4c741bd8b255b12e16e9c17",
       "version_major": 2,
       "version_minor": 0
      },
      "text/plain": [
       "HBox(children=(FloatProgress(value=0.0, max=128.0), HTML(value='')))"
      ]
     },
     "metadata": {},
     "output_type": "display_data"
    },
    {
     "name": "stdout",
     "output_type": "stream",
     "text": [
      "\n"
     ]
    },
    {
     "data": {
      "application/vnd.jupyter.widget-view+json": {
       "model_id": "269799f6a5f64092a49f98752dc4148d",
       "version_major": 2,
       "version_minor": 0
      },
      "text/plain": [
       "HBox(children=(FloatProgress(value=0.0, max=262.0), HTML(value='')))"
      ]
     },
     "metadata": {},
     "output_type": "display_data"
    },
    {
     "name": "stdout",
     "output_type": "stream",
     "text": [
      "Epoch 1/1\n",
      "252/261 [===========================>..] - ETA: 0s - loss: 0.5150 - acc: 0.8820 - recall_m: 0.6557 - precision_m: 0.8043\n",
      "261/261 [==============================] - 24s 93ms/step - loss: 0.5126 - acc: 0.8818 - recall_m: 0.6543 - precision_m: 0.8043\n",
      "Train loss: {0: [1.6803342033163342, 1.192454763004138, 1.048453326514852, 0.9384002263460985, 0.8776981047002004, 0.8198577896726577, 0.7862382492191038, 0.7575672983565611, 0.7432610229920361, 0.7430573872992285, 0.7290655598790535, 0.7210331537519713, 0.7033488912363082, 0.6954681508923458, 0.684481616740026], 1: [0.6179229032490902, 0.5948432306867573, 0.6167410019638201, 0.6165876358039056, 0.6178627264985305, 0.6116189039656329, 0.604680796652444, 0.5928983457905049]}\n"
     ]
    },
    {
     "data": {
      "application/vnd.jupyter.widget-view+json": {
       "model_id": "8bbf84b2c620409492f0d7f618882464",
       "version_major": 2,
       "version_minor": 0
      },
      "text/plain": [
       "HBox(children=(FloatProgress(value=0.0, max=128.0), HTML(value='')))"
      ]
     },
     "metadata": {},
     "output_type": "display_data"
    },
    {
     "name": "stdout",
     "output_type": "stream",
     "text": [
      "\n"
     ]
    },
    {
     "data": {
      "application/vnd.jupyter.widget-view+json": {
       "model_id": "c516c1fdbac446c99e821880feacdef4",
       "version_major": 2,
       "version_minor": 0
      },
      "text/plain": [
       "HBox(children=(FloatProgress(value=0.0, max=262.0), HTML(value='')))"
      ]
     },
     "metadata": {},
     "output_type": "display_data"
    },
    {
     "name": "stdout",
     "output_type": "stream",
     "text": [
      "Epoch 1/1\n",
      "252/261 [===========================>..] - ETA: 0s - loss: 0.5665 - acc: 0.8679 - recall_m: 0.7043 - precision_m: 0.7917\n",
      "261/261 [==============================] - 24s 93ms/step - loss: 0.5638 - acc: 0.8688 - recall_m: 0.7054 - precision_m: 0.7930\n",
      "Train loss: {0: [1.6803342033163342, 1.192454763004138, 1.048453326514852, 0.9384002263460985, 0.8776981047002004, 0.8198577896726577, 0.7862382492191038, 0.7575672983565611, 0.7432610229920361, 0.7430573872992285, 0.7290655598790535, 0.7210331537519713, 0.7033488912363082, 0.6954681508923458, 0.684481616740026], 1: [0.6179229032490902, 0.5948432306867573, 0.6167410019638201, 0.6165876358039056, 0.6178627264985305, 0.6116189039656329, 0.604680796652444, 0.5928983457905049, 0.5897887729925787]}\n"
     ]
    },
    {
     "data": {
      "application/vnd.jupyter.widget-view+json": {
       "model_id": "f41f466a606649dd9ba429e5eeb0ef1d",
       "version_major": 2,
       "version_minor": 0
      },
      "text/plain": [
       "HBox(children=(FloatProgress(value=0.0, max=128.0), HTML(value='')))"
      ]
     },
     "metadata": {},
     "output_type": "display_data"
    },
    {
     "name": "stdout",
     "output_type": "stream",
     "text": [
      "\n"
     ]
    },
    {
     "data": {
      "application/vnd.jupyter.widget-view+json": {
       "model_id": "101fb52887ea43adba12caa208675325",
       "version_major": 2,
       "version_minor": 0
      },
      "text/plain": [
       "HBox(children=(FloatProgress(value=0.0, max=262.0), HTML(value='')))"
      ]
     },
     "metadata": {},
     "output_type": "display_data"
    },
    {
     "name": "stdout",
     "output_type": "stream",
     "text": [
      "Epoch 1/1\n",
      "252/261 [===========================>..] - ETA: 0s - loss: 0.6419 - acc: 0.8760 - recall_m: 0.5935 - precision_m: 0.7987\n",
      "261/261 [==============================] - 24s 92ms/step - loss: 0.6381 - acc: 0.8767 - recall_m: 0.5963 - precision_m: 0.7991\n",
      "Train loss: {0: [1.6803342033163342, 1.192454763004138, 1.048453326514852, 0.9384002263460985, 0.8776981047002004, 0.8198577896726577, 0.7862382492191038, 0.7575672983565611, 0.7432610229920361, 0.7430573872992285, 0.7290655598790535, 0.7210331537519713, 0.7033488912363082, 0.6954681508923458, 0.684481616740026], 1: [0.6179229032490902, 0.5948432306867573, 0.6167410019638201, 0.6165876358039056, 0.6178627264985305, 0.6116189039656329, 0.604680796652444, 0.5928983457905049, 0.5897887729925787, 0.5945049200120445]}\n"
     ]
    },
    {
     "data": {
      "application/vnd.jupyter.widget-view+json": {
       "model_id": "4d4ffcf7e7f048fab40b84369a6bd6b2",
       "version_major": 2,
       "version_minor": 0
      },
      "text/plain": [
       "HBox(children=(FloatProgress(value=0.0, max=128.0), HTML(value='')))"
      ]
     },
     "metadata": {},
     "output_type": "display_data"
    },
    {
     "name": "stdout",
     "output_type": "stream",
     "text": [
      "\n"
     ]
    },
    {
     "data": {
      "application/vnd.jupyter.widget-view+json": {
       "model_id": "9f37d70e4d524e36bfc8c34485ef4ece",
       "version_major": 2,
       "version_minor": 0
      },
      "text/plain": [
       "HBox(children=(FloatProgress(value=0.0, max=262.0), HTML(value='')))"
      ]
     },
     "metadata": {},
     "output_type": "display_data"
    },
    {
     "name": "stdout",
     "output_type": "stream",
     "text": [
      "Epoch 1/1\n",
      "252/261 [===========================>..] - ETA: 0s - loss: 0.5148 - acc: 0.8756 - recall_m: 0.4996 - precision_m: 0.7341\n",
      "261/261 [==============================] - 24s 93ms/step - loss: 0.5155 - acc: 0.8754 - recall_m: 0.5020 - precision_m: 0.7343\n",
      "Train loss: {0: [1.6803342033163342, 1.192454763004138, 1.048453326514852, 0.9384002263460985, 0.8776981047002004, 0.8198577896726577, 0.7862382492191038, 0.7575672983565611, 0.7432610229920361, 0.7430573872992285, 0.7290655598790535, 0.7210331537519713, 0.7033488912363082, 0.6954681508923458, 0.684481616740026], 1: [0.6179229032490902, 0.5948432306867573, 0.6167410019638201, 0.6165876358039056, 0.6178627264985305, 0.6116189039656329, 0.604680796652444, 0.5928983457905049, 0.5897887729925787, 0.5945049200120445, 0.5871985733130765]}\n"
     ]
    },
    {
     "data": {
      "application/vnd.jupyter.widget-view+json": {
       "model_id": "4889e37909024a00875edac40cbe7f81",
       "version_major": 2,
       "version_minor": 0
      },
      "text/plain": [
       "HBox(children=(FloatProgress(value=0.0, max=128.0), HTML(value='')))"
      ]
     },
     "metadata": {},
     "output_type": "display_data"
    },
    {
     "name": "stdout",
     "output_type": "stream",
     "text": [
      "\n"
     ]
    },
    {
     "data": {
      "application/vnd.jupyter.widget-view+json": {
       "model_id": "adfc8c9f48e146108c61cb269bc1a4a4",
       "version_major": 2,
       "version_minor": 0
      },
      "text/plain": [
       "HBox(children=(FloatProgress(value=0.0, max=262.0), HTML(value='')))"
      ]
     },
     "metadata": {},
     "output_type": "display_data"
    },
    {
     "name": "stdout",
     "output_type": "stream",
     "text": [
      "Epoch 1/1\n",
      "252/261 [===========================>..] - ETA: 0s - loss: 0.4932 - acc: 0.8661 - recall_m: 0.6343 - precision_m: 0.7886\n",
      "261/261 [==============================] - 24s 93ms/step - loss: 0.4913 - acc: 0.8664 - recall_m: 0.6356 - precision_m: 0.7896\n",
      "Train loss: {0: [1.6803342033163342, 1.192454763004138, 1.048453326514852, 0.9384002263460985, 0.8776981047002004, 0.8198577896726577, 0.7862382492191038, 0.7575672983565611, 0.7432610229920361, 0.7430573872992285, 0.7290655598790535, 0.7210331537519713, 0.7033488912363082, 0.6954681508923458, 0.684481616740026], 1: [0.6179229032490902, 0.5948432306867573, 0.6167410019638201, 0.6165876358039056, 0.6178627264985305, 0.6116189039656329, 0.604680796652444, 0.5928983457905049, 0.5897887729925787, 0.5945049200120445, 0.5871985733130765, 0.5790858557272157]}\n"
     ]
    },
    {
     "data": {
      "application/vnd.jupyter.widget-view+json": {
       "model_id": "602a1fc032aa43fe8d1779c9eb9d3690",
       "version_major": 2,
       "version_minor": 0
      },
      "text/plain": [
       "HBox(children=(FloatProgress(value=0.0, max=128.0), HTML(value='')))"
      ]
     },
     "metadata": {},
     "output_type": "display_data"
    },
    {
     "name": "stdout",
     "output_type": "stream",
     "text": [
      "\n"
     ]
    },
    {
     "data": {
      "application/vnd.jupyter.widget-view+json": {
       "model_id": "b76dd1ef23e64a6bb54f144ab79d8bbd",
       "version_major": 2,
       "version_minor": 0
      },
      "text/plain": [
       "HBox(children=(FloatProgress(value=0.0, max=262.0), HTML(value='')))"
      ]
     },
     "metadata": {},
     "output_type": "display_data"
    },
    {
     "name": "stdout",
     "output_type": "stream",
     "text": [
      "Epoch 1/1\n",
      "252/261 [===========================>..] - ETA: 0s - loss: 0.4883 - acc: 0.8760 - recall_m: 0.6419 - precision_m: 0.8209\n",
      "261/261 [==============================] - 24s 93ms/step - loss: 0.4909 - acc: 0.8754 - recall_m: 0.6387 - precision_m: 0.8205\n",
      "Train loss: {0: [1.6803342033163342, 1.192454763004138, 1.048453326514852, 0.9384002263460985, 0.8776981047002004, 0.8198577896726577, 0.7862382492191038, 0.7575672983565611, 0.7432610229920361, 0.7430573872992285, 0.7290655598790535, 0.7210331537519713, 0.7033488912363082, 0.6954681508923458, 0.684481616740026], 1: [0.6179229032490902, 0.5948432306867573, 0.6167410019638201, 0.6165876358039056, 0.6178627264985305, 0.6116189039656329, 0.604680796652444, 0.5928983457905049, 0.5897887729925787, 0.5945049200120445, 0.5871985733130765, 0.5790858557272157, 0.5721027988833733]}\n"
     ]
    },
    {
     "data": {
      "application/vnd.jupyter.widget-view+json": {
       "model_id": "877600a1a580412c9a2dd32b9510b8e5",
       "version_major": 2,
       "version_minor": 0
      },
      "text/plain": [
       "HBox(children=(FloatProgress(value=0.0, max=128.0), HTML(value='')))"
      ]
     },
     "metadata": {},
     "output_type": "display_data"
    },
    {
     "name": "stdout",
     "output_type": "stream",
     "text": [
      "\n"
     ]
    },
    {
     "data": {
      "application/vnd.jupyter.widget-view+json": {
       "model_id": "11ac23c5fc7f4885946d707e981cfdbf",
       "version_major": 2,
       "version_minor": 0
      },
      "text/plain": [
       "HBox(children=(FloatProgress(value=0.0, max=262.0), HTML(value='')))"
      ]
     },
     "metadata": {},
     "output_type": "display_data"
    },
    {
     "name": "stdout",
     "output_type": "stream",
     "text": [
      "Epoch 1/1\n",
      "252/261 [===========================>..] - ETA: 0s - loss: 0.5792 - acc: 0.8877 - recall_m: 0.6150 - precision_m: 0.8238\n",
      "261/261 [==============================] - 24s 93ms/step - loss: 0.5771 - acc: 0.8875 - recall_m: 0.6153 - precision_m: 0.8232\n",
      "Train loss: {0: [1.6803342033163342, 1.192454763004138, 1.048453326514852, 0.9384002263460985, 0.8776981047002004, 0.8198577896726577, 0.7862382492191038, 0.7575672983565611, 0.7432610229920361, 0.7430573872992285, 0.7290655598790535, 0.7210331537519713, 0.7033488912363082, 0.6954681508923458, 0.684481616740026], 1: [0.6179229032490902, 0.5948432306867573, 0.6167410019638201, 0.6165876358039056, 0.6178627264985305, 0.6116189039656329, 0.604680796652444, 0.5928983457905049, 0.5897887729925787, 0.5945049200120445, 0.5871985733130765, 0.5790858557272157, 0.5721027988833733, 0.5724520715470163]}\n"
     ]
    },
    {
     "data": {
      "application/vnd.jupyter.widget-view+json": {
       "model_id": "7e59eba537f846b8b92a59aaa0b5bdfd",
       "version_major": 2,
       "version_minor": 0
      },
      "text/plain": [
       "HBox(children=(FloatProgress(value=0.0, max=128.0), HTML(value='')))"
      ]
     },
     "metadata": {},
     "output_type": "display_data"
    },
    {
     "name": "stdout",
     "output_type": "stream",
     "text": [
      "\n"
     ]
    },
    {
     "data": {
      "application/vnd.jupyter.widget-view+json": {
       "model_id": "9d890230d6ec460f9b2a2894fdcf2f73",
       "version_major": 2,
       "version_minor": 0
      },
      "text/plain": [
       "HBox(children=(FloatProgress(value=0.0, max=262.0), HTML(value='')))"
      ]
     },
     "metadata": {},
     "output_type": "display_data"
    },
    {
     "name": "stdout",
     "output_type": "stream",
     "text": [
      "Epoch 1/1\n",
      "252/261 [===========================>..] - ETA: 0s - loss: 0.5250 - acc: 0.8823 - recall_m: 0.6130 - precision_m: 0.7690\n",
      "261/261 [==============================] - 24s 93ms/step - loss: 0.5226 - acc: 0.8824 - recall_m: 0.6159 - precision_m: 0.7684\n",
      "Train loss: {0: [1.6803342033163342, 1.192454763004138, 1.048453326514852, 0.9384002263460985, 0.8776981047002004, 0.8198577896726577, 0.7862382492191038, 0.7575672983565611, 0.7432610229920361, 0.7430573872992285, 0.7290655598790535, 0.7210331537519713, 0.7033488912363082, 0.6954681508923458, 0.684481616740026], 1: [0.6179229032490902, 0.5948432306867573, 0.6167410019638201, 0.6165876358039056, 0.6178627264985305, 0.6116189039656329, 0.604680796652444, 0.5928983457905049, 0.5897887729925787, 0.5945049200120445, 0.5871985733130765, 0.5790858557272157, 0.5721027988833733, 0.5724520715470163, 0.5691993314747644]}\n",
      "\n"
     ]
    },
    {
     "data": {
      "application/vnd.jupyter.widget-view+json": {
       "model_id": "1a940831b30549b79deca95f65bdb3c3",
       "version_major": 2,
       "version_minor": 0
      },
      "text/plain": [
       "HBox(children=(FloatProgress(value=0.0, max=8.0), HTML(value='')))"
      ]
     },
     "metadata": {},
     "output_type": "display_data"
    },
    {
     "data": {
      "application/vnd.jupyter.widget-view+json": {
       "model_id": "db8c2106cad640698f01967847434337",
       "version_major": 2,
       "version_minor": 0
      },
      "text/plain": [
       "HBox(children=(FloatProgress(value=0.0, max=128.0), HTML(value='')))"
      ]
     },
     "metadata": {},
     "output_type": "display_data"
    },
    {
     "name": "stdout",
     "output_type": "stream",
     "text": [
      "\n"
     ]
    },
    {
     "data": {
      "application/vnd.jupyter.widget-view+json": {
       "model_id": "b6340b553e8d4d7097c96ec9d032539c",
       "version_major": 2,
       "version_minor": 0
      },
      "text/plain": [
       "HBox(children=(FloatProgress(value=0.0, max=262.0), HTML(value='')))"
      ]
     },
     "metadata": {},
     "output_type": "display_data"
    },
    {
     "name": "stdout",
     "output_type": "stream",
     "text": [
      "\n",
      "[0.7518572983157132, 0.741977969348659, 0.38000217399834674, 0.4029614268249022]\n",
      "Val loss: {0: [0.8281069160421233, 0.9105895141127434, 0.8924771286702872, 0.8722748382238076, 0.8693136283145201, 0.8666636285311622, 0.8542038544133839, 0.8562569421145861], 1: [0.7518572983157132]}\n"
     ]
    },
    {
     "data": {
      "application/vnd.jupyter.widget-view+json": {
       "model_id": "ed01f0c02a9e433bbb8ce58d1145c18a",
       "version_major": 2,
       "version_minor": 0
      },
      "text/plain": [
       "HBox(children=(FloatProgress(value=0.0, max=128.0), HTML(value='')))"
      ]
     },
     "metadata": {},
     "output_type": "display_data"
    },
    {
     "name": "stdout",
     "output_type": "stream",
     "text": [
      "\n"
     ]
    },
    {
     "data": {
      "application/vnd.jupyter.widget-view+json": {
       "model_id": "69088fce27404fea8e5c59896e14d8a9",
       "version_major": 2,
       "version_minor": 0
      },
      "text/plain": [
       "HBox(children=(FloatProgress(value=0.0, max=262.0), HTML(value='')))"
      ]
     },
     "metadata": {},
     "output_type": "display_data"
    },
    {
     "name": "stdout",
     "output_type": "stream",
     "text": [
      "\n",
      "[0.7639885078901532, 0.7285081417624522, 0.502780687420761, 0.4329612979030244]\n",
      "Val loss: {0: [0.8281069160421233, 0.9105895141127434, 0.8924771286702872, 0.8722748382238076, 0.8693136283145201, 0.8666636285311622, 0.8542038544133839, 0.8562569421145861], 1: [0.7518572983157132, 0.7579148355656645]}\n"
     ]
    },
    {
     "data": {
      "application/vnd.jupyter.widget-view+json": {
       "model_id": "b66442e09a21452b81ad80b9b45ac95a",
       "version_major": 2,
       "version_minor": 0
      },
      "text/plain": [
       "HBox(children=(FloatProgress(value=0.0, max=128.0), HTML(value='')))"
      ]
     },
     "metadata": {},
     "output_type": "display_data"
    },
    {
     "name": "stdout",
     "output_type": "stream",
     "text": [
      "\n"
     ]
    },
    {
     "data": {
      "application/vnd.jupyter.widget-view+json": {
       "model_id": "3bd7b7fd7edb490caba01d4c504d8cbb",
       "version_major": 2,
       "version_minor": 0
      },
      "text/plain": [
       "HBox(children=(FloatProgress(value=0.0, max=262.0), HTML(value='')))"
      ]
     },
     "metadata": {},
     "output_type": "display_data"
    },
    {
     "name": "stdout",
     "output_type": "stream",
     "text": [
      "\n",
      "[0.8483042938499158, 0.7131226053639846, 0.3819472561394118, 0.3427690656077816]\n",
      "Val loss: {0: [0.8281069160421233, 0.9105895141127434, 0.8924771286702872, 0.8722748382238076, 0.8693136283145201, 0.8666636285311622, 0.8542038544133839, 0.8562569421145861], 1: [0.7518572983157132, 0.7579148355656645, 0.7885375091828664]}\n"
     ]
    },
    {
     "data": {
      "application/vnd.jupyter.widget-view+json": {
       "model_id": "46cedc8c114e4800b0dab8f83bc29e47",
       "version_major": 2,
       "version_minor": 0
      },
      "text/plain": [
       "HBox(children=(FloatProgress(value=0.0, max=128.0), HTML(value='')))"
      ]
     },
     "metadata": {},
     "output_type": "display_data"
    },
    {
     "name": "stdout",
     "output_type": "stream",
     "text": [
      "\n"
     ]
    },
    {
     "data": {
      "application/vnd.jupyter.widget-view+json": {
       "model_id": "bcbfb22d5304439cac5cb86fafb38763",
       "version_major": 2,
       "version_minor": 0
      },
      "text/plain": [
       "HBox(children=(FloatProgress(value=0.0, max=262.0), HTML(value='')))"
      ]
     },
     "metadata": {},
     "output_type": "display_data"
    },
    {
     "name": "stdout",
     "output_type": "stream",
     "text": [
      "\n",
      "[0.6916697749232881, 0.7746647509578544, 0.5412419626767608, 0.5018718718797311]\n",
      "Val loss: {0: [0.8281069160421233, 0.9105895141127434, 0.8924771286702872, 0.8722748382238076, 0.8693136283145201, 0.8666636285311622, 0.8542038544133839, 0.8562569421145861], 1: [0.7518572983157132, 0.7579148355656645, 0.7885375091828664, 0.7649469645112733]}\n"
     ]
    },
    {
     "data": {
      "application/vnd.jupyter.widget-view+json": {
       "model_id": "d1cca97ef8854e1cadcd335e630f2a03",
       "version_major": 2,
       "version_minor": 0
      },
      "text/plain": [
       "HBox(children=(FloatProgress(value=0.0, max=128.0), HTML(value='')))"
      ]
     },
     "metadata": {},
     "output_type": "display_data"
    },
    {
     "name": "stdout",
     "output_type": "stream",
     "text": [
      "\n"
     ]
    },
    {
     "data": {
      "application/vnd.jupyter.widget-view+json": {
       "model_id": "1ae48695f7864f9ba6ae22be6c78ab78",
       "version_major": 2,
       "version_minor": 0
      },
      "text/plain": [
       "HBox(children=(FloatProgress(value=0.0, max=262.0), HTML(value='')))"
      ]
     },
     "metadata": {},
     "output_type": "display_data"
    },
    {
     "name": "stdout",
     "output_type": "stream",
     "text": [
      "\n",
      "[0.7073383849699378, 0.7788254310344828, 0.5107353492943263, 0.4344153666861669]\n",
      "Val loss: {0: [0.8281069160421233, 0.9105895141127434, 0.8924771286702872, 0.8722748382238076, 0.8693136283145201, 0.8666636285311622, 0.8542038544133839, 0.8562569421145861], 1: [0.7518572983157132, 0.7579148355656645, 0.7885375091828664, 0.7649469645112733, 0.7534193625854283]}\n"
     ]
    },
    {
     "data": {
      "application/vnd.jupyter.widget-view+json": {
       "model_id": "9c13113ac4c2481981e90baa7d91ffa0",
       "version_major": 2,
       "version_minor": 0
      },
      "text/plain": [
       "HBox(children=(FloatProgress(value=0.0, max=128.0), HTML(value='')))"
      ]
     },
     "metadata": {},
     "output_type": "display_data"
    }
   ],
   "source": [
    "for epoch in tqdm(range(10)):\n",
    "    total_train_history[epoch] = []\n",
    "    total_val_history[epoch] = []\n",
    "    \n",
    "    total_train_loss = 0\n",
    "    total_train_chunks = 0\n",
    "    \n",
    "    total_val_loss = 0\n",
    "    total_val_chunks = 0\n",
    "    \n",
    "    \n",
    "    for train_files in tqdm_notebook(list(iterate_files(train_df))):\n",
    "        train_data, train_events = get_data_multiple(train_df, train_files)\n",
    "        train_generator = ChunksIterator(train_data, train_events, tqdm_enabled=True)\n",
    "        \n",
    "        train_chunks = train_generator.iterations_number\n",
    "        \n",
    "        train_history = model.fit_generator(\n",
    "            train_generator, \n",
    "            epochs=1, \n",
    "            steps_per_epoch=train_chunks - GENERATOR_PAD_BUG,\n",
    "#             class_weight=[1, 10]\n",
    "        )\n",
    "        \n",
    "        total_train_loss += train_history.history['loss'][0] * train_generator.valid_chunks\n",
    "        total_train_chunks += train_generator.valid_chunks\n",
    "        \n",
    "        model.reset_states()\n",
    "        \n",
    "        del train_generator\n",
    "        del train_data\n",
    "        del train_events\n",
    "        \n",
    "        total_train_history[epoch].append(total_train_loss / total_train_chunks)\n",
    "        print(\"Train loss:\", total_train_history)\n",
    "        \n",
    "        model.save_weights(\"./models/big-fc-fft-model-{}.h5\".format(epoch))\n",
    "        \n",
    "    for val_files in tqdm_notebook(list(iterate_files(val_df))):\n",
    "        val_data, val_events = get_data_multiple(val_df, val_files)\n",
    "        val_generator = ChunksIterator(val_data, val_events, tqdm_enabled=True)\n",
    "        \n",
    "        val_chunks = val_generator.iterations_number\n",
    "        \n",
    "        val_metrics = model.evaluate_generator(\n",
    "            val_generator,\n",
    "            steps=val_chunks - GENERATOR_PAD_BUG\n",
    "        )\n",
    "        \n",
    "        print(val_metrics)\n",
    "        \n",
    "        total_val_loss += val_metrics[0] * val_generator.valid_chunks\n",
    "        total_val_chunks += val_generator.valid_chunks\n",
    "        \n",
    "        model.reset_states()\n",
    "        del val_generator\n",
    "        del val_data\n",
    "        del val_events\n",
    "        \n",
    "        total_val_history[epoch].append(total_val_loss / total_val_chunks)\n",
    "        print(\"Val loss:\", total_val_history)\n",
    "    "
   ]
  },
  {
   "cell_type": "markdown",
   "metadata": {},
   "source": [
    "# Search of hyperparams"
   ]
  }
 ],
 "metadata": {
  "kernelspec": {
   "display_name": "Python 3",
   "language": "python",
   "name": "python3"
  },
  "language_info": {
   "codemirror_mode": {
    "name": "ipython",
    "version": 3
   },
   "file_extension": ".py",
   "mimetype": "text/x-python",
   "name": "python",
   "nbconvert_exporter": "python",
   "pygments_lexer": "ipython3",
   "version": "3.5.2"
  }
 },
 "nbformat": 4,
 "nbformat_minor": 2
}
